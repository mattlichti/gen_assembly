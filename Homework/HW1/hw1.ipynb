{
 "metadata": {
  "name": "",
  "signature": "sha256:5342320396f090593070fd6126e782ef7ee5cbaf87eb36037d6e7add730e6fa8"
 },
 "nbformat": 3,
 "nbformat_minor": 0,
 "worksheets": [
  {
   "cells": [
    {
     "cell_type": "code",
     "collapsed": false,
     "input": [
      "import json\n",
      "from datetime import datetime"
     ],
     "language": "python",
     "metadata": {},
     "outputs": [],
     "prompt_number": 112
    },
    {
     "cell_type": "code",
     "collapsed": false,
     "input": [
      "#Load the json data into a python list \n",
      "data = json.load(open('ga_hw_logins.json'))"
     ],
     "language": "python",
     "metadata": {},
     "outputs": [],
     "prompt_number": 113
    },
    {
     "cell_type": "code",
     "collapsed": false,
     "input": [
      "#convert each of the dates into datetime objects\n",
      "date_objs = [] #list of date objects\n",
      "for line in data:\n",
      "    date_objs.append(datetime.strptime(line,'%Y-%m-%d %H:%M:%S'))"
     ],
     "language": "python",
     "metadata": {},
     "outputs": [],
     "prompt_number": 121
    },
    {
     "cell_type": "code",
     "collapsed": false,
     "input": [
      "#random testing\n",
      "print date_objs[5]\n",
      "print date_objs[5].day\n",
      "print date_objs[2187].second\n"
     ],
     "language": "python",
     "metadata": {},
     "outputs": [
      {
       "output_type": "stream",
       "stream": "stdout",
       "text": [
        "2014-01-20 00:08:15\n",
        "20\n",
        "47\n"
       ]
      }
     ],
     "prompt_number": 124
    },
    {
     "cell_type": "code",
     "collapsed": false,
     "input": [],
     "language": "python",
     "metadata": {},
     "outputs": []
    }
   ],
   "metadata": {}
  }
 ]
}