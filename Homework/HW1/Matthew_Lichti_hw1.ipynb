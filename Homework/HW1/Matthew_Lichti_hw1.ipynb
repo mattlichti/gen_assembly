{
 "metadata": {
  "name": "",
  "signature": "sha256:d23fbde5f95bad736ac210b54d71b0402d5643b07615cf2b8be4049297066f87"
 },
 "nbformat": 3,
 "nbformat_minor": 0,
 "worksheets": [
  {
   "cells": [
    {
     "cell_type": "code",
     "collapsed": false,
     "input": [
      "import json\n",
      "from datetime import datetime"
     ],
     "language": "python",
     "metadata": {},
     "outputs": [],
     "prompt_number": 159
    },
    {
     "cell_type": "code",
     "collapsed": false,
     "input": [
      "#step 1\n",
      "#Load the json data into a python list \n",
      "data = json.load(open('ga_hw_logins.json'))"
     ],
     "language": "python",
     "metadata": {},
     "outputs": [],
     "prompt_number": 160
    },
    {
     "cell_type": "code",
     "collapsed": false,
     "input": [
      "#step 2\n",
      "#convert each of the dates into datetime objects\n",
      "date_objs = [] #list of date objects\n",
      "for line in data:\n",
      "    date_objs.append(datetime.strptime(line,'%Y-%m-%d %H:%M:%S'))"
     ],
     "language": "python",
     "metadata": {},
     "outputs": [],
     "prompt_number": 161
    },
    {
     "cell_type": "code",
     "collapsed": false,
     "input": [
      "#ex credit\n",
      "import os.path\n",
      "import sqlite3"
     ],
     "language": "python",
     "metadata": {},
     "outputs": [],
     "prompt_number": 162
    },
    {
     "cell_type": "code",
     "collapsed": false,
     "input": [
      "#creating sqlite database\n",
      "conn = sqlite3.connect('time_stamps.db')\n",
      "c = conn.cursor()\n",
      "\n",
      "# creating table with year, month, day, hour, min, sec columns\n",
      "c.execute(\"DROP TABLE IF EXISTS datetimes\")\n",
      "c.execute('''CREATE TABLE datetimes\n",
      "             (year, month, day, hour, minute, second)''')\n",
      "\n",
      "# iterating through date object list and entering into database\n",
      "for date_obj in date_objs:\n",
      "     c.execute(\"INSERT INTO datetimes VALUES (?,?,?,?,?,?);\", (date_obj.year, date_obj.month, date_obj.day, date_obj.hour, date_obj.minute, date_obj.second))\n",
      "\n",
      "conn.commit()\n",
      "conn.close()"
     ],
     "language": "python",
     "metadata": {},
     "outputs": [],
     "prompt_number": 163
    },
    {
     "cell_type": "code",
     "collapsed": false,
     "input": [
      "#finding hour with most logins\n",
      "conn = sqlite3.connect('time_stamps.db')\n",
      "c = conn.cursor()\n",
      "\n",
      "print \"list of hours from most to least logins\"\n",
      "print \"(hour, number of logins)\"\n",
      "# hour with most logins is 1AM with 189 logins \n",
      "for row in c.execute('SELECT hour, count(hour) FROM datetimes GROUP BY hour ORDER BY count(hour) DESC'):\n",
      "    print row"
     ],
     "language": "python",
     "metadata": {},
     "outputs": [
      {
       "output_type": "stream",
       "stream": "stdout",
       "text": [
        "list of hours from most to least logins\n",
        "(hour, number of logins)\n",
        "(1, 189)\n",
        "(21, 179)\n",
        "(0, 173)\n",
        "(23, 165)\n",
        "(22, 164)\n",
        "(20, 155)\n",
        "(2, 151)\n",
        "(3, 136)\n",
        "(19, 86)\n",
        "(4, 83)\n",
        "(18, 83)\n",
        "(12, 71)\n",
        "(16, 69)\n",
        "(13, 67)\n",
        "(14, 66)\n",
        "(17, 66)\n",
        "(15, 64)\n",
        "(10, 59)\n",
        "(11, 57)\n",
        "(5, 48)\n",
        "(9, 47)\n",
        "(6, 31)\n",
        "(7, 31)\n",
        "(8, 27)\n"
       ]
      }
     ],
     "prompt_number": 164
    },
    {
     "cell_type": "code",
     "collapsed": false,
     "input": [
      "#finding date with most logins\n",
      "print \"list of dates from most logins to least logins\"\n",
      "print \"(year, month, day, number of logins)\"\n",
      "# date with most logins is Jan 22 with 1524 logins \n",
      "for row in c.execute('SELECT year, month, day, count(day) FROM datetimes GROUP BY day ORDER BY count(day) DESC'):\n",
      "    print row\n",
      "    \n",
      "# This code only gives most common day of the month. \n",
      "# since this dataset all has same year and month, it is also the most common date"
     ],
     "language": "python",
     "metadata": {},
     "outputs": [
      {
       "output_type": "stream",
       "stream": "stdout",
       "text": [
        "list of dates from most logins to least logins\n",
        "(year, month, day, number of logins)\n",
        "(2014, 1, 22, 524)\n",
        "(2014, 1, 23, 435)\n",
        "(2014, 1, 21, 361)\n",
        "(2014, 1, 26, 261)\n",
        "(2014, 1, 20, 247)\n",
        "(2014, 1, 25, 223)\n",
        "(2014, 1, 24, 216)\n"
       ]
      }
     ],
     "prompt_number": 165
    },
    {
     "cell_type": "code",
     "collapsed": false,
     "input": [],
     "language": "python",
     "metadata": {},
     "outputs": [],
     "prompt_number": 165
    },
    {
     "cell_type": "code",
     "collapsed": false,
     "input": [],
     "language": "python",
     "metadata": {},
     "outputs": []
    }
   ],
   "metadata": {}
  }
 ]
}