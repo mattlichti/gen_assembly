{
 "metadata": {
  "name": "",
  "signature": "sha256:53a2c5c46b8661fccfe724c59a7fd04ce9116299f16901a29055af2e8b9e66cd"
 },
 "nbformat": 3,
 "nbformat_minor": 0,
 "worksheets": [
  {
   "cells": [
    {
     "cell_type": "code",
     "collapsed": false,
     "input": [
      "import pandas as pd\n",
      "import numpy as np\n",
      "from sklearn.cross_validation import KFold\n",
      "\n",
      "from sklearn.svm import LinearSVC\n",
      "from sklearn.svm import SVC\n",
      "\n",
      "from sklearn import preprocessing\n",
      "from sklearn.pipeline import Pipeline\n",
      "from sklearn.grid_search import GridSearchCV"
     ],
     "language": "python",
     "metadata": {},
     "outputs": [],
     "prompt_number": 14
    },
    {
     "cell_type": "code",
     "collapsed": false,
     "input": [
      "data = pd.read_csv('wine.data',header=None)"
     ],
     "language": "python",
     "metadata": {},
     "outputs": [],
     "prompt_number": 2
    },
    {
     "cell_type": "code",
     "collapsed": false,
     "input": [
      "y = data.iloc[:,0]\n",
      "x = data.iloc[:,1:]"
     ],
     "language": "python",
     "metadata": {},
     "outputs": [],
     "prompt_number": 3
    },
    {
     "cell_type": "heading",
     "level": 3,
     "metadata": {},
     "source": [
      "1. Classify the raw data using a linear SVM. Do you need to perform several\n",
      "binary classifications or does scikit-learn support multi-class classification\n",
      "with SVMs?"
     ]
    },
    {
     "cell_type": "markdown",
     "metadata": {},
     "source": [
      "Scikit-learn SVM supporst multi-class classification with both SVC and LinearSVC "
     ]
    },
    {
     "cell_type": "code",
     "collapsed": false,
     "input": [
      "model = LinearSVC()\n",
      "print model.fit(x,y)\n",
      "print model.score(x,y)"
     ],
     "language": "python",
     "metadata": {},
     "outputs": [
      {
       "output_type": "stream",
       "stream": "stdout",
       "text": [
        "LinearSVC(C=1.0, class_weight=None, dual=True, fit_intercept=True,\n",
        "     intercept_scaling=1, loss='l2', multi_class='ovr', penalty='l2',\n",
        "     random_state=None, tol=0.0001, verbose=0)\n",
        "0.915730337079\n"
       ]
      }
     ],
     "prompt_number": 4
    },
    {
     "cell_type": "code",
     "collapsed": false,
     "input": [
      "model = SVC()\n",
      "print model.fit(x,y)\n",
      "print model.score(x,y)"
     ],
     "language": "python",
     "metadata": {},
     "outputs": [
      {
       "output_type": "stream",
       "stream": "stdout",
       "text": [
        "SVC(C=1.0, cache_size=200, class_weight=None, coef0=0.0, degree=3, gamma=0.0,\n",
        "  kernel='rbf', max_iter=-1, probability=False, random_state=None,\n",
        "  shrinking=True, tol=0.001, verbose=False)\n",
        "1.0\n"
       ]
      }
     ],
     "prompt_number": 5
    },
    {
     "cell_type": "heading",
     "level": 3,
     "metadata": {},
     "source": [
      "2. Cross validate the result"
     ]
    },
    {
     "cell_type": "code",
     "collapsed": false,
     "input": [
      "def cross_validate(X, y, classifier, k_fold):\n",
      "    k_fold_indices = KFold(len(X), n_folds=k_fold, shuffle=True, random_state=0)\n",
      "    train_score = 0\n",
      "    test_score = 0\n",
      "    for train, test in k_fold_indices:\n",
      "        classifier.fit(X[train],y[train])\n",
      "        train_score += classifier.score(X[train], y[train])\n",
      "        test_score += classifier.score(X[test], y[test])\n",
      "    print \"train score: \" +str(train_score/k_fold)\n",
      "    print \"test_score: \" + str(test_score/k_fold)\n",
      "    print \"\""
     ],
     "language": "python",
     "metadata": {},
     "outputs": [],
     "prompt_number": 6
    },
    {
     "cell_type": "code",
     "collapsed": false,
     "input": [
      "cross_validate(x.values,y,LinearSVC(),20)\n",
      "cross_validate(x.values,y,SVC(),20)\n",
      "print \"linearSVC has good results but regualr SVC is only slightly better than random chance\""
     ],
     "language": "python",
     "metadata": {},
     "outputs": [
      {
       "output_type": "stream",
       "stream": "stdout",
       "text": [
        "train score: 0.854521406196\n",
        "test_score: 0.864583333333\n",
        "\n",
        "train score: 1.0"
       ]
      },
      {
       "output_type": "stream",
       "stream": "stdout",
       "text": [
        "\n",
        "test_score: 0.454861111111\n",
        "\n",
        "linearSVC has good results but regualr SVC is only slightly better than random chance\n"
       ]
      }
     ],
     "prompt_number": 7
    },
    {
     "cell_type": "heading",
     "level": 3,
     "metadata": {},
     "source": [
      "3. Preprocess the data with a normalization step"
     ]
    },
    {
     "cell_type": "code",
     "collapsed": false,
     "input": [
      "X_scaled = preprocessing.scale(x)\n",
      "X_norm = preprocessing.normalize(x)"
     ],
     "language": "python",
     "metadata": {},
     "outputs": [],
     "prompt_number": 8
    },
    {
     "cell_type": "heading",
     "level": 3,
     "metadata": {},
     "source": [
      "4. Repeat the classification performed in step 1 using a linear SVM and\n",
      "crossvalidate the result. Is it better or worse"
     ]
    },
    {
     "cell_type": "code",
     "collapsed": false,
     "input": [
      "cross_validate(X_scaled,y,LinearSVC(),10)\n",
      "cross_validate(X_scaled,y,SVC(),10)\n",
      "cross_validate(X_norm,y,LinearSVC(),10)\n",
      "cross_validate(X_norm,y,SVC(),10)\n",
      "print \"scaling worked really well with scores of over 98% accuracy. Normalizing was worse than doing nothing\""
     ],
     "language": "python",
     "metadata": {},
     "outputs": [
      {
       "output_type": "stream",
       "stream": "stdout",
       "text": [
        "train score: 1.0\n",
        "test_score: 0.988888888889\n",
        "\n",
        "train score: 1.0"
       ]
      },
      {
       "output_type": "stream",
       "stream": "stdout",
       "text": [
        "\n",
        "test_score: 0.983006535948\n",
        "\n",
        "train score: 0.636071428571"
       ]
      },
      {
       "output_type": "stream",
       "stream": "stdout",
       "text": [
        "\n",
        "test_score: 0.633333333333\n",
        "\n",
        "train score: 0.39887810559"
       ]
      },
      {
       "output_type": "stream",
       "stream": "stdout",
       "text": [
        "\n",
        "test_score: 0.399019607843\n",
        "\n",
        "scaling worked really well with scores of over 98% accuracy. Normalizing was worse than doing nothing\n"
       ]
      }
     ],
     "prompt_number": 9
    },
    {
     "cell_type": "heading",
     "level": 3,
     "metadata": {},
     "source": [
      "5. implement a pipeline that comprises:\n",
      "- a preprocessing step\n",
      "- a classification step"
     ]
    },
    {
     "cell_type": "code",
     "collapsed": false,
     "input": [
      "norms = [preprocessing.Normalizer(), preprocessing.StandardScaler()]\n",
      "svms = [SVC(),LinearSVC()]\n",
      "for norm in norms:\n",
      "    for svm in svms:\n",
      "        estimators = [('normalize', norm), ('svm', svm)]\n",
      "        clf = Pipeline(estimators)\n",
      "        print \"Normalize: \" + str(norm)\n",
      "        print \"SVM: \" + str(svm)\n",
      "        cross_validate(x.values,y,clf,20)"
     ],
     "language": "python",
     "metadata": {},
     "outputs": [
      {
       "output_type": "stream",
       "stream": "stdout",
       "text": [
        "Normalize: Normalizer(copy=True, norm='l2')\n",
        "SVM: SVC(C=1.0, cache_size=200, class_weight=None, coef0=0.0, degree=3, gamma=0.0,\n",
        "  kernel='rbf', max_iter=-1, probability=False, random_state=None,\n",
        "  shrinking=True, tol=0.001, verbose=False)\n",
        "train score: 0.398875739645"
       ]
      },
      {
       "output_type": "stream",
       "stream": "stdout",
       "text": [
        "\n",
        "test_score: 0.398611111111\n",
        "\n",
        "Normalize: Normalizer(copy=True, norm='l2')\n",
        "SVM: LinearSVC(C=1.0, class_weight=None, dual=True, fit_intercept=True,\n",
        "     intercept_scaling=1, loss='l2', multi_class='ovr', penalty='l2',\n",
        "     random_state=None, tol=0.0001, verbose=0)\n",
        "train score: 0.635421162548"
       ]
      },
      {
       "output_type": "stream",
       "stream": "stdout",
       "text": [
        "\n",
        "test_score: 0.634027777778\n",
        "\n",
        "Normalize: StandardScaler(copy=True, with_mean=True, with_std=True)\n",
        "SVM: SVC(C=1.0, cache_size=200, class_weight=None, coef0=0.0, degree=3, gamma=0.0,\n",
        "  kernel='rbf', max_iter=-1, probability=False, random_state=None,\n",
        "  shrinking=True, tol=0.001, verbose=False)\n",
        "train score: 0.999704142012"
       ]
      },
      {
       "output_type": "stream",
       "stream": "stdout",
       "text": [
        "\n",
        "test_score: 0.983333333333\n",
        "\n",
        "Normalize: StandardScaler(copy=True, with_mean=True, with_std=True)\n",
        "SVM: LinearSVC(C=1.0, class_weight=None, dual=True, fit_intercept=True,\n",
        "     intercept_scaling=1, loss='l2', multi_class='ovr', penalty='l2',\n",
        "     random_state=None, tol=0.0001, verbose=0)\n",
        "train score: 1.0"
       ]
      },
      {
       "output_type": "stream",
       "stream": "stdout",
       "text": [
        "\n",
        "test_score: 0.977777777778\n",
        "\n"
       ]
      }
     ],
     "prompt_number": 10
    },
    {
     "cell_type": "heading",
     "level": 3,
     "metadata": {},
     "source": [
      "6. Try varying the value of C or the type of kernel. Do you get better results?"
     ]
    },
    {
     "cell_type": "code",
     "collapsed": false,
     "input": [
      "norms = [preprocessing.Normalizer(), preprocessing.StandardScaler()]\n",
      "Cs = [.01,.1,1,10,100,1000]\n",
      "for C in Cs:\n",
      "    svms = [SVC(C=C),LinearSVC(C=C)]\n",
      "    for norm in norms:\n",
      "        for svm in svms:\n",
      "            estimators = [('normalize', norm), ('svm', svm)]\n",
      "            clf = Pipeline(estimators)\n",
      "            print \"Normalize: \" + str(norm)\n",
      "            print \"SVM: \" + str(svm)\n",
      "            cross_validate(x.values,y,clf,10)"
     ],
     "language": "python",
     "metadata": {},
     "outputs": [
      {
       "output_type": "stream",
       "stream": "stdout",
       "text": [
        "Normalize: Normalizer(copy=True, norm='l2')\n",
        "SVM: SVC(C=0.01, cache_size=200, class_weight=None, coef0=0.0, degree=3, gamma=0.0,\n",
        "  kernel='rbf', max_iter=-1, probability=False, random_state=None,\n",
        "  shrinking=True, tol=0.001, verbose=False)\n",
        "train score: 0.39887810559"
       ]
      },
      {
       "output_type": "stream",
       "stream": "stdout",
       "text": [
        "\n",
        "test_score: 0.399019607843\n",
        "\n",
        "Normalize: Normalizer(copy=True, norm='l2')\n",
        "SVM: LinearSVC(C=0.01, class_weight=None, dual=True, fit_intercept=True,\n",
        "     intercept_scaling=1, loss='l2', multi_class='ovr', penalty='l2',\n",
        "     random_state=None, tol=0.0001, verbose=0)\n",
        "train score: 0.39887810559\n",
        "test_score: 0.399019607843\n",
        "\n",
        "Normalize: StandardScaler(copy=True, with_mean=True, with_std=True)\n",
        "SVM: SVC(C=0.01, cache_size=200, class_weight=None, coef0=0.0, degree=3, gamma=0.0,\n",
        "  kernel='rbf', max_iter=-1, probability=False, random_state=None,\n",
        "  shrinking=True, tol=0.001, verbose=False)\n",
        "train score: 0.39887810559"
       ]
      },
      {
       "output_type": "stream",
       "stream": "stdout",
       "text": [
        "\n",
        "test_score: 0.399019607843\n",
        "\n",
        "Normalize: StandardScaler(copy=True, with_mean=True, with_std=True)\n",
        "SVM: LinearSVC(C=0.01, class_weight=None, dual=True, fit_intercept=True,\n",
        "     intercept_scaling=1, loss='l2', multi_class='ovr', penalty='l2',\n",
        "     random_state=None, tol=0.0001, verbose=0)\n",
        "train score: 0.993132763975\n",
        "test_score: 0.983333333333\n",
        "\n",
        "Normalize: Normalizer(copy=True, norm='l2')\n",
        "SVM: SVC(C=0.1, cache_size=200, class_weight=None, coef0=0.0, degree=3, gamma=0.0,\n",
        "  kernel='rbf', max_iter=-1, probability=False, random_state=None,\n",
        "  shrinking=True, tol=0.001, verbose=False)\n",
        "train score: 0.39887810559"
       ]
      },
      {
       "output_type": "stream",
       "stream": "stdout",
       "text": [
        "\n",
        "test_score: 0.399019607843\n",
        "\n",
        "Normalize: Normalizer(copy=True, norm='l2')\n",
        "SVM: LinearSVC(C=0.1, class_weight=None, dual=True, fit_intercept=True,\n",
        "     intercept_scaling=1, loss='l2', multi_class='ovr', penalty='l2',\n",
        "     random_state=None, tol=0.0001, verbose=0)\n",
        "train score: 0.531129658385\n",
        "test_score: 0.466666666667\n",
        "\n",
        "Normalize: StandardScaler(copy=True, with_mean=True, with_std=True)\n",
        "SVM: SVC(C=0.1, cache_size=200, class_weight=None, coef0=0.0, degree=3, gamma=0.0,\n",
        "  kernel='rbf', max_iter=-1, probability=False, random_state=None,\n",
        "  shrinking=True, tol=0.001, verbose=False)\n",
        "train score: 0.985636645963"
       ]
      },
      {
       "output_type": "stream",
       "stream": "stdout",
       "text": [
        "\n",
        "test_score: 0.971895424837\n",
        "\n",
        "Normalize: StandardScaler(copy=True, with_mean=True, with_std=True)\n",
        "SVM: LinearSVC(C=0.1, class_weight=None, dual=True, fit_intercept=True,\n",
        "     intercept_scaling=1, loss='l2', multi_class='ovr', penalty='l2',\n",
        "     random_state=None, tol=0.0001, verbose=0)\n",
        "train score: 1.0\n",
        "test_score: 0.994444444444\n",
        "\n",
        "Normalize: Normalizer(copy=True, norm='l2')\n",
        "SVM: SVC(C=1, cache_size=200, class_weight=None, coef0=0.0, degree=3, gamma=0.0,\n",
        "  kernel='rbf', max_iter=-1, probability=False, random_state=None,\n",
        "  shrinking=True, tol=0.001, verbose=False)\n",
        "train score: 0.39887810559"
       ]
      },
      {
       "output_type": "stream",
       "stream": "stdout",
       "text": [
        "\n",
        "test_score: 0.399019607843\n",
        "\n",
        "Normalize: Normalizer(copy=True, norm='l2')\n",
        "SVM: LinearSVC(C=1, class_weight=None, dual=True, fit_intercept=True,\n",
        "     intercept_scaling=1, loss='l2', multi_class='ovr', penalty='l2',\n",
        "     random_state=None, tol=0.0001, verbose=0)\n",
        "train score: 0.636071428571"
       ]
      },
      {
       "output_type": "stream",
       "stream": "stdout",
       "text": [
        "\n",
        "test_score: 0.633333333333\n",
        "\n",
        "Normalize: StandardScaler(copy=True, with_mean=True, with_std=True)\n",
        "SVM: SVC(C=1, cache_size=200, class_weight=None, coef0=0.0, degree=3, gamma=0.0,\n",
        "  kernel='rbf', max_iter=-1, probability=False, random_state=None,\n",
        "  shrinking=True, tol=0.001, verbose=False)\n",
        "train score: 1.0"
       ]
      },
      {
       "output_type": "stream",
       "stream": "stdout",
       "text": [
        "\n",
        "test_score: 0.983006535948\n",
        "\n",
        "Normalize: StandardScaler(copy=True, with_mean=True, with_std=True)\n",
        "SVM: LinearSVC(C=1, class_weight=None, dual=True, fit_intercept=True,\n",
        "     intercept_scaling=1, loss='l2', multi_class='ovr', penalty='l2',\n",
        "     random_state=None, tol=0.0001, verbose=0)\n",
        "train score: 1.0"
       ]
      },
      {
       "output_type": "stream",
       "stream": "stdout",
       "text": [
        "\n",
        "test_score: 0.988888888889\n",
        "\n",
        "Normalize: Normalizer(copy=True, norm='l2')\n",
        "SVM: SVC(C=10, cache_size=200, class_weight=None, coef0=0.0, degree=3, gamma=0.0,\n",
        "  kernel='rbf', max_iter=-1, probability=False, random_state=None,\n",
        "  shrinking=True, tol=0.001, verbose=False)\n",
        "train score: 0.502985248447"
       ]
      },
      {
       "output_type": "stream",
       "stream": "stdout",
       "text": [
        "\n",
        "test_score: 0.427450980392\n",
        "\n",
        "Normalize: Normalizer(copy=True, norm='l2')\n",
        "SVM: LinearSVC(C=10, class_weight=None, dual=True, fit_intercept=True,\n",
        "     intercept_scaling=1, loss='l2', multi_class='ovr', penalty='l2',\n",
        "     random_state=None, tol=0.0001, verbose=0)\n",
        "train score: 0.642930900621"
       ]
      },
      {
       "output_type": "stream",
       "stream": "stdout",
       "text": [
        "\n",
        "test_score: 0.633333333333\n",
        "\n",
        "Normalize: StandardScaler(copy=True, with_mean=True, with_std=True)\n",
        "SVM: SVC(C=10, cache_size=200, class_weight=None, coef0=0.0, degree=3, gamma=0.0,\n",
        "  kernel='rbf', max_iter=-1, probability=False, random_state=None,\n",
        "  shrinking=True, tol=0.001, verbose=False)\n",
        "train score: 1.0"
       ]
      },
      {
       "output_type": "stream",
       "stream": "stdout",
       "text": [
        "\n",
        "test_score: 0.988888888889\n",
        "\n",
        "Normalize: StandardScaler(copy=True, with_mean=True, with_std=True)\n",
        "SVM: LinearSVC(C=10, class_weight=None, dual=True, fit_intercept=True,\n",
        "     intercept_scaling=1, loss='l2', multi_class='ovr', penalty='l2',\n",
        "     random_state=None, tol=0.0001, verbose=0)\n",
        "train score: 1.0"
       ]
      },
      {
       "output_type": "stream",
       "stream": "stdout",
       "text": [
        "\n",
        "test_score: 0.977777777778\n",
        "\n",
        "Normalize: Normalizer(copy=True, norm='l2')\n",
        "SVM: SVC(C=100, cache_size=200, class_weight=None, coef0=0.0, degree=3, gamma=0.0,\n",
        "  kernel='rbf', max_iter=-1, probability=False, random_state=None,\n",
        "  shrinking=True, tol=0.001, verbose=False)\n",
        "train score: 0.640427018634"
       ]
      },
      {
       "output_type": "stream",
       "stream": "stdout",
       "text": [
        "\n",
        "test_score: 0.627777777778\n",
        "\n",
        "Normalize: Normalizer(copy=True, norm='l2')\n",
        "SVM: LinearSVC(C=100, class_weight=None, dual=True, fit_intercept=True,\n",
        "     intercept_scaling=1, loss='l2', multi_class='ovr', penalty='l2',\n",
        "     random_state=None, tol=0.0001, verbose=0)\n",
        "train score: 0.83147515528"
       ]
      },
      {
       "output_type": "stream",
       "stream": "stdout",
       "text": [
        "\n",
        "test_score: 0.813725490196\n",
        "\n",
        "Normalize: StandardScaler(copy=True, with_mean=True, with_std=True)\n",
        "SVM: SVC(C=100, cache_size=200, class_weight=None, coef0=0.0, degree=3, gamma=0.0,\n",
        "  kernel='rbf', max_iter=-1, probability=False, random_state=None,\n",
        "  shrinking=True, tol=0.001, verbose=False)\n",
        "train score: 1.0"
       ]
      },
      {
       "output_type": "stream",
       "stream": "stdout",
       "text": [
        "\n",
        "test_score: 0.988888888889\n",
        "\n",
        "Normalize: StandardScaler(copy=True, with_mean=True, with_std=True)\n",
        "SVM: LinearSVC(C=100, class_weight=None, dual=True, fit_intercept=True,\n",
        "     intercept_scaling=1, loss='l2', multi_class='ovr', penalty='l2',\n",
        "     random_state=None, tol=0.0001, verbose=0)\n",
        "train score: 1.0"
       ]
      },
      {
       "output_type": "stream",
       "stream": "stdout",
       "text": [
        "\n",
        "test_score: 0.977777777778\n",
        "\n",
        "Normalize: Normalizer(copy=True, norm='l2')\n",
        "SVM: SVC(C=1000, cache_size=200, class_weight=None, coef0=0.0, degree=3, gamma=0.0,\n",
        "  kernel='rbf', max_iter=-1, probability=False, random_state=None,\n",
        "  shrinking=True, tol=0.001, verbose=False)\n",
        "train score: 0.72974378882"
       ]
      },
      {
       "output_type": "stream",
       "stream": "stdout",
       "text": [
        "\n",
        "test_score: 0.683986928105\n",
        "\n",
        "Normalize: Normalizer(copy=True, norm='l2')\n",
        "SVM: LinearSVC(C=1000, class_weight=None, dual=True, fit_intercept=True,\n",
        "     intercept_scaling=1, loss='l2', multi_class='ovr', penalty='l2',\n",
        "     random_state=None, tol=0.0001, verbose=0)\n",
        "train score: 0.837659161491"
       ]
      },
      {
       "output_type": "stream",
       "stream": "stdout",
       "text": [
        "\n",
        "test_score: 0.792810457516\n",
        "\n",
        "Normalize: StandardScaler(copy=True, with_mean=True, with_std=True)\n",
        "SVM: SVC(C=1000, cache_size=200, class_weight=None, coef0=0.0, degree=3, gamma=0.0,\n",
        "  kernel='rbf', max_iter=-1, probability=False, random_state=None,\n",
        "  shrinking=True, tol=0.001, verbose=False)\n",
        "train score: 1.0"
       ]
      },
      {
       "output_type": "stream",
       "stream": "stdout",
       "text": [
        "\n",
        "test_score: 0.988888888889\n",
        "\n",
        "Normalize: StandardScaler(copy=True, with_mean=True, with_std=True)\n",
        "SVM: LinearSVC(C=1000, class_weight=None, dual=True, fit_intercept=True,\n",
        "     intercept_scaling=1, loss='l2', multi_class='ovr', penalty='l2',\n",
        "     random_state=None, tol=0.0001, verbose=0)\n",
        "train score: 1.0"
       ]
      },
      {
       "output_type": "stream",
       "stream": "stdout",
       "text": [
        "\n",
        "test_score: 0.983333333333\n",
        "\n"
       ]
      }
     ],
     "prompt_number": 57
    },
    {
     "cell_type": "markdown",
     "metadata": {},
     "source": [
      "The best performance was Linear SVC with C = 0.1 using StandardScaler to normalize with a score of .994. Interestingly, all the models using regular SVC and/or Normalizer performed better with much higher values for C. Regular SVC scored .989 with C of 1000."
     ]
    },
    {
     "cell_type": "heading",
     "level": 3,
     "metadata": {},
     "source": [
      "feed your pipeline classifier to the grid search. Explore a range of values\n",
      "for C, gamma and the type of kernel. Can you find an optimum value?"
     ]
    },
    {
     "cell_type": "code",
     "collapsed": false,
     "input": [
      "tuned_parameters = [{'kernel': ['rbf'], 'gamma': [1e-3, 1e-4],\n",
      "                     'C': [.01,.1,1, 10, 100, 1000]},\n",
      "                    {'kernel': ['linear'], 'C': [.01,.1, 1, 10, 100, 1000]}]"
     ],
     "language": "python",
     "metadata": {},
     "outputs": [],
     "prompt_number": 51
    },
    {
     "cell_type": "code",
     "collapsed": false,
     "input": [
      "def grid_results(clf):\n",
      "    for params, mean_score, scores in clf.grid_scores_:\n",
      "        print(\"%0.3f (+/-%0.03f) for %r\"\n",
      "              % (mean_score, scores.std() / 2, params))"
     ],
     "language": "python",
     "metadata": {},
     "outputs": [],
     "prompt_number": 54
    },
    {
     "cell_type": "code",
     "collapsed": false,
     "input": [
      "# running grid search without normalization\n",
      "clf = GridSearchCV(SVC(C=1), tuned_parameters, cv=5)\n",
      "clf.fit(x, y)\n",
      "grid_results(clf)\n",
      "#the best result is Linear SVM with C=.1 with a score of .978"
     ],
     "language": "python",
     "metadata": {},
     "outputs": [
      {
       "output_type": "stream",
       "stream": "stdout",
       "text": [
        "0.399 (+/-0.005) for {'kernel': 'rbf', 'C': 0.01, 'gamma': 0.001}\n",
        "0.399 (+/-0.005) for {'kernel': 'rbf', 'C': 0.01, 'gamma': 0.0001}\n",
        "0.494 (+/-0.014) for {'kernel': 'rbf', 'C': 0.1, 'gamma': 0.001}\n",
        "0.697 (+/-0.010) for {'kernel': 'rbf', 'C': 0.1, 'gamma': 0.0001}\n",
        "0.685 (+/-0.028) for {'kernel': 'rbf', 'C': 1, 'gamma': 0.001}\n",
        "0.713 (+/-0.028) for {'kernel': 'rbf', 'C': 1, 'gamma': 0.0001}\n",
        "0.747 (+/-0.031) for {'kernel': 'rbf', 'C': 10, 'gamma': 0.001}\n",
        "0.775 (+/-0.027) for {'kernel': 'rbf', 'C': 10, 'gamma': 0.0001}\n",
        "0.770 (+/-0.035) for {'kernel': 'rbf', 'C': 100, 'gamma': 0.001}\n",
        "0.854 (+/-0.039) for {'kernel': 'rbf', 'C': 100, 'gamma': 0.0001}\n",
        "0.770 (+/-0.035) for {'kernel': 'rbf', 'C': 1000, 'gamma': 0.001}\n",
        "0.871 (+/-0.029) for {'kernel': 'rbf', 'C': 1000, 'gamma': 0.0001}\n",
        "0.904 (+/-0.018) for {'kernel': 'linear', 'C': 0.01}\n",
        "0.978 (+/-0.010) for {'kernel': 'linear', 'C': 0.1}\n",
        "0.961 (+/-0.025) for {'kernel': 'linear', 'C': 1}\n",
        "0.961 (+/-0.027) for {'kernel': 'linear', 'C': 10}\n",
        "0.961 (+/-0.027) for {'kernel': 'linear', 'C': 100}\n",
        "0.961 (+/-0.027) for {'kernel': 'linear', 'C': 1000}\n"
       ]
      }
     ],
     "prompt_number": 56
    },
    {
     "cell_type": "code",
     "collapsed": false,
     "input": [
      "def grid_pipe(x,y,norms,grid):\n",
      "    for norm in norms:\n",
      "        estimators = [('normalize', norm), ('grid', grid)]\n",
      "        clf = Pipeline(estimators)\n",
      "        print \"Normalize: \" + str(norm)\n",
      "        clf.fit(x, y)\n",
      "        print grid_results(grid)\n",
      "        print \"\""
     ],
     "language": "python",
     "metadata": {},
     "outputs": [],
     "prompt_number": 65
    },
    {
     "cell_type": "code",
     "collapsed": false,
     "input": [
      "norms = [preprocessing.Normalizer(), preprocessing.StandardScaler()]\n",
      "grid = GridSearchCV(SVC(C=1), tuned_parameters, cv=5)\n",
      "grid_pipe(x,y,norms,grid)\n",
      "print \"best result was preprocessing with Scaler, Linear SVC with C = .1, score of .978\" "
     ],
     "language": "python",
     "metadata": {},
     "outputs": [
      {
       "output_type": "stream",
       "stream": "stdout",
       "text": [
        "Normalize: Normalizer(copy=True, norm='l2')\n",
        "0.399 (+/-0.005) for {'kernel': 'rbf', 'C': 0.01, 'gamma': 0.001}"
       ]
      },
      {
       "output_type": "stream",
       "stream": "stdout",
       "text": [
        "\n",
        "0.399 (+/-0.005) for {'kernel': 'rbf', 'C': 0.01, 'gamma': 0.0001}\n",
        "0.399 (+/-0.005) for {'kernel': 'rbf', 'C': 0.1, 'gamma': 0.001}\n",
        "0.399 (+/-0.005) for {'kernel': 'rbf', 'C': 0.1, 'gamma': 0.0001}\n",
        "0.399 (+/-0.005) for {'kernel': 'rbf', 'C': 1, 'gamma': 0.001}\n",
        "0.399 (+/-0.005) for {'kernel': 'rbf', 'C': 1, 'gamma': 0.0001}\n",
        "0.399 (+/-0.005) for {'kernel': 'rbf', 'C': 10, 'gamma': 0.001}\n",
        "0.399 (+/-0.005) for {'kernel': 'rbf', 'C': 10, 'gamma': 0.0001}\n",
        "0.399 (+/-0.005) for {'kernel': 'rbf', 'C': 100, 'gamma': 0.001}\n",
        "0.399 (+/-0.005) for {'kernel': 'rbf', 'C': 100, 'gamma': 0.0001}\n",
        "0.579 (+/-0.037) for {'kernel': 'rbf', 'C': 1000, 'gamma': 0.001}\n",
        "0.399 (+/-0.005) for {'kernel': 'rbf', 'C': 1000, 'gamma': 0.0001}\n",
        "0.399 (+/-0.005) for {'kernel': 'linear', 'C': 0.01}\n",
        "0.399 (+/-0.005) for {'kernel': 'linear', 'C': 0.1}\n",
        "0.399 (+/-0.005) for {'kernel': 'linear', 'C': 1}\n",
        "0.612 (+/-0.024) for {'kernel': 'linear', 'C': 10}\n",
        "0.640 (+/-0.030) for {'kernel': 'linear', 'C': 100}\n",
        "0.888 (+/-0.044) for {'kernel': 'linear', 'C': 1000}\n",
        "None\n",
        "\n",
        "Normalize: StandardScaler(copy=True, with_mean=True, with_std=True)\n",
        "0.399 (+/-0.005) for {'kernel': 'rbf', 'C': 0.01, 'gamma': 0.001}"
       ]
      },
      {
       "output_type": "stream",
       "stream": "stdout",
       "text": [
        "\n",
        "0.399 (+/-0.005) for {'kernel': 'rbf', 'C': 0.01, 'gamma': 0.0001}\n",
        "0.399 (+/-0.005) for {'kernel': 'rbf', 'C': 0.1, 'gamma': 0.001}\n",
        "0.399 (+/-0.005) for {'kernel': 'rbf', 'C': 0.1, 'gamma': 0.0001}\n",
        "0.860 (+/-0.029) for {'kernel': 'rbf', 'C': 1, 'gamma': 0.001}\n",
        "0.399 (+/-0.005) for {'kernel': 'rbf', 'C': 1, 'gamma': 0.0001}\n",
        "0.966 (+/-0.013) for {'kernel': 'rbf', 'C': 10, 'gamma': 0.001}\n",
        "0.865 (+/-0.026) for {'kernel': 'rbf', 'C': 10, 'gamma': 0.0001}\n",
        "0.972 (+/-0.009) for {'kernel': 'rbf', 'C': 100, 'gamma': 0.001}\n",
        "0.966 (+/-0.013) for {'kernel': 'rbf', 'C': 100, 'gamma': 0.0001}\n",
        "0.955 (+/-0.011) for {'kernel': 'rbf', 'C': 1000, 'gamma': 0.001}\n",
        "0.972 (+/-0.009) for {'kernel': 'rbf', 'C': 1000, 'gamma': 0.0001}\n",
        "0.972 (+/-0.000) for {'kernel': 'linear', 'C': 0.01}\n",
        "0.978 (+/-0.006) for {'kernel': 'linear', 'C': 0.1}\n",
        "0.949 (+/-0.010) for {'kernel': 'linear', 'C': 1}\n",
        "0.955 (+/-0.011) for {'kernel': 'linear', 'C': 10}\n",
        "0.955 (+/-0.011) for {'kernel': 'linear', 'C': 100}\n",
        "0.955 (+/-0.011) for {'kernel': 'linear', 'C': 1000}\n",
        "None\n",
        "\n"
       ]
      }
     ],
     "prompt_number": 66
    },
    {
     "cell_type": "code",
     "collapsed": false,
     "input": [
      "# same thing with 10 folds\n",
      "norms = [preprocessing.Normalizer(), preprocessing.StandardScaler()]\n",
      "grid = GridSearchCV(SVC(C=1), tuned_parameters, cv=10)\n",
      "grid_pipe(x,y,norms,grid)\n",
      "print \"best result was preprocessing with Scaler, Linear SVC with C = .1, score of .989\""
     ],
     "language": "python",
     "metadata": {},
     "outputs": [
      {
       "output_type": "stream",
       "stream": "stdout",
       "text": [
        "Normalize: Normalizer(copy=True, norm='l2')\n",
        "0.399 (+/-0.008) for {'kernel': 'rbf', 'C': 0.01, 'gamma': 0.001}"
       ]
      },
      {
       "output_type": "stream",
       "stream": "stdout",
       "text": [
        "\n",
        "0.399 (+/-0.008) for {'kernel': 'rbf', 'C': 0.01, 'gamma': 0.0001}\n",
        "0.399 (+/-0.008) for {'kernel': 'rbf', 'C': 0.1, 'gamma': 0.001}\n",
        "0.399 (+/-0.008) for {'kernel': 'rbf', 'C': 0.1, 'gamma': 0.0001}\n",
        "0.399 (+/-0.008) for {'kernel': 'rbf', 'C': 1, 'gamma': 0.001}\n",
        "0.399 (+/-0.008) for {'kernel': 'rbf', 'C': 1, 'gamma': 0.0001}\n",
        "0.399 (+/-0.008) for {'kernel': 'rbf', 'C': 10, 'gamma': 0.001}\n",
        "0.399 (+/-0.008) for {'kernel': 'rbf', 'C': 10, 'gamma': 0.0001}\n",
        "0.399 (+/-0.008) for {'kernel': 'rbf', 'C': 100, 'gamma': 0.001}\n",
        "0.399 (+/-0.008) for {'kernel': 'rbf', 'C': 100, 'gamma': 0.0001}\n",
        "0.652 (+/-0.037) for {'kernel': 'rbf', 'C': 1000, 'gamma': 0.001}\n",
        "0.399 (+/-0.008) for {'kernel': 'rbf', 'C': 1000, 'gamma': 0.0001}\n",
        "0.399 (+/-0.008) for {'kernel': 'linear', 'C': 0.01}\n",
        "0.399 (+/-0.008) for {'kernel': 'linear', 'C': 0.1}\n",
        "0.399 (+/-0.008) for {'kernel': 'linear', 'C': 1}\n",
        "0.618 (+/-0.033) for {'kernel': 'linear', 'C': 10}\n",
        "0.674 (+/-0.054) for {'kernel': 'linear', 'C': 100}\n",
        "0.893 (+/-0.045) for {'kernel': 'linear', 'C': 1000}\n",
        "None\n",
        "\n",
        "Normalize: StandardScaler(copy=True, with_mean=True, with_std=True)\n",
        "0.399 (+/-0.008) for {'kernel': 'rbf', 'C': 0.01, 'gamma': 0.001}"
       ]
      },
      {
       "output_type": "stream",
       "stream": "stdout",
       "text": [
        "\n",
        "0.399 (+/-0.008) for {'kernel': 'rbf', 'C': 0.01, 'gamma': 0.0001}\n",
        "0.399 (+/-0.008) for {'kernel': 'rbf', 'C': 0.1, 'gamma': 0.001}\n",
        "0.399 (+/-0.008) for {'kernel': 'rbf', 'C': 0.1, 'gamma': 0.0001}\n",
        "0.910 (+/-0.033) for {'kernel': 'rbf', 'C': 1, 'gamma': 0.001}\n",
        "0.399 (+/-0.008) for {'kernel': 'rbf', 'C': 1, 'gamma': 0.0001}\n",
        "0.978 (+/-0.014) for {'kernel': 'rbf', 'C': 10, 'gamma': 0.001}\n",
        "0.916 (+/-0.031) for {'kernel': 'rbf', 'C': 10, 'gamma': 0.0001}\n",
        "0.978 (+/-0.018) for {'kernel': 'rbf', 'C': 100, 'gamma': 0.001}\n",
        "0.978 (+/-0.014) for {'kernel': 'rbf', 'C': 100, 'gamma': 0.0001}\n",
        "0.955 (+/-0.020) for {'kernel': 'rbf', 'C': 1000, 'gamma': 0.001}\n",
        "0.972 (+/-0.018) for {'kernel': 'rbf', 'C': 1000, 'gamma': 0.0001}\n",
        "0.978 (+/-0.013) for {'kernel': 'linear', 'C': 0.01}\n",
        "0.989 (+/-0.011) for {'kernel': 'linear', 'C': 0.1}\n",
        "0.949 (+/-0.023) for {'kernel': 'linear', 'C': 1}\n",
        "0.955 (+/-0.020) for {'kernel': 'linear', 'C': 10}\n",
        "0.955 (+/-0.020) for {'kernel': 'linear', 'C': 100}\n",
        "0.955 (+/-0.020) for {'kernel': 'linear', 'C': 1000}\n",
        "None\n",
        "\n",
        "best result was preprocessing with Scaler, Linear SVC with C = .1, score of .978\n"
       ]
      }
     ],
     "prompt_number": 68
    },
    {
     "cell_type": "code",
     "collapsed": false,
     "input": [
      "#dropping normalizer because of poor performance\n",
      "#dropping low C values for RBF kernal because of poor performance\n",
      "#trying more high C values and lower gammas with RBF kernal\n",
      "#trying more low C values with linear kernal\n",
      "tuned_parameters = [{'kernel': ['rbf'], 'gamma': [1e-3, 1e-4,1e-5,1e-6],\n",
      "                     'C': [1, 5,10,25,100,250,1000,5000,25000]},\n",
      "                    {'kernel': ['linear'], 'C': [.01,.02,.03,.05,.07,.1,.15,.2,.5,1, 10]}]\n",
      "norms = [preprocessing.StandardScaler()]\n",
      "grid = GridSearchCV(SVC(C=1), tuned_parameters, cv=10)\n",
      "grid_pipe(x,y,norms,grid)\n",
      "print \"there are now a wide variety of models tied for best score of .989\"\n",
      "print \"Using rbf kernal, medium C (25) and high gamma (1e-3) or high C (25,000) and low gamma (1e-6) score .989\""
     ],
     "language": "python",
     "metadata": {},
     "outputs": [
      {
       "output_type": "stream",
       "stream": "stdout",
       "text": [
        "Normalize: StandardScaler(copy=True, with_mean=True, with_std=True)\n",
        "0.910 (+/-0.033) for {'kernel': 'rbf', 'C': 1, 'gamma': 0.001}"
       ]
      },
      {
       "output_type": "stream",
       "stream": "stdout",
       "text": [
        "\n",
        "0.399 (+/-0.008) for {'kernel': 'rbf', 'C': 1, 'gamma': 0.0001}\n",
        "0.399 (+/-0.008) for {'kernel': 'rbf', 'C': 1, 'gamma': 1e-05}\n",
        "0.399 (+/-0.008) for {'kernel': 'rbf', 'C': 1, 'gamma': 1e-06}\n",
        "0.983 (+/-0.013) for {'kernel': 'rbf', 'C': 5, 'gamma': 0.001}\n",
        "0.421 (+/-0.021) for {'kernel': 'rbf', 'C': 5, 'gamma': 0.0001}\n",
        "0.399 (+/-0.008) for {'kernel': 'rbf', 'C': 5, 'gamma': 1e-05}\n",
        "0.399 (+/-0.008) for {'kernel': 'rbf', 'C': 5, 'gamma': 1e-06}\n",
        "0.978 (+/-0.014) for {'kernel': 'rbf', 'C': 10, 'gamma': 0.001}\n",
        "0.916 (+/-0.031) for {'kernel': 'rbf', 'C': 10, 'gamma': 0.0001}\n",
        "0.399 (+/-0.008) for {'kernel': 'rbf', 'C': 10, 'gamma': 1e-05}\n",
        "0.399 (+/-0.008) for {'kernel': 'rbf', 'C': 10, 'gamma': 1e-06}\n",
        "0.989 (+/-0.011) for {'kernel': 'rbf', 'C': 25, 'gamma': 0.001}\n",
        "0.978 (+/-0.014) for {'kernel': 'rbf', 'C': 25, 'gamma': 0.0001}\n",
        "0.399 (+/-0.008) for {'kernel': 'rbf', 'C': 25, 'gamma': 1e-05}\n",
        "0.399 (+/-0.008) for {'kernel': 'rbf', 'C': 25, 'gamma': 1e-06}\n",
        "0.978 (+/-0.018) for {'kernel': 'rbf', 'C': 100, 'gamma': 0.001}\n",
        "0.978 (+/-0.014) for {'kernel': 'rbf', 'C': 100, 'gamma': 0.0001}\n",
        "0.916 (+/-0.031) for {'kernel': 'rbf', 'C': 100, 'gamma': 1e-05}\n",
        "0.399 (+/-0.008) for {'kernel': 'rbf', 'C': 100, 'gamma': 1e-06}\n",
        "0.961 (+/-0.017) for {'kernel': 'rbf', 'C': 250, 'gamma': 0.001}\n",
        "0.989 (+/-0.011) for {'kernel': 'rbf', 'C': 250, 'gamma': 0.0001}\n",
        "0.978 (+/-0.014) for {'kernel': 'rbf', 'C': 250, 'gamma': 1e-05}\n",
        "0.399 (+/-0.008) for {'kernel': 'rbf', 'C': 250, 'gamma': 1e-06}\n",
        "0.955 (+/-0.020) for {'kernel': 'rbf', 'C': 1000, 'gamma': 0.001}\n",
        "0.972 (+/-0.018) for {'kernel': 'rbf', 'C': 1000, 'gamma': 0.0001}\n",
        "0.978 (+/-0.014) for {'kernel': 'rbf', 'C': 1000, 'gamma': 1e-05}\n",
        "0.916 (+/-0.031) for {'kernel': 'rbf', 'C': 1000, 'gamma': 1e-06}\n",
        "0.955 (+/-0.020) for {'kernel': 'rbf', 'C': 5000, 'gamma': 0.001}\n",
        "0.949 (+/-0.023) for {'kernel': 'rbf', 'C': 5000, 'gamma': 0.0001}\n",
        "0.989 (+/-0.011) for {'kernel': 'rbf', 'C': 5000, 'gamma': 1e-05}\n",
        "0.972 (+/-0.019) for {'kernel': 'rbf', 'C': 5000, 'gamma': 1e-06}\n",
        "0.955 (+/-0.020) for {'kernel': 'rbf', 'C': 25000, 'gamma': 0.001}\n",
        "0.955 (+/-0.020) for {'kernel': 'rbf', 'C': 25000, 'gamma': 0.0001}\n",
        "0.961 (+/-0.017) for {'kernel': 'rbf', 'C': 25000, 'gamma': 1e-05}\n",
        "0.989 (+/-0.011) for {'kernel': 'rbf', 'C': 25000, 'gamma': 1e-06}\n",
        "0.978 (+/-0.013) for {'kernel': 'linear', 'C': 0.01}\n",
        "0.978 (+/-0.014) for {'kernel': 'linear', 'C': 0.02}\n",
        "0.978 (+/-0.014) for {'kernel': 'linear', 'C': 0.03}\n",
        "0.989 (+/-0.011) for {'kernel': 'linear', 'C': 0.05}\n",
        "0.978 (+/-0.018) for {'kernel': 'linear', 'C': 0.07}\n",
        "0.989 (+/-0.011) for {'kernel': 'linear', 'C': 0.1}\n",
        "0.972 (+/-0.018) for {'kernel': 'linear', 'C': 0.15}\n",
        "0.972 (+/-0.018) for {'kernel': 'linear', 'C': 0.2}\n",
        "0.961 (+/-0.017) for {'kernel': 'linear', 'C': 0.5}\n",
        "0.949 (+/-0.023) for {'kernel': 'linear', 'C': 1}\n",
        "0.955 (+/-0.020) for {'kernel': 'linear', 'C': 10}\n",
        "None\n",
        "\n",
        "there are now a wide variety of models tied for best score of .989\n",
        "Using rbf kernal, medium C (25) and high gamma (1e-3) or high C (25,000) and low gamma (1e-6) score .989\n"
       ]
      }
     ],
     "prompt_number": 75
    },
    {
     "cell_type": "code",
     "collapsed": false,
     "input": [],
     "language": "python",
     "metadata": {},
     "outputs": []
    }
   ],
   "metadata": {}
  }
 ]
}