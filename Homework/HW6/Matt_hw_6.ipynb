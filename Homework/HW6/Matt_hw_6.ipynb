{
 "metadata": {
  "name": "",
  "signature": "sha256:32fef9e4e68821d7269603e2215a3019f012f6c3acfbd3301a2fb568ff89eee9"
 },
 "nbformat": 3,
 "nbformat_minor": 0,
 "worksheets": [
  {
   "cells": [
    {
     "cell_type": "code",
     "collapsed": false,
     "input": [
      "import pandas as pd\n",
      "import numpy as np\n",
      "from sklearn.cross_validation import KFold\n",
      "from sklearn import cross_validation\n",
      "from sklearn import tree\n",
      "from sklearn.ensemble import RandomForestClassifier\n",
      "from sklearn.cross_validation import train_test_split\n",
      "from sklearn.learning_curve import learning_curve\n",
      "import matplotlib.pyplot as plt\n",
      "%matplotlib inline"
     ],
     "language": "python",
     "metadata": {},
     "outputs": [],
     "prompt_number": 1
    },
    {
     "cell_type": "heading",
     "level": 3,
     "metadata": {},
     "source": [
      "1: Use the bank.csv to explore the data. Observe the features: are they numbers?\n",
      "Are they strings? Are they binary? Are they continuous?"
     ]
    },
    {
     "cell_type": "code",
     "collapsed": false,
     "input": [
      "data = pd.read_csv('bank.csv',header=None)"
     ],
     "language": "python",
     "metadata": {},
     "outputs": [],
     "prompt_number": 2
    },
    {
     "cell_type": "code",
     "collapsed": false,
     "input": [
      "data.info()\n",
      "data.head()"
     ],
     "language": "python",
     "metadata": {},
     "outputs": [
      {
       "output_type": "stream",
       "stream": "stdout",
       "text": [
        "<class 'pandas.core.frame.DataFrame'>\n",
        "Int64Index: 4522 entries, 0 to 4521\n",
        "Data columns (total 1 columns):\n",
        "0    4522 non-null object\n",
        "dtypes: object(1)"
       ]
      },
      {
       "html": [
        "<div style=\"max-height:1000px;max-width:1500px;overflow:auto;\">\n",
        "<table border=\"1\" class=\"dataframe\">\n",
        "  <thead>\n",
        "    <tr style=\"text-align: right;\">\n",
        "      <th></th>\n",
        "      <th>0</th>\n",
        "    </tr>\n",
        "  </thead>\n",
        "  <tbody>\n",
        "    <tr>\n",
        "      <th>0</th>\n",
        "      <td> age;\"job\";\"marital\";\"education\";\"default\";\"bal...</td>\n",
        "    </tr>\n",
        "    <tr>\n",
        "      <th>1</th>\n",
        "      <td> 30;\"unemployed\";\"married\";\"primary\";\"no\";1787;...</td>\n",
        "    </tr>\n",
        "    <tr>\n",
        "      <th>2</th>\n",
        "      <td> 33;\"services\";\"married\";\"secondary\";\"no\";4789;...</td>\n",
        "    </tr>\n",
        "    <tr>\n",
        "      <th>3</th>\n",
        "      <td> 35;\"management\";\"single\";\"tertiary\";\"no\";1350;...</td>\n",
        "    </tr>\n",
        "    <tr>\n",
        "      <th>4</th>\n",
        "      <td> 30;\"management\";\"married\";\"tertiary\";\"no\";1476...</td>\n",
        "    </tr>\n",
        "  </tbody>\n",
        "</table>\n",
        "</div>"
       ],
       "metadata": {},
       "output_type": "pyout",
       "prompt_number": 3,
       "text": [
        "                                                   0\n",
        "0  age;\"job\";\"marital\";\"education\";\"default\";\"bal...\n",
        "1  30;\"unemployed\";\"married\";\"primary\";\"no\";1787;...\n",
        "2  33;\"services\";\"married\";\"secondary\";\"no\";4789;...\n",
        "3  35;\"management\";\"single\";\"tertiary\";\"no\";1350;...\n",
        "4  30;\"management\";\"married\";\"tertiary\";\"no\";1476..."
       ]
      }
     ],
     "prompt_number": 3
    },
    {
     "cell_type": "code",
     "collapsed": false,
     "input": [
      "#removing quotes\n",
      "data.iloc[:,0] = data.iloc[:,0].str.replace('\"','')\n",
      "#splitting columns on semicolon\n",
      "headers = data.iloc[0,0].split(';')\n",
      "data = pd.DataFrame(data.iloc[1:,0].str.split(';').tolist())\n",
      "data.columns = headers"
     ],
     "language": "python",
     "metadata": {},
     "outputs": [],
     "prompt_number": 4
    },
    {
     "cell_type": "code",
     "collapsed": false,
     "input": [
      "data.info()"
     ],
     "language": "python",
     "metadata": {},
     "outputs": [
      {
       "output_type": "stream",
       "stream": "stdout",
       "text": [
        "<class 'pandas.core.frame.DataFrame'>\n",
        "Int64Index: 4521 entries, 0 to 4520\n",
        "Data columns (total 17 columns):\n",
        "age          4521 non-null object\n",
        "job          4521 non-null object\n",
        "marital      4521 non-null object\n",
        "education    4521 non-null object\n",
        "default      4521 non-null object\n",
        "balance      4521 non-null object\n",
        "housing      4521 non-null object\n",
        "loan         4521 non-null object\n",
        "contact      4521 non-null object\n",
        "day          4521 non-null object\n",
        "month        4521 non-null object\n",
        "duration     4521 non-null object\n",
        "campaign     4521 non-null object\n",
        "pdays        4521 non-null object\n",
        "previous     4521 non-null object\n",
        "poutcome     4521 non-null object\n",
        "y            4521 non-null object\n",
        "dtypes: object(17)"
       ]
      }
     ],
     "prompt_number": 5
    },
    {
     "cell_type": "markdown",
     "metadata": {},
     "source": [
      "age, balance, duration, campaign, pdays (except when -1), and previous are continuous variables. Default, housing, and loan are binary. Job, marital, education, contact, and poutcome are categorical. Month and day are discrete variables with 12 possible values for month and 31 possible values for day."
     ]
    },
    {
     "cell_type": "heading",
     "level": 3,
     "metadata": {},
     "source": [
      "2. transform the features to numerical features"
     ]
    },
    {
     "cell_type": "code",
     "collapsed": false,
     "input": [
      "#convert continuous variables from strings to ints\n",
      "data[['age','balance','day','duration','campaign','pdays','previous']] = data[['age','balance','day','duration','campaign','pdays','previous']].astype(int)"
     ],
     "language": "python",
     "metadata": {},
     "outputs": [],
     "prompt_number": 6
    },
    {
     "cell_type": "code",
     "collapsed": false,
     "input": [
      "#convert binary variables to 1 or 0\n",
      "data[['default','housing','loan','y']] = data[['default','housing','loan','y']].replace( {'yes': 1, 'no': 0} ).astype(int)"
     ],
     "language": "python",
     "metadata": {},
     "outputs": [],
     "prompt_number": 7
    },
    {
     "cell_type": "code",
     "collapsed": false,
     "input": [
      "#transforming categorical variables\n",
      "categorical = ['job','marital','education','contact','poutcome', 'month']\n",
      "for n in categorical:\n",
      "    temp_df = pd.get_dummies(data[n])\n",
      "    data.drop(n,axis=1,inplace=True)\n",
      "    data = pd.merge(temp_df.iloc[:,0:-1],data,left_index=True,right_index=True)"
     ],
     "language": "python",
     "metadata": {},
     "outputs": [],
     "prompt_number": 8
    },
    {
     "cell_type": "code",
     "collapsed": false,
     "input": [
      "data.info()"
     ],
     "language": "python",
     "metadata": {},
     "outputs": [
      {
       "output_type": "stream",
       "stream": "stdout",
       "text": [
        "<class 'pandas.core.frame.DataFrame'>\n",
        "Int64Index: 4521 entries, 0 to 4520\n",
        "Data columns (total 43 columns):\n",
        "apr              4521 non-null float64\n",
        "aug              4521 non-null float64\n",
        "dec              4521 non-null float64\n",
        "feb              4521 non-null float64\n",
        "jan              4521 non-null float64\n",
        "jul              4521 non-null float64\n",
        "jun              4521 non-null float64\n",
        "mar              4521 non-null float64\n",
        "may              4521 non-null float64\n",
        "nov              4521 non-null float64\n",
        "oct              4521 non-null float64\n",
        "failure          4521 non-null float64\n",
        "other            4521 non-null float64\n",
        "success          4521 non-null float64\n",
        "cellular         4521 non-null float64\n",
        "telephone        4521 non-null float64\n",
        "primary          4521 non-null float64\n",
        "secondary        4521 non-null float64\n",
        "tertiary         4521 non-null float64\n",
        "divorced         4521 non-null float64\n",
        "married          4521 non-null float64\n",
        "admin.           4521 non-null float64\n",
        "blue-collar      4521 non-null float64\n",
        "entrepreneur     4521 non-null float64\n",
        "housemaid        4521 non-null float64\n",
        "management       4521 non-null float64\n",
        "retired          4521 non-null float64\n",
        "self-employed    4521 non-null float64\n",
        "services         4521 non-null float64\n",
        "student          4521 non-null float64\n",
        "technician       4521 non-null float64\n",
        "unemployed       4521 non-null float64\n",
        "age              4521 non-null int32\n",
        "default          4521 non-null int32\n",
        "balance          4521 non-null int32\n",
        "housing          4521 non-null int32\n",
        "loan             4521 non-null int32\n",
        "day              4521 non-null int32\n",
        "duration         4521 non-null int32\n",
        "campaign         4521 non-null int32\n",
        "pdays            4521 non-null int32\n",
        "previous         4521 non-null int32\n",
        "y                4521 non-null int32\n",
        "dtypes: float64(32), int32(11)"
       ]
      }
     ],
     "prompt_number": 9
    },
    {
     "cell_type": "code",
     "collapsed": false,
     "input": [
      "def prep_data(file):\n",
      "    data = pd.read_csv(file,header=None)\n",
      "    data.iloc[:,0] = data.iloc[:,0].str.replace('\"','')   #removing quotes\n",
      "    headers = data.iloc[0,0].split(';')     #splitting columns on semicolon\n",
      "    data = pd.DataFrame(data.iloc[1:,0].str.split(';').tolist())\n",
      "    data.columns = headers\n",
      "    data[['age','balance','day','duration','campaign','pdays','previous']] = data[['age','balance','day','duration','campaign','pdays','previous']].astype(int)\n",
      "\n",
      "    # Converting binary and categorical variables\n",
      "    data[['default','housing','loan','y']] = data[['default','housing','loan','y']].replace( {'yes': 1, 'no': 0} ).astype(int)\n",
      "    categorical = ['job','marital','education','contact','poutcome', 'month']\n",
      "    for n in categorical:\n",
      "        temp_df = pd.get_dummies(data[n])\n",
      "        data.drop(n,axis=1,inplace=True)\n",
      "        data = pd.merge(temp_df.iloc[:,0:-1],data,left_index=True,right_index=True)\n",
      "    return data"
     ],
     "language": "python",
     "metadata": {},
     "outputs": [],
     "prompt_number": 10
    },
    {
     "cell_type": "code",
     "collapsed": false,
     "input": [
      "data = prep_data('bank.csv')"
     ],
     "language": "python",
     "metadata": {},
     "outputs": [],
     "prompt_number": 11
    },
    {
     "cell_type": "code",
     "collapsed": false,
     "input": [
      "x = data.iloc[:,0:-1]\n",
      "y = data.y"
     ],
     "language": "python",
     "metadata": {},
     "outputs": [],
     "prompt_number": 12
    },
    {
     "cell_type": "heading",
     "level": 3,
     "metadata": {},
     "source": [
      "3. Build a simple decision tree model to predict the classification goal."
     ]
    },
    {
     "cell_type": "code",
     "collapsed": false,
     "input": [
      "X_train, X_test, y_train, y_test = train_test_split(data.iloc[:,0:-1], data.y, test_size=0.4, random_state=0)\n",
      "\n",
      "model = tree.DecisionTreeClassifier(random_state=0)\n",
      "model.fit(X_train,y_train)\n",
      "print model.score(X_train, y_train)\n",
      "print model.score(X_test, y_test)"
     ],
     "language": "python",
     "metadata": {},
     "outputs": [
      {
       "output_type": "stream",
       "stream": "stdout",
       "text": [
        "1.0\n",
        "0.868988391376\n"
       ]
      }
     ],
     "prompt_number": 13
    },
    {
     "cell_type": "code",
     "collapsed": false,
     "input": [
      "model.feature_importances_"
     ],
     "language": "python",
     "metadata": {},
     "outputs": [
      {
       "metadata": {},
       "output_type": "pyout",
       "prompt_number": 14,
       "text": [
        "array([ 0.01849148,  0.00583594,  0.        ,  0.01180063,  0.00480181,\n",
        "        0.        ,  0.00989214,  0.0117302 ,  0.00183136,  0.01289572,\n",
        "        0.02344953,  0.        ,  0.00464645,  0.08612051,  0.01294687,\n",
        "        0.00848959,  0.00448684,  0.00729929,  0.00962124,  0.        ,\n",
        "        0.00673473,  0.00163415,  0.        ,  0.00882822,  0.00244182,\n",
        "        0.0167904 ,  0.00652963,  0.00079753,  0.0048582 ,  0.00046041,\n",
        "        0.01178148,  0.00595286,  0.10306079,  0.00293018,  0.10382792,\n",
        "        0.01055077,  0.00655478,  0.1022999 ,  0.28321141,  0.02581599,\n",
        "        0.04248007,  0.01811918])"
       ]
      }
     ],
     "prompt_number": 14
    },
    {
     "cell_type": "heading",
     "level": 3,
     "metadata": {},
     "source": [
      "4. Evaluate the result of the classification with cross-validation."
     ]
    },
    {
     "cell_type": "code",
     "collapsed": false,
     "input": [
      "def cross_validate(X, y, classifier, k_fold):\n",
      "    k_fold_indices = KFold(len(X), n_folds=k_fold, shuffle=True, random_state=0)\n",
      "    train_score = 0\n",
      "    test_score = 0\n",
      "    for train, test in k_fold_indices:\n",
      "        classifier.fit(X.loc[train],y.loc[train])\n",
      "        train_score += classifier.score(X.loc[train], y.loc[train])\n",
      "        test_score += classifier.score(X.loc[test], y.loc[test])\n",
      "    print \"train score: \" +str(train_score/k_fold)\n",
      "    print \"test_score: \" + str(test_score/k_fold)"
     ],
     "language": "python",
     "metadata": {},
     "outputs": [],
     "prompt_number": 15
    },
    {
     "cell_type": "code",
     "collapsed": false,
     "input": [
      "cross_validate(x,data.y,tree.DecisionTreeClassifier(random_state=0),5)"
     ],
     "language": "python",
     "metadata": {},
     "outputs": [
      {
       "output_type": "stream",
       "stream": "stdout",
       "text": [
        "train score: 1.0\n",
        "test_score: 0.864633305628\n"
       ]
      }
     ],
     "prompt_number": 16
    },
    {
     "cell_type": "code",
     "collapsed": false,
     "input": [
      "cross_validate(x,data.y,RandomForestClassifier(max_depth=5,random_state=0),5)"
     ],
     "language": "python",
     "metadata": {},
     "outputs": [
      {
       "output_type": "stream",
       "stream": "stdout",
       "text": [
        "train score: 0.899690283837\n",
        "test_score: 0.892502322398\n"
       ]
      }
     ],
     "prompt_number": 17
    },
    {
     "cell_type": "heading",
     "level": 3,
     "metadata": {},
     "source": [
      "5. Extend the analysis and cross-validation to bank-additional-full.csv. How does\n",
      "the performance change?"
     ]
    },
    {
     "cell_type": "code",
     "collapsed": false,
     "input": [
      "data = pd.read_csv('bank-additional-full.csv',header=None)\n",
      "data.iloc[:,0] = data.iloc[:,0].str.replace('\"','')\n",
      "headers = data.iloc[0,0].split(';')\n",
      "data = pd.DataFrame(data.iloc[1:,0].str.split(';').tolist())\n",
      "data.columns = headers"
     ],
     "language": "python",
     "metadata": {},
     "outputs": [],
     "prompt_number": 18
    },
    {
     "cell_type": "code",
     "collapsed": false,
     "input": [
      "numerical = ['age','duration','campaign','pdays','previous','emp.var.rate','cons.price.idx','cons.conf.idx','euribor3m','nr.employed']\n",
      "data[numerical] = data[numerical].astype(float)"
     ],
     "language": "python",
     "metadata": {},
     "outputs": [],
     "prompt_number": 19
    },
    {
     "cell_type": "code",
     "collapsed": false,
     "input": [
      "categorical = ['default','housing','loan','job','marital','education','contact','poutcome', 'month','day_of_week']\n",
      "for n in categorical:\n",
      "    temp_df = pd.get_dummies(data[n])\n",
      "    data.drop(n,axis=1,inplace=True)\n",
      "    data = pd.merge(temp_df.iloc[:,0:-1],data,left_index=True,right_index=True)"
     ],
     "language": "python",
     "metadata": {},
     "outputs": [],
     "prompt_number": 20
    },
    {
     "cell_type": "code",
     "collapsed": false,
     "input": [
      "data.info()"
     ],
     "language": "python",
     "metadata": {},
     "outputs": [
      {
       "output_type": "stream",
       "stream": "stdout",
       "text": [
        "<class 'pandas.core.frame.DataFrame'>\n",
        "Int64Index: 41188 entries, 0 to 41187\n",
        "Data columns (total 54 columns):\n",
        "fri                    41188 non-null float64\n",
        "mon                    41188 non-null float64\n",
        "thu                    41188 non-null float64\n",
        "tue                    41188 non-null float64\n",
        "apr                    41188 non-null float64\n",
        "aug                    41188 non-null float64\n",
        "dec                    41188 non-null float64\n",
        "jul                    41188 non-null float64\n",
        "jun                    41188 non-null float64\n",
        "mar                    41188 non-null float64\n",
        "may                    41188 non-null float64\n",
        "nov                    41188 non-null float64\n",
        "oct                    41188 non-null float64\n",
        "failure                41188 non-null float64\n",
        "nonexistent            41188 non-null float64\n",
        "cellular               41188 non-null float64\n",
        "basic.4y               41188 non-null float64\n",
        "basic.6y               41188 non-null float64\n",
        "basic.9y               41188 non-null float64\n",
        "high.school            41188 non-null float64\n",
        "illiterate             41188 non-null float64\n",
        "professional.course    41188 non-null float64\n",
        "university.degree      41188 non-null float64\n",
        "divorced               41188 non-null float64\n",
        "married                41188 non-null float64\n",
        "single                 41188 non-null float64\n",
        "admin.                 41188 non-null float64\n",
        "blue-collar            41188 non-null float64\n",
        "entrepreneur           41188 non-null float64\n",
        "housemaid              41188 non-null float64\n",
        "management             41188 non-null float64\n",
        "retired                41188 non-null float64\n",
        "self-employed          41188 non-null float64\n",
        "services               41188 non-null float64\n",
        "student                41188 non-null float64\n",
        "technician             41188 non-null float64\n",
        "unemployed             41188 non-null float64\n",
        "no                     41188 non-null float64\n",
        "unknown                41188 non-null float64\n",
        "no_x                   41188 non-null float64\n",
        "unknown_x              41188 non-null float64\n",
        "no_y                   41188 non-null float64\n",
        "unknown_y              41188 non-null float64\n",
        "age                    41188 non-null float64\n",
        "duration               41188 non-null float64\n",
        "campaign               41188 non-null float64\n",
        "pdays                  41188 non-null float64\n",
        "previous               41188 non-null float64\n",
        "emp.var.rate           41188 non-null float64\n",
        "cons.price.idx         41188 non-null float64\n",
        "cons.conf.idx          41188 non-null float64\n",
        "euribor3m              41188 non-null float64\n",
        "nr.employed            41188 non-null float64\n",
        "y                      41188 non-null object\n",
        "dtypes: float64(53), object(1)"
       ]
      }
     ],
     "prompt_number": 21
    },
    {
     "cell_type": "code",
     "collapsed": false,
     "input": [
      "x = data.iloc[:,0:-1]\n",
      "y = data.y"
     ],
     "language": "python",
     "metadata": {},
     "outputs": [],
     "prompt_number": 22
    },
    {
     "cell_type": "code",
     "collapsed": false,
     "input": [
      "cross_validate(x,data.y,tree.DecisionTreeClassifier(random_state=0),5)"
     ],
     "language": "python",
     "metadata": {},
     "outputs": [
      {
       "output_type": "stream",
       "stream": "stdout",
       "text": [
        "train score: 1.0\n",
        "test_score: 0.890429260282\n"
       ]
      }
     ],
     "prompt_number": 23
    },
    {
     "cell_type": "markdown",
     "metadata": {},
     "source": [
      "Performance improved significantly from a test score of .8646 bank.csv to a score of .8904 with bank-additional-full.csv"
     ]
    },
    {
     "cell_type": "heading",
     "level": 3,
     "metadata": {},
     "source": [
      "6. Improve your model by using an ensemble method (RandomForest or\n",
      "ExtraTrees). How does the cross-validation performance improve?"
     ]
    },
    {
     "cell_type": "code",
     "collapsed": false,
     "input": [
      "cross_validate(x,data.y,RandomForestClassifier(max_depth=5,random_state=0),5)"
     ],
     "language": "python",
     "metadata": {},
     "outputs": [
      {
       "output_type": "stream",
       "stream": "stdout",
       "text": [
        "train score: 0.90327280057\n",
        "test_score: 0.901864599195\n"
       ]
      }
     ],
     "prompt_number": 24
    },
    {
     "cell_type": "markdown",
     "metadata": {},
     "source": [
      "The random forest classifier performs better than the decision tree (.9019 vs. 8904)"
     ]
    },
    {
     "cell_type": "heading",
     "level": 3,
     "metadata": {},
     "source": [
      "7: read about learning curves and plot the learning\n",
      "curves for your best model."
     ]
    },
    {
     "cell_type": "code",
     "collapsed": false,
     "input": [
      "def plot_learning_curve(estimator, title, X, y, ylim=None, cv=None,\n",
      "                        n_jobs=1, train_sizes=np.linspace(.1, 1.0, 5)):\n",
      "    \"\"\"\n",
      "    Generate a simple plot of the test and traning learning curve.\n",
      "\n",
      "    Parameters\n",
      "    ----------\n",
      "    estimator : object type that implements the \"fit\" and \"predict\" methods\n",
      "        An object of that type which is cloned for each validation.\n",
      "\n",
      "    title : string\n",
      "        Title for the chart.\n",
      "\n",
      "    X : array-like, shape (n_samples, n_features)\n",
      "        Training vector, where n_samples is the number of samples and\n",
      "        n_features is the number of features.\n",
      "\n",
      "    y : array-like, shape (n_samples) or (n_samples, n_features), optional\n",
      "        Target relative to X for classification or regression;\n",
      "        None for unsupervised learning.\n",
      "\n",
      "    ylim : tuple, shape (ymin, ymax), optional\n",
      "        Defines minimum and maximum yvalues plotted.\n",
      "\n",
      "    cv : integer, cross-validation generator, optional\n",
      "        If an integer is passed, it is the number of folds (defaults to 3).\n",
      "        Specific cross-validation objects can be passed, see\n",
      "        sklearn.cross_validation module for the list of possible objects\n",
      "\n",
      "    n_jobs : integer, optional\n",
      "        Number of jobs to run in parallel (default 1).\n",
      "    \"\"\"\n",
      "    plt.figure()\n",
      "    plt.title(title)\n",
      "    if ylim is not None:\n",
      "        plt.ylim(*ylim)\n",
      "    plt.xlabel(\"Training examples\")\n",
      "    plt.ylabel(\"Score\")\n",
      "    train_sizes, train_scores, test_scores = learning_curve(\n",
      "        estimator, X, y, cv=cv, n_jobs=n_jobs, train_sizes=train_sizes)\n",
      "    train_scores_mean = np.mean(train_scores, axis=1)\n",
      "    train_scores_std = np.std(train_scores, axis=1)\n",
      "    test_scores_mean = np.mean(test_scores, axis=1)\n",
      "    test_scores_std = np.std(test_scores, axis=1)\n",
      "    plt.grid()\n",
      "\n",
      "    plt.fill_between(train_sizes, train_scores_mean - train_scores_std,\n",
      "                     train_scores_mean + train_scores_std, alpha=0.1,\n",
      "                     color=\"r\")\n",
      "    plt.fill_between(train_sizes, test_scores_mean - test_scores_std,\n",
      "                     test_scores_mean + test_scores_std, alpha=0.1, color=\"g\")\n",
      "    plt.plot(train_sizes, train_scores_mean, 'o-', color=\"r\",\n",
      "             label=\"Training score\")\n",
      "    plt.plot(train_sizes, test_scores_mean, 'o-', color=\"g\",\n",
      "             label=\"Cross-validation score\")\n",
      "\n",
      "    plt.legend(loc=\"best\")\n",
      "    return plt"
     ],
     "language": "python",
     "metadata": {},
     "outputs": [],
     "prompt_number": 25
    },
    {
     "cell_type": "code",
     "collapsed": false,
     "input": [
      "data = prep_data('bank.csv')\n",
      "X = data.iloc[:,0:-1]\n",
      "y = data.y\n",
      "\n",
      "title = \"Learning Curves (Decision Tree)\"\n",
      "# Cross validation with 100 iterations to get smoother mean test and train\n",
      "# score curves, each time with 20% data randomly selected as a validation set.\n",
      "cv = cross_validation.ShuffleSplit(X.shape[0], n_iter=100,\n",
      "                                   test_size=0.2, random_state=0)\n",
      "\n",
      "estimator = tree.DecisionTreeClassifier(random_state=0)\n",
      "plot_learning_curve(estimator, title, X, y, ylim=(0.7, 1.01), cv=cv, n_jobs=4)\n",
      "\n",
      "title = \"Learning Curves (Random Forrest, RBF kernel, $\\gamma=0.001$)\"\n",
      "# SVC is more expensive so we do a lower number of CV iterations:\n",
      "cv = cross_validation.ShuffleSplit(X.shape[0], n_iter=10,\n",
      "                                   test_size=0.2, random_state=0)\n",
      "estimator = RandomForestClassifier(max_depth=5,random_state=0)\n",
      "plot_learning_curve(estimator, title, X, y, (0.7, 1.01), cv=cv, n_jobs=4)\n",
      "\n",
      "plt.show()"
     ],
     "language": "python",
     "metadata": {},
     "outputs": [
      {
       "metadata": {},
       "output_type": "display_data",
       "png": "[encoded data removed]",
       "text": [
        "<matplotlib.figure.Figure at 0xa802676c>"
       ]
      },
      {
       "metadata": {},
       "output_type": "display_data",
       "png": "[encoded data removed]",
       "text": [
        "<matplotlib.figure.Figure at 0xa8057bec>"
       ]
      }
     ],
     "prompt_number": 28
    },
    {
     "cell_type": "code",
     "collapsed": false,
     "input": [],
     "language": "python",
     "metadata": {},
     "outputs": []
    }
   ],
   "metadata": {}
  }
 ]
}