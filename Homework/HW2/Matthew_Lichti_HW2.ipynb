{
 "metadata": {
  "name": "",
  "signature": "sha256:9473c557f2e8d0dc7ca2dcbf8758db354ac56d75c3de335e40f3a02c09a94850"
 },
 "nbformat": 3,
 "nbformat_minor": 0,
 "worksheets": [
  {
   "cells": [
    {
     "cell_type": "code",
     "collapsed": false,
     "input": [
      "import pandas as pd\n",
      "import numpy as np"
     ],
     "language": "python",
     "metadata": {},
     "outputs": [],
     "prompt_number": 1
    },
    {
     "cell_type": "code",
     "collapsed": false,
     "input": [
      "Iris_data = pd.read_csv('iris.csv', header=None)"
     ],
     "language": "python",
     "metadata": {},
     "outputs": [],
     "prompt_number": 2
    },
    {
     "cell_type": "code",
     "collapsed": false,
     "input": [
      "#separating the 4 feature columns X from the classification column y\n",
      "X = Iris_data.iloc[0:150,0:4]\n",
      "y = Iris_data.iloc[0:150,4]\n",
      "# print X\n",
      "# print y"
     ],
     "language": "python",
     "metadata": {},
     "outputs": [],
     "prompt_number": 3
    },
    {
     "cell_type": "code",
     "collapsed": false,
     "input": [
      "#Problem 1: Implement KNN classification, using the sklearn package\n",
      "from sklearn.cross_validation import train_test_split\n",
      "from sklearn.neighbors import KNeighborsClassifier"
     ],
     "language": "python",
     "metadata": {},
     "outputs": [],
     "prompt_number": 4
    },
    {
     "cell_type": "code",
     "collapsed": false,
     "input": [
      "#implementing KNN classification function\n",
      "def knn(X_train, X_test, y_train, y_test,k):\n",
      "    myknn = KNeighborsClassifier(k).fit(X_train,y_train)\n",
      "    return myknn.score(X_test, y_test)"
     ],
     "language": "python",
     "metadata": {},
     "outputs": [],
     "prompt_number": 5
    },
    {
     "cell_type": "code",
     "collapsed": false,
     "input": [
      "#testing knn function\n",
      "X_train, X_test, y_train, y_test = train_test_split( X, y, test_size=0.20,random_state=0)\n",
      "print knn(X_train, X_test, y_train, y_test,3)"
     ],
     "language": "python",
     "metadata": {},
     "outputs": [
      {
       "output_type": "stream",
       "stream": "stdout",
       "text": [
        "0.966666666667\n"
       ]
      }
     ],
     "prompt_number": 6
    },
    {
     "cell_type": "code",
     "collapsed": false,
     "input": [
      "#Problem 2: Implement cross\u00advalidation for your KNN classifier.\n",
      "from sklearn.cross_validation import KFold"
     ],
     "language": "python",
     "metadata": {},
     "outputs": [],
     "prompt_number": 7
    },
    {
     "cell_type": "code",
     "collapsed": false,
     "input": [
      "kf = KFold(len(y), n_folds=5, shuffle=True)\n",
      "for train, test in kf:\n",
      "    #calling function knn from prob1 for each of 5 folds\n",
      "    print knn(X.iloc[train],X.iloc[test],y.iloc[train],y.iloc[test],3)"
     ],
     "language": "python",
     "metadata": {},
     "outputs": [
      {
       "output_type": "stream",
       "stream": "stdout",
       "text": [
        "0.933333333333\n",
        "1.0\n",
        "0.9\n",
        "0.966666666667\n",
        "1.0\n"
       ]
      }
     ],
     "prompt_number": 8
    },
    {
     "cell_type": "code",
     "collapsed": false,
     "input": [
      "score = np.array\n",
      "print score\n",
      "score.append(1)\n"
     ],
     "language": "python",
     "metadata": {},
     "outputs": [
      {
       "output_type": "stream",
       "stream": "stdout",
       "text": [
        "<built-in function array>\n"
       ]
      },
      {
       "ename": "AttributeError",
       "evalue": "'builtin_function_or_method' object has no attribute 'append'",
       "output_type": "pyerr",
       "traceback": [
        "\u001b[1;31m---------------------------------------------------------------------------\u001b[0m\n\u001b[1;31mAttributeError\u001b[0m                            Traceback (most recent call last)",
        "\u001b[1;32m<ipython-input-13-de0c8c5241e1>\u001b[0m in \u001b[0;36m<module>\u001b[1;34m()\u001b[0m\n\u001b[0;32m      1\u001b[0m \u001b[0mscore\u001b[0m \u001b[1;33m=\u001b[0m \u001b[0mnp\u001b[0m\u001b[1;33m.\u001b[0m\u001b[0marray\u001b[0m\u001b[1;33m\u001b[0m\u001b[0m\n\u001b[0;32m      2\u001b[0m \u001b[1;32mprint\u001b[0m \u001b[0mscore\u001b[0m\u001b[1;33m\u001b[0m\u001b[0m\n\u001b[1;32m----> 3\u001b[1;33m \u001b[0mscore\u001b[0m\u001b[1;33m.\u001b[0m\u001b[0mappend\u001b[0m\u001b[1;33m(\u001b[0m\u001b[1;36m1\u001b[0m\u001b[1;33m)\u001b[0m\u001b[1;33m\u001b[0m\u001b[0m\n\u001b[0m",
        "\u001b[1;31mAttributeError\u001b[0m: 'builtin_function_or_method' object has no attribute 'append'"
       ]
      }
     ],
     "prompt_number": 13
    },
    {
     "cell_type": "code",
     "collapsed": false,
     "input": [
      "#Problem 3: Use your KNN classifier and cross\u00advalidation code from (1) and (2) above to \n",
      "# determine the optimal value of K (number of nearest neighbors to consult) \n",
      "score = []\n",
      "kf = KFold(len(y), n_folds=5, shuffle=True)\n",
      "for k in xrange(1,len(train)):\n",
      "    new_score = 0\n",
      "    for train, test in kf:\n",
      "        #calling function from prob1 for each of 5 folds\n",
      "        new_score += .2 * knn(X.iloc[train],X.iloc[test],y.iloc[train],y.iloc[test],k)\n",
      "    print new_score\n",
      "    score.append([new_score,k])\n",
      "#     score.append(new_score)\n",
      "# print maximum score and k value of max score\n",
      "print max(score)\n",
      "#max score generally varies between k = 6 and k = 21\n",
      "print score"
     ],
     "language": "python",
     "metadata": {},
     "outputs": [
      {
       "output_type": "stream",
       "stream": "stdout",
       "text": [
        "0.96\n",
        "0.946666666667\n",
        "0.966666666667\n",
        "0.96"
       ]
      },
      {
       "output_type": "stream",
       "stream": "stdout",
       "text": [
        "\n",
        "0.96\n",
        "0.953333333333\n",
        "0.96"
       ]
      },
      {
       "output_type": "stream",
       "stream": "stdout",
       "text": [
        "\n",
        "0.966666666667\n",
        "0.98\n",
        "0.96"
       ]
      },
      {
       "output_type": "stream",
       "stream": "stdout",
       "text": [
        "\n",
        "0.96\n",
        "0.966666666667\n",
        "0.96"
       ]
      },
      {
       "output_type": "stream",
       "stream": "stdout",
       "text": [
        "\n",
        "0.966666666667\n",
        "0.973333333333\n",
        "0.973333333333"
       ]
      },
      {
       "output_type": "stream",
       "stream": "stdout",
       "text": [
        "\n",
        "0.966666666667\n",
        "0.96"
       ]
      },
      {
       "output_type": "stream",
       "stream": "stdout",
       "text": [
        "\n",
        "0.966666666667\n",
        "0.953333333333\n",
        "0.953333333333"
       ]
      },
      {
       "output_type": "stream",
       "stream": "stdout",
       "text": [
        "\n",
        "0.953333333333\n",
        "0.96\n",
        "0.96"
       ]
      },
      {
       "output_type": "stream",
       "stream": "stdout",
       "text": [
        "\n",
        "0.953333333333\n",
        "0.96\n",
        "0.946666666667"
       ]
      },
      {
       "output_type": "stream",
       "stream": "stdout",
       "text": [
        "\n",
        "0.946666666667\n",
        "0.946666666667\n",
        "0.946666666667"
       ]
      },
      {
       "output_type": "stream",
       "stream": "stdout",
       "text": [
        "\n",
        "0.94\n",
        "0.946666666667\n",
        "0.946666666667"
       ]
      },
      {
       "output_type": "stream",
       "stream": "stdout",
       "text": [
        "\n",
        "0.953333333333\n",
        "0.94\n",
        "0.946666666667"
       ]
      },
      {
       "output_type": "stream",
       "stream": "stdout",
       "text": [
        "\n",
        "0.953333333333\n",
        "0.946666666667\n",
        "0.946666666667"
       ]
      },
      {
       "output_type": "stream",
       "stream": "stdout",
       "text": [
        "\n",
        "0.946666666667\n",
        "0.946666666667\n",
        "0.94"
       ]
      },
      {
       "output_type": "stream",
       "stream": "stdout",
       "text": [
        "\n",
        "0.926666666667\n",
        "0.926666666667\n",
        "0.92"
       ]
      },
      {
       "output_type": "stream",
       "stream": "stdout",
       "text": [
        "\n",
        "0.926666666667\n",
        "0.92\n",
        "0.9"
       ]
      },
      {
       "output_type": "stream",
       "stream": "stdout",
       "text": [
        "\n",
        "0.913333333333\n",
        "0.906666666667\n",
        "0.906666666667"
       ]
      },
      {
       "output_type": "stream",
       "stream": "stdout",
       "text": [
        "\n",
        "0.9\n",
        "0.906666666667"
       ]
      },
      {
       "output_type": "stream",
       "stream": "stdout",
       "text": [
        "\n",
        "0.893333333333\n",
        "0.9\n",
        "0.893333333333"
       ]
      },
      {
       "output_type": "stream",
       "stream": "stdout",
       "text": [
        "\n",
        "0.9\n",
        "0.9"
       ]
      },
      {
       "output_type": "stream",
       "stream": "stdout",
       "text": [
        "\n",
        "0.893333333333\n",
        "0.9"
       ]
      },
      {
       "output_type": "stream",
       "stream": "stdout",
       "text": [
        "\n",
        "0.873333333333\n",
        "0.86"
       ]
      },
      {
       "output_type": "stream",
       "stream": "stdout",
       "text": [
        "\n",
        "0.866666666667\n",
        "0.853333333333"
       ]
      },
      {
       "output_type": "stream",
       "stream": "stdout",
       "text": [
        "\n",
        "0.86\n",
        "0.846666666667"
       ]
      },
      {
       "output_type": "stream",
       "stream": "stdout",
       "text": [
        "\n",
        "0.813333333333\n",
        "0.8"
       ]
      },
      {
       "output_type": "stream",
       "stream": "stdout",
       "text": [
        "\n",
        "0.8\n",
        "0.8"
       ]
      },
      {
       "output_type": "stream",
       "stream": "stdout",
       "text": [
        "\n",
        "0.793333333333\n",
        "0.793333333333\n",
        "0.793333333333"
       ]
      },
      {
       "output_type": "stream",
       "stream": "stdout",
       "text": [
        "\n",
        "0.8\n",
        "0.773333333333"
       ]
      },
      {
       "output_type": "stream",
       "stream": "stdout",
       "text": [
        "\n",
        "0.72\n",
        "0.68"
       ]
      },
      {
       "output_type": "stream",
       "stream": "stdout",
       "text": [
        "\n",
        "0.58\n",
        "0.573333333333\n",
        "0.56"
       ]
      },
      {
       "output_type": "stream",
       "stream": "stdout",
       "text": [
        "\n",
        "0.506666666667\n",
        "0.466666666667\n",
        "0.393333333333"
       ]
      },
      {
       "output_type": "stream",
       "stream": "stdout",
       "text": [
        "\n",
        "0.393333333333\n",
        "0.386666666667"
       ]
      },
      {
       "output_type": "stream",
       "stream": "stdout",
       "text": [
        "\n",
        "0.386666666667\n",
        "0.393333333333"
       ]
      },
      {
       "output_type": "stream",
       "stream": "stdout",
       "text": [
        "\n",
        "0.386666666667\n",
        "0.386666666667\n",
        "0.386666666667"
       ]
      },
      {
       "output_type": "stream",
       "stream": "stdout",
       "text": [
        "\n",
        "0.386666666667\n",
        "0.386666666667"
       ]
      },
      {
       "output_type": "stream",
       "stream": "stdout",
       "text": [
        "\n",
        "0.386666666667\n",
        "0.386666666667"
       ]
      },
      {
       "output_type": "stream",
       "stream": "stdout",
       "text": [
        "\n",
        "0.38\n",
        "0.38\n",
        "0.373333333333"
       ]
      },
      {
       "output_type": "stream",
       "stream": "stdout",
       "text": [
        "\n",
        "0.373333333333\n",
        "0.373333333333\n",
        "0.373333333333"
       ]
      },
      {
       "output_type": "stream",
       "stream": "stdout",
       "text": [
        "\n",
        "0.373333333333\n",
        "0.373333333333\n",
        "0.373333333333"
       ]
      },
      {
       "output_type": "stream",
       "stream": "stdout",
       "text": [
        "\n",
        "0.373333333333\n",
        "0.373333333333\n",
        "0.373333333333"
       ]
      },
      {
       "output_type": "stream",
       "stream": "stdout",
       "text": [
        "\n",
        "0.373333333333\n",
        "0.366666666667\n",
        "0.366666666667"
       ]
      },
      {
       "output_type": "stream",
       "stream": "stdout",
       "text": [
        "\n",
        "0.366666666667\n",
        "0.366666666667\n",
        "0.366666666667"
       ]
      },
      {
       "output_type": "stream",
       "stream": "stdout",
       "text": [
        "\n",
        "0.366666666667\n",
        "0.366666666667\n",
        "0.306666666667"
       ]
      },
      {
       "output_type": "stream",
       "stream": "stdout",
       "text": [
        "\n",
        "0.293333333333\n",
        "0.293333333333\n",
        "0.28"
       ]
      },
      {
       "output_type": "stream",
       "stream": "stdout",
       "text": [
        "\n",
        "0.226666666667\n",
        "[0.98000000000000009, 9]\n",
        "[[0.96000000000000008, 1], [0.94666666666666677, 2], [0.96666666666666667, 3], [0.96000000000000008, 4], [0.96000000000000008, 5], [0.95333333333333337, 6], [0.96000000000000008, 7], [0.96666666666666679, 8], [0.98000000000000009, 9], [0.96000000000000008, 10], [0.96000000000000008, 11], [0.96666666666666679, 12], [0.96000000000000019, 13], [0.96666666666666679, 14], [0.97333333333333338, 15], [0.97333333333333338, 16], [0.96666666666666667, 17], [0.96000000000000008, 18], [0.96666666666666667, 19], [0.95333333333333348, 20], [0.95333333333333348, 21], [0.95333333333333348, 22], [0.96000000000000008, 23], [0.96000000000000008, 24], [0.95333333333333348, 25], [0.96000000000000008, 26], [0.94666666666666688, 27], [0.94666666666666677, 28], [0.94666666666666677, 29], [0.94666666666666677, 30], [0.94000000000000017, 31], [0.94666666666666677, 32], [0.94666666666666677, 33], [0.95333333333333359, 34], [0.94000000000000006, 35], [0.94666666666666677, 36], [0.95333333333333348, 37], [0.94666666666666666, 38], [0.94666666666666666, 39], [0.94666666666666666, 40], [0.94666666666666666, 41], [0.94000000000000006, 42], [0.92666666666666675, 43], [0.92666666666666675, 44], [0.92000000000000004, 45], [0.92666666666666675, 46], [0.92000000000000004, 47], [0.90000000000000002, 48], [0.91333333333333333, 49], [0.90666666666666673, 50], [0.90666666666666673, 51], [0.90000000000000002, 52], [0.90666666666666673, 53], [0.89333333333333342, 54], [0.90000000000000002, 55], [0.89333333333333342, 56], [0.90000000000000002, 57], [0.90000000000000002, 58], [0.89333333333333342, 59], [0.90000000000000002, 60], [0.87333333333333341, 61], [0.8600000000000001, 62], [0.86666666666666681, 63], [0.85333333333333339, 64], [0.8600000000000001, 65], [0.84666666666666679, 66], [0.81333333333333346, 67], [0.80000000000000004, 68], [0.80000000000000004, 69], [0.80000000000000004, 70], [0.79333333333333345, 71], [0.79333333333333345, 72], [0.79333333333333345, 73], [0.80000000000000016, 74], [0.77333333333333343, 75], [0.72000000000000008, 76], [0.68000000000000005, 77], [0.57999999999999996, 78], [0.57333333333333336, 79], [0.55999999999999994, 80], [0.50666666666666671, 81], [0.46666666666666667, 82], [0.39333333333333331, 83], [0.39333333333333331, 84], [0.38666666666666666, 85], [0.38666666666666666, 86], [0.39333333333333331, 87], [0.38666666666666666, 88], [0.38666666666666666, 89], [0.38666666666666666, 90], [0.38666666666666666, 91], [0.38666666666666666, 92], [0.38666666666666666, 93], [0.38666666666666666, 94], [0.38, 95], [0.38, 96], [0.37333333333333335, 97], [0.37333333333333335, 98], [0.37333333333333335, 99], [0.37333333333333335, 100], [0.37333333333333335, 101], [0.37333333333333335, 102], [0.37333333333333335, 103], [0.37333333333333335, 104], [0.37333333333333335, 105], [0.37333333333333335, 106], [0.37333333333333335, 107], [0.3666666666666667, 108], [0.3666666666666667, 109], [0.3666666666666667, 110], [0.3666666666666667, 111], [0.3666666666666667, 112], [0.3666666666666667, 113], [0.3666666666666667, 114], [0.3066666666666667, 115], [0.29333333333333333, 116], [0.29333333333333333, 117], [0.28000000000000003, 118], [0.22666666666666668, 119]]\n"
       ]
      }
     ],
     "prompt_number": 10
    },
    {
     "cell_type": "code",
     "collapsed": false,
     "input": [
      "#problem 4: Using matplotlib, plot classifier accuracy versus the hyperparameter K for a range \n",
      "# of K that you consider interesting\n",
      "import matplotlib.pyplot as plt\n",
      "print score\n",
      "plt.plot(score)\n",
      "plt.show()\n",
      "\n"
     ],
     "language": "python",
     "metadata": {},
     "outputs": []
    },
    {
     "cell_type": "code",
     "collapsed": false,
     "input": [
      "k_fold_indices = KFold(len(X), n_folds=5,indices=True, shuffle=True)\n",
      "print  k_fold_indices"
     ],
     "language": "python",
     "metadata": {},
     "outputs": []
    },
    {
     "cell_type": "code",
     "collapsed": false,
     "input": [
      "kf = KFold(len(y), n_folds=5, shuffle=True)\n",
      "# for train, test in kf:\n",
      "#     print X.iloc[train]\n",
      "#     print y[train]\n",
      "#     print y[test]\n"
     ],
     "language": "python",
     "metadata": {},
     "outputs": []
    },
    {
     "cell_type": "code",
     "collapsed": false,
     "input": [
      "kf = KFold(len(y), n_folds=5, shuffle=True)\n",
      "for train, test in kf:\n",
      "    myknn = KNeighborsClassifier(10).fit(X.iloc[train],y[train])\n",
      "    print myknn.score(X.iloc[test], y[test])"
     ],
     "language": "python",
     "metadata": {},
     "outputs": []
    },
    {
     "cell_type": "code",
     "collapsed": false,
     "input": [
      "for k in xrange(1,120):\n",
      "    kf = KFold(len(y), n_folds=5, shuffle=True)\n",
      "    score = 0\n",
      "    for train, test in kf:\n",
      "        myknn = KNeighborsClassifier(k).fit(X.iloc[train],y[train])\n",
      "        score += .2 * myknn.score(X_test, y_test)\n",
      "    print score"
     ],
     "language": "python",
     "metadata": {},
     "outputs": []
    },
    {
     "cell_type": "code",
     "collapsed": false,
     "input": [
      "for n in xrange(2,6):\n",
      "    print n"
     ],
     "language": "python",
     "metadata": {},
     "outputs": [
      {
       "output_type": "stream",
       "stream": "stdout",
       "text": [
        "2\n",
        "3\n",
        "4\n",
        "5\n"
       ]
      }
     ],
     "prompt_number": 48
    },
    {
     "cell_type": "code",
     "collapsed": false,
     "input": [],
     "language": "python",
     "metadata": {},
     "outputs": []
    }
   ],
   "metadata": {}
  }
 ]
}