{
 "metadata": {
  "name": "",
  "signature": "sha256:18e4205359614a2110df854ba03b2866fb9fbff82ab82cab4485a1e3f4b6247f"
 },
 "nbformat": 3,
 "nbformat_minor": 0,
 "worksheets": [
  {
   "cells": [
    {
     "cell_type": "code",
     "collapsed": false,
     "input": [
      "import pandas as pd\n",
      "import numpy as np"
     ],
     "language": "python",
     "metadata": {},
     "outputs": [],
     "prompt_number": 2
    },
    {
     "cell_type": "code",
     "collapsed": false,
     "input": [
      "Iris_data = pd.read_csv('iris.csv', header=None)"
     ],
     "language": "python",
     "metadata": {},
     "outputs": [],
     "prompt_number": 74
    },
    {
     "cell_type": "code",
     "collapsed": false,
     "input": [
      "#separating the 4 feature columns X from the classification column y\n",
      "X = Iris_data.iloc[0:150,0:4]\n",
      "y = Iris_data.iloc[0:150,4]\n",
      "# print X\n",
      "# print y"
     ],
     "language": "python",
     "metadata": {},
     "outputs": [],
     "prompt_number": 75
    },
    {
     "cell_type": "code",
     "collapsed": false,
     "input": [
      "#Problem 1: Implement KNN classification, using the sklearn package\n",
      "from sklearn.cross_validation import train_test_split\n",
      "from sklearn.neighbors import KNeighborsClassifier"
     ],
     "language": "python",
     "metadata": {},
     "outputs": [],
     "prompt_number": 116
    },
    {
     "cell_type": "code",
     "collapsed": false,
     "input": [
      "#implementing KNN classification function\n",
      "def knn(X_train, X_test, y_train, y_test,k):\n",
      "    myknn = KNeighborsClassifier(k).fit(X_train,y_train)\n",
      "    return myknn.score(X_test, y_test)"
     ],
     "language": "python",
     "metadata": {},
     "outputs": [],
     "prompt_number": 132
    },
    {
     "cell_type": "code",
     "collapsed": false,
     "input": [
      "#testing knn function\n",
      "X_train, X_test, y_train, y_test = train_test_split( X, y, test_size=0.20,random_state=0)\n",
      "print knn(X_train, X_test, y_train, y_test,3)"
     ],
     "language": "python",
     "metadata": {},
     "outputs": [
      {
       "output_type": "stream",
       "stream": "stdout",
       "text": [
        "0.966666666667\n"
       ]
      }
     ],
     "prompt_number": 133
    },
    {
     "cell_type": "code",
     "collapsed": false,
     "input": [
      "#Problem 2: Implement cross\u00advalidation for your KNN classifier.\n",
      "from sklearn.cross_validation import KFold"
     ],
     "language": "python",
     "metadata": {},
     "outputs": [],
     "prompt_number": 119
    },
    {
     "cell_type": "code",
     "collapsed": false,
     "input": [
      "kf = KFold(len(y), n_folds=5, shuffle=True)\n",
      "for train, test in kf:\n",
      "    #calling function knn from prob1 for each of 5 folds\n",
      "    print knn(X.iloc[train],X.iloc[test],y.iloc[train],y.iloc[test],3)"
     ],
     "language": "python",
     "metadata": {},
     "outputs": [
      {
       "output_type": "stream",
       "stream": "stdout",
       "text": [
        "1.0\n",
        "0.966666666667\n",
        "0.966666666667\n",
        "0.966666666667\n",
        "0.933333333333\n"
       ]
      }
     ],
     "prompt_number": 120
    },
    {
     "cell_type": "code",
     "collapsed": false,
     "input": [
      "#Problem 3: Use your KNN classifier and cross\u00advalidation code from (1) and (2) above to \n",
      "# determine the optimal value of K (number of nearest neighbors to consult) \n",
      "score = []\n",
      "kf = KFold(len(y), n_folds=5, shuffle=True)\n",
      "for k in xrange(1,len(train)):\n",
      "    new_score = 0\n",
      "    for train, test in kf:\n",
      "        #calling function from prob1 for each of 5 folds\n",
      "        new_score += .2 * knn(X.iloc[train],X.iloc[test],y.iloc[train],y.iloc[test],k)\n",
      "#     print new_score\n",
      "#     score.append([new_score,k])\n",
      "    score.append(new_score)\n",
      "# print maximum score and k value of max score\n",
      "print max(score)\n",
      "#max score generally varies between k = 6 and k = 21\n",
      "print score"
     ],
     "language": "python",
     "metadata": {},
     "outputs": [
      {
       "output_type": "stream",
       "stream": "stdout",
       "text": [
        "0.98\n",
        "[0.96000000000000008, 0.95333333333333337, 0.97333333333333338, 0.98000000000000009, 0.97333333333333338, 0.96666666666666667, 0.97333333333333338, 0.95999999999999996, 0.95999999999999996, 0.96666666666666667, 0.96666666666666679, 0.96000000000000008, 0.97333333333333338, 0.96666666666666667, 0.96666666666666667, 0.95333333333333337, 0.94666666666666677, 0.94666666666666677, 0.94666666666666677, 0.94666666666666677, 0.94666666666666677, 0.94666666666666677, 0.93333333333333346, 0.94000000000000017, 0.94000000000000006, 0.93333333333333346, 0.94000000000000017, 0.94000000000000017, 0.93333333333333357, 0.93333333333333357, 0.94000000000000006, 0.94000000000000017, 0.93333333333333346, 0.92000000000000015, 0.93333333333333357, 0.92666666666666675, 0.93333333333333357, 0.93333333333333335, 0.93333333333333335, 0.92666666666666675, 0.93333333333333335, 0.92666666666666675, 0.92666666666666675, 0.92000000000000015, 0.91333333333333355, 0.92000000000000015, 0.92000000000000015, 0.91333333333333333, 0.92000000000000015, 0.91333333333333333, 0.91333333333333333, 0.91333333333333333, 0.90666666666666673, 0.91333333333333333, 0.90666666666666662, 0.90666666666666673, 0.90000000000000002, 0.90666666666666673, 0.88666666666666683, 0.88666666666666671, 0.89333333333333342, 0.88, 0.89333333333333331, 0.88000000000000012, 0.89333333333333342, 0.88000000000000012, 0.88000000000000012, 0.88666666666666683, 0.86666666666666681, 0.8600000000000001, 0.86000000000000021, 0.84666666666666668, 0.83333333333333337, 0.77333333333333332, 0.78666666666666674, 0.77333333333333332, 0.77333333333333343, 0.71333333333333337, 0.67999999999999994, 0.67333333333333334, 0.66000000000000003, 0.64000000000000001, 0.62000000000000011, 0.60000000000000009, 0.59333333333333338, 0.58000000000000007, 0.56000000000000005, 0.56000000000000005, 0.52000000000000002, 0.48000000000000009, 0.47333333333333338, 0.47333333333333338, 0.46666666666666667, 0.45999999999999996, 0.45999999999999996, 0.45999999999999996, 0.45333333333333331, 0.45333333333333331, 0.45333333333333331, 0.44666666666666666, 0.44666666666666666, 0.44666666666666666, 0.44666666666666666, 0.44666666666666666, 0.44, 0.43333333333333329, 0.42666666666666664, 0.42666666666666664, 0.42666666666666664, 0.42666666666666664, 0.42666666666666664, 0.41999999999999998, 0.41333333333333333, 0.40000000000000002, 0.40000000000000002, 0.40000000000000002, 0.38666666666666666, 0.33333333333333337, 0.29999999999999999]\n"
       ]
      }
     ],
     "prompt_number": 189
    },
    {
     "cell_type": "code",
     "collapsed": false,
     "input": [
      "#problem 4: Using matplotlib, plot classifier accuracy versus the hyperparameter K for a range \n",
      "# of K that you consider interesting\n",
      "import matplotlib.pyplot as plt\n",
      "print score\n",
      "plt.plot(score)\n",
      "plt.show()\n",
      "\n"
     ],
     "language": "python",
     "metadata": {},
     "outputs": [
      {
       "output_type": "stream",
       "stream": "stdout",
       "text": [
        "[0.96000000000000008, 0.95333333333333337, 0.97333333333333338, 0.98000000000000009, 0.97333333333333338, 0.96666666666666667, 0.97333333333333338, 0.95999999999999996, 0.95999999999999996, 0.96666666666666667, 0.96666666666666679, 0.96000000000000008, 0.97333333333333338, 0.96666666666666667, 0.96666666666666667, 0.95333333333333337, 0.94666666666666677, 0.94666666666666677, 0.94666666666666677, 0.94666666666666677, 0.94666666666666677, 0.94666666666666677, 0.93333333333333346, 0.94000000000000017, 0.94000000000000006, 0.93333333333333346, 0.94000000000000017, 0.94000000000000017, 0.93333333333333357, 0.93333333333333357, 0.94000000000000006, 0.94000000000000017, 0.93333333333333346, 0.92000000000000015, 0.93333333333333357, 0.92666666666666675, 0.93333333333333357, 0.93333333333333335, 0.93333333333333335, 0.92666666666666675, 0.93333333333333335, 0.92666666666666675, 0.92666666666666675, 0.92000000000000015, 0.91333333333333355, 0.92000000000000015, 0.92000000000000015, 0.91333333333333333, 0.92000000000000015, 0.91333333333333333, 0.91333333333333333, 0.91333333333333333, 0.90666666666666673, 0.91333333333333333, 0.90666666666666662, 0.90666666666666673, 0.90000000000000002, 0.90666666666666673, 0.88666666666666683, 0.88666666666666671, 0.89333333333333342, 0.88, 0.89333333333333331, 0.88000000000000012, 0.89333333333333342, 0.88000000000000012, 0.88000000000000012, 0.88666666666666683, 0.86666666666666681, 0.8600000000000001, 0.86000000000000021, 0.84666666666666668, 0.83333333333333337, 0.77333333333333332, 0.78666666666666674, 0.77333333333333332, 0.77333333333333343, 0.71333333333333337, 0.67999999999999994, 0.67333333333333334, 0.66000000000000003, 0.64000000000000001, 0.62000000000000011, 0.60000000000000009, 0.59333333333333338, 0.58000000000000007, 0.56000000000000005, 0.56000000000000005, 0.52000000000000002, 0.48000000000000009, 0.47333333333333338, 0.47333333333333338, 0.46666666666666667, 0.45999999999999996, 0.45999999999999996, 0.45999999999999996, 0.45333333333333331, 0.45333333333333331, 0.45333333333333331, 0.44666666666666666, 0.44666666666666666, 0.44666666666666666, 0.44666666666666666, 0.44666666666666666, 0.44, 0.43333333333333329, 0.42666666666666664, 0.42666666666666664, 0.42666666666666664, 0.42666666666666664, 0.42666666666666664, 0.41999999999999998, 0.41333333333333333, 0.40000000000000002, 0.40000000000000002, 0.40000000000000002, 0.38666666666666666, 0.33333333333333337, 0.29999999999999999]\n"
       ]
      }
     ],
     "prompt_number": 194
    },
    {
     "cell_type": "code",
     "collapsed": false,
     "input": [
      "k_fold_indices = KFold(len(X), n_folds=5,indices=True, shuffle=True)\n",
      "print  k_fold_indices"
     ],
     "language": "python",
     "metadata": {},
     "outputs": [
      {
       "output_type": "stream",
       "stream": "stdout",
       "text": [
        "sklearn.cross_validation.KFold(n=150, n_folds=5, shuffle=True, random_state=None)\n"
       ]
      },
      {
       "output_type": "stream",
       "stream": "stderr",
       "text": [
        "/home/matt/.local/lib/python2.7/site-packages/sklearn/cross_validation.py:65: DeprecationWarning: The indices parameter is deprecated and will be removed (assumed True) in 0.17\n",
        "  stacklevel=1)\n"
       ]
      }
     ],
     "prompt_number": 193
    },
    {
     "cell_type": "code",
     "collapsed": false,
     "input": [
      "kf = KFold(len(y), n_folds=5, shuffle=True)\n",
      "# for train, test in kf:\n",
      "#     print X.iloc[train]\n",
      "#     print y[train]\n",
      "#     print y[test]\n"
     ],
     "language": "python",
     "metadata": {},
     "outputs": [],
     "prompt_number": 96
    },
    {
     "cell_type": "code",
     "collapsed": false,
     "input": [
      "kf = KFold(len(y), n_folds=5, shuffle=True)\n",
      "for train, test in kf:\n",
      "    myknn = KNeighborsClassifier(10).fit(X.iloc[train],y[train])\n",
      "    print myknn.score(X.iloc[test], y[test])"
     ],
     "language": "python",
     "metadata": {},
     "outputs": [
      {
       "output_type": "stream",
       "stream": "stdout",
       "text": [
        "0.933333333333\n",
        "0.933333333333\n",
        "0.966666666667\n",
        "0.933333333333\n",
        "1.0\n"
       ]
      }
     ],
     "prompt_number": 106
    },
    {
     "cell_type": "code",
     "collapsed": false,
     "input": [
      "for k in xrange(1,120):\n",
      "    kf = KFold(len(y), n_folds=5, shuffle=True)\n",
      "    score = 0\n",
      "    for train, test in kf:\n",
      "        myknn = KNeighborsClassifier(k).fit(X.iloc[train],y[train])\n",
      "        score += .2 * myknn.score(X_test, y_test)\n",
      "    print score"
     ],
     "language": "python",
     "metadata": {},
     "outputs": [
      {
       "output_type": "stream",
       "stream": "stdout",
       "text": [
        "1.0\n",
        "0.993333333333\n",
        "1.0\n",
        "1.0\n",
        "1.0"
       ]
      },
      {
       "output_type": "stream",
       "stream": "stdout",
       "text": [
        "\n",
        "1.0\n",
        "1.0\n",
        "1.0\n",
        "0.993333333333\n",
        "0.98"
       ]
      },
      {
       "output_type": "stream",
       "stream": "stdout",
       "text": [
        "\n",
        "0.986666666667\n",
        "0.986666666667\n",
        "0.993333333333\n",
        "0.986666666667"
       ]
      },
      {
       "output_type": "stream",
       "stream": "stdout",
       "text": [
        "\n",
        "1.0\n",
        "0.993333333333\n",
        "0.993333333333\n",
        "0.986666666667"
       ]
      },
      {
       "output_type": "stream",
       "stream": "stdout",
       "text": [
        "\n",
        "0.98\n",
        "0.973333333333\n",
        "0.98"
       ]
      },
      {
       "output_type": "stream",
       "stream": "stdout",
       "text": [
        "\n",
        "0.98\n",
        "0.973333333333\n",
        "0.96\n",
        "0.966666666667"
       ]
      },
      {
       "output_type": "stream",
       "stream": "stdout",
       "text": [
        "\n",
        "0.96\n",
        "0.96\n",
        "0.953333333333\n",
        "0.96"
       ]
      },
      {
       "output_type": "stream",
       "stream": "stdout",
       "text": [
        "\n",
        "0.96\n",
        "0.966666666667\n",
        "0.953333333333\n",
        "0.96"
       ]
      },
      {
       "output_type": "stream",
       "stream": "stdout",
       "text": [
        "\n",
        "0.96\n",
        "0.966666666667\n",
        "0.96\n",
        "0.953333333333"
       ]
      },
      {
       "output_type": "stream",
       "stream": "stdout",
       "text": [
        "\n",
        "0.94\n",
        "0.966666666667\n",
        "0.933333333333\n",
        "0.953333333333"
       ]
      },
      {
       "output_type": "stream",
       "stream": "stdout",
       "text": [
        "\n",
        "0.953333333333\n",
        "0.933333333333\n",
        "0.933333333333\n",
        "0.926666666667"
       ]
      },
      {
       "output_type": "stream",
       "stream": "stdout",
       "text": [
        "\n",
        "0.933333333333\n",
        "0.92\n",
        "0.906666666667\n",
        "0.92"
       ]
      },
      {
       "output_type": "stream",
       "stream": "stdout",
       "text": [
        "\n",
        "0.92\n",
        "0.92\n",
        "0.9\n",
        "0.906666666667"
       ]
      },
      {
       "output_type": "stream",
       "stream": "stdout",
       "text": [
        "\n",
        "0.906666666667\n",
        "0.893333333333\n",
        "0.906666666667\n",
        "0.88"
       ]
      },
      {
       "output_type": "stream",
       "stream": "stdout",
       "text": [
        "\n",
        "0.906666666667\n",
        "0.913333333333\n",
        "0.893333333333\n",
        "0.886666666667"
       ]
      },
      {
       "output_type": "stream",
       "stream": "stdout",
       "text": [
        "\n",
        "0.873333333333\n",
        "0.886666666667\n",
        "0.873333333333\n",
        "0.9"
       ]
      },
      {
       "output_type": "stream",
       "stream": "stdout",
       "text": [
        "\n",
        "0.88\n",
        "0.9\n",
        "0.873333333333\n",
        "0.866666666667"
       ]
      },
      {
       "output_type": "stream",
       "stream": "stdout",
       "text": [
        "\n",
        "0.88\n",
        "0.86\n",
        "0.893333333333\n",
        "0.86"
       ]
      },
      {
       "output_type": "stream",
       "stream": "stdout",
       "text": [
        "\n",
        "0.86\n",
        "0.76\n",
        "0.746666666667\n",
        "0.84"
       ]
      },
      {
       "output_type": "stream",
       "stream": "stdout",
       "text": [
        "\n",
        "0.64\n",
        "0.78\n",
        "0.773333333333\n",
        "0.686666666667"
       ]
      },
      {
       "output_type": "stream",
       "stream": "stdout",
       "text": [
        "\n",
        "0.72\n",
        "0.673333333333\n",
        "0.566666666667\n",
        "0.586666666667"
       ]
      },
      {
       "output_type": "stream",
       "stream": "stdout",
       "text": [
        "\n",
        "0.6\n",
        "0.626666666667\n",
        "0.62\n",
        "0.673333333333"
       ]
      },
      {
       "output_type": "stream",
       "stream": "stdout",
       "text": [
        "\n",
        "0.506666666667\n",
        "0.486666666667\n",
        "0.513333333333\n",
        "0.56"
       ]
      },
      {
       "output_type": "stream",
       "stream": "stdout",
       "text": [
        "\n",
        "0.52\n",
        "0.606666666667\n",
        "0.573333333333\n",
        "0.593333333333"
       ]
      },
      {
       "output_type": "stream",
       "stream": "stdout",
       "text": [
        "\n",
        "0.52\n",
        "0.506666666667\n",
        "0.44\n",
        "0.593333333333"
       ]
      },
      {
       "output_type": "stream",
       "stream": "stdout",
       "text": [
        "\n",
        "0.506666666667\n",
        "0.493333333333\n",
        "0.573333333333\n",
        "0.48"
       ]
      },
      {
       "output_type": "stream",
       "stream": "stdout",
       "text": [
        "\n",
        "0.566666666667\n",
        "0.586666666667\n",
        "0.553333333333\n",
        "0.466666666667"
       ]
      },
      {
       "output_type": "stream",
       "stream": "stdout",
       "text": [
        "\n",
        "0.573333333333\n",
        "0.586666666667\n",
        "0.566666666667\n",
        "0.553333333333"
       ]
      },
      {
       "output_type": "stream",
       "stream": "stdout",
       "text": [
        "\n",
        "0.486666666667\n",
        "0.54\n",
        "0.486666666667\n",
        "0.58"
       ]
      },
      {
       "output_type": "stream",
       "stream": "stdout",
       "text": [
        "\n",
        "0.46\n",
        "0.366666666667\n"
       ]
      }
     ],
     "prompt_number": 122
    },
    {
     "cell_type": "code",
     "collapsed": false,
     "input": [
      "for n in xrange(2,6):\n",
      "    print n"
     ],
     "language": "python",
     "metadata": {},
     "outputs": [
      {
       "output_type": "stream",
       "stream": "stdout",
       "text": [
        "2\n",
        "3\n",
        "4\n",
        "5\n"
       ]
      }
     ],
     "prompt_number": 48
    },
    {
     "cell_type": "code",
     "collapsed": false,
     "input": [],
     "language": "python",
     "metadata": {},
     "outputs": []
    }
   ],
   "metadata": {}
  }
 ]
}