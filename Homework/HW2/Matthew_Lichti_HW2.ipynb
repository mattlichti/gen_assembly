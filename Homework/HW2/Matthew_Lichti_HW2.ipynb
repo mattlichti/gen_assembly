{
 "metadata": {
  "name": "",
  "signature": "sha256:a39757a20c265fed6e6e88b1c051850ef47303128bc2b1d36875394b7b7912c8"
 },
 "nbformat": 3,
 "nbformat_minor": 0,
 "worksheets": [
  {
   "cells": [
    {
     "cell_type": "code",
     "collapsed": false,
     "input": [
      "import pandas as pd\n",
      "import numpy as np"
     ],
     "language": "python",
     "metadata": {},
     "outputs": [],
     "prompt_number": 2
    },
    {
     "cell_type": "code",
     "collapsed": false,
     "input": [
      "Iris_data = pd.read_csv('iris.csv', header=None)"
     ],
     "language": "python",
     "metadata": {},
     "outputs": [],
     "prompt_number": 3
    },
    {
     "cell_type": "code",
     "collapsed": false,
     "input": [
      "#separating the 4 feature columns X from the classification column y\n",
      "X = Iris_data.iloc[0:150,0:4]\n",
      "y = Iris_data.iloc[0:150,4]\n",
      "# print X\n",
      "# print y"
     ],
     "language": "python",
     "metadata": {},
     "outputs": [],
     "prompt_number": 4
    },
    {
     "cell_type": "code",
     "collapsed": false,
     "input": [
      "#Problem 1: Implement KNN classification, using the sklearn package\n",
      "from sklearn.cross_validation import train_test_split\n",
      "from sklearn.neighbors import KNeighborsClassifier"
     ],
     "language": "python",
     "metadata": {},
     "outputs": [],
     "prompt_number": 5
    },
    {
     "cell_type": "code",
     "collapsed": false,
     "input": [
      "#implementing KNN classification function\n",
      "def knn(X_train, X_test, y_train, y_test,k):\n",
      "    myknn = KNeighborsClassifier(k).fit(X_train,y_train)\n",
      "    return myknn.score(X_test, y_test)"
     ],
     "language": "python",
     "metadata": {},
     "outputs": [],
     "prompt_number": 6
    },
    {
     "cell_type": "code",
     "collapsed": false,
     "input": [
      "#testing knn function\n",
      "X_train, X_test, y_train, y_test = train_test_split( X, y, test_size=0.20,random_state=0)\n",
      "print knn(X_train, X_test, y_train, y_test,3)"
     ],
     "language": "python",
     "metadata": {},
     "outputs": [
      {
       "output_type": "stream",
       "stream": "stdout",
       "text": [
        "0.966666666667\n"
       ]
      }
     ],
     "prompt_number": 7
    },
    {
     "cell_type": "code",
     "collapsed": false,
     "input": [
      "#Problem 2: Implement cross\u00advalidation for your KNN classifier.\n",
      "from sklearn.cross_validation import KFold"
     ],
     "language": "python",
     "metadata": {},
     "outputs": [],
     "prompt_number": 8
    },
    {
     "cell_type": "code",
     "collapsed": false,
     "input": [
      "kf = KFold(len(y), n_folds=5, shuffle=True)\n",
      "for train, test in kf:\n",
      "    #calling function knn from prob1 for each of 5 folds\n",
      "    print knn(X.iloc[train],X.iloc[test],y.iloc[train],y.iloc[test],3)"
     ],
     "language": "python",
     "metadata": {},
     "outputs": [
      {
       "output_type": "stream",
       "stream": "stdout",
       "text": [
        "1.0\n",
        "0.966666666667\n",
        "0.933333333333\n",
        "0.933333333333\n",
        "0.966666666667\n"
       ]
      }
     ],
     "prompt_number": 9
    },
    {
     "cell_type": "code",
     "collapsed": false,
     "input": [
      "#Problem 3: Use your KNN classifier and cross\u00advalidation code from (1) and (2) above to \n",
      "# determine the optimal value of K (number of nearest neighbors to consult) \n",
      "score = []\n",
      "kf = KFold(len(y), n_folds=5, shuffle=True)\n",
      "for k in xrange(1,len(train)):\n",
      "    new_score = 0\n",
      "    for train, test in kf:\n",
      "        #calling function from prob1 for each of 5 folds\n",
      "        new_score += .2 * knn(X.iloc[train],X.iloc[test],y.iloc[train],y.iloc[test],k)\n",
      "    #print new_score\n",
      "    score.append(new_score)\n",
      "optimal_k = score.index(max(score))+1\n",
      "print \"the optimal value of K was \" + str(optimal_k) + \" with a score of \" +str(max(score))"
     ],
     "language": "python",
     "metadata": {},
     "outputs": [
      {
       "output_type": "stream",
       "stream": "stdout",
       "text": [
        "the optimal value of K was 8 with a score of 0.966666666667\n"
       ]
      }
     ],
     "prompt_number": 15
    },
    {
     "cell_type": "code",
     "collapsed": false,
     "input": [
      "#problem 4: Using matplotlib, plot classifier accuracy versus the hyperparameter K for a range \n",
      "# of K that you consider interesting\n",
      "import matplotlib.pyplot as plt\n",
      "%matplotlib inline\n",
      "plt.plot(score)\n",
      "plt.show()\n",
      "print \"You are seeing how the accuracy of the classifier varies with K\"\n",
      "print \"K is the number of nearest neighbors that are being compared\"\n",
      "print \"The accuracy stays relativeley constant around 95% for K less than 30, but then drops off\""
     ],
     "language": "python",
     "metadata": {},
     "outputs": [
      {
       "metadata": {},
       "output_type": "display_data",
       "png": "[encoded data removed]",
       "text": [
        "<matplotlib.figure.Figure at 0xab32d10c>"
       ]
      },
      {
       "output_type": "stream",
       "stream": "stdout",
       "text": [
        "You are seeing how the accuracy of the classifier varies with K\n",
        "K is the number of nearest neighbors that are being compared\n",
        "The accuracy stays relativeley constant around 95% for K less than 30, but then drops off\n"
       ]
      }
     ],
     "prompt_number": 68
    },
    {
     "cell_type": "code",
     "collapsed": false,
     "input": [
      "# Using the value of K obtained in (3) above, vary \n",
      "# the number of folds used for cross\u00advalidation across an interesting range, e.g. [ 2, \n",
      "# 3, 5, 6, 10, 15]. How does classifier accuracy vary with the number of folds used? \n",
      "# Do you think there exists an optimal number of folds to use for this particular \n",
      "# problem? Why or why not?\n",
      "print \"Printing the classifier accuracy for every value of k from 2 to 40\"\n",
      "print \"Ther isn't much variation. It's probably better to have more than 2.\"\n",
      "\n",
      "score = []\n",
      "k = optimal_k\n",
      "for n in range(2,40):\n",
      "    kf = KFold(len(y), n_folds=n, shuffle=True)\n",
      "    new_score = 0\n",
      "    for train, test in kf:\n",
      "        #calling function from prob1 for each of 5 folds\n",
      "        new_score += 1.0/n * knn(X.iloc[train],X.iloc[test],y.iloc[train],y.iloc[test],k)\n",
      "    print new_score\n",
      "    score.append(new_score)\n",
      "\n"
     ],
     "language": "python",
     "metadata": {},
     "outputs": [
      {
       "output_type": "stream",
       "stream": "stdout",
       "text": [
        "Printing the classifier accuracy for every value of k from 2 to 40\n",
        "0.96\n",
        "0.966666666667\n",
        "0.973150782361\n",
        "0.946666666667"
       ]
      },
      {
       "output_type": "stream",
       "stream": "stdout",
       "text": [
        "\n",
        "0.96\n",
        "0.966604823748\n",
        "0.967105263158"
       ]
      },
      {
       "output_type": "stream",
       "stream": "stdout",
       "text": [
        "\n",
        "0.973447712418\n",
        "0.98"
       ]
      },
      {
       "output_type": "stream",
       "stream": "stdout",
       "text": [
        "\n",
        "0.95954045954\n",
        "0.972756410256"
       ]
      },
      {
       "output_type": "stream",
       "stream": "stdout",
       "text": [
        "\n",
        "0.980769230769\n",
        "0.961038961039"
       ]
      },
      {
       "output_type": "stream",
       "stream": "stdout",
       "text": [
        "\n",
        "0.96\n",
        "0.972222222222"
       ]
      },
      {
       "output_type": "stream",
       "stream": "stdout",
       "text": [
        "\n",
        "0.967320261438"
       ]
      },
      {
       "output_type": "stream",
       "stream": "stdout",
       "text": [
        "\n",
        "0.965277777778"
       ]
      },
      {
       "output_type": "stream",
       "stream": "stdout",
       "text": [
        "\n",
        "0.973684210526"
       ]
      },
      {
       "output_type": "stream",
       "stream": "stdout",
       "text": [
        "\n",
        "0.966071428571"
       ]
      },
      {
       "output_type": "stream",
       "stream": "stdout",
       "text": [
        "\n",
        "0.972789115646"
       ]
      },
      {
       "output_type": "stream",
       "stream": "stdout",
       "text": [
        "\n",
        "0.978354978355"
       ]
      },
      {
       "output_type": "stream",
       "stream": "stdout",
       "text": [
        "\n",
        "0.965838509317"
       ]
      },
      {
       "output_type": "stream",
       "stream": "stdout",
       "text": [
        "\n",
        "0.965277777778"
       ]
      },
      {
       "output_type": "stream",
       "stream": "stdout",
       "text": [
        "\n",
        "0.966666666667"
       ]
      },
      {
       "output_type": "stream",
       "stream": "stdout",
       "text": [
        "\n",
        "0.967948717949"
       ]
      },
      {
       "output_type": "stream",
       "stream": "stdout",
       "text": [
        "\n",
        "0.971604938272"
       ]
      },
      {
       "output_type": "stream",
       "stream": "stdout",
       "text": [
        "\n",
        "0.959523809524"
       ]
      },
      {
       "output_type": "stream",
       "stream": "stdout",
       "text": [
        "\n",
        "0.966666666667"
       ]
      },
      {
       "output_type": "stream",
       "stream": "stdout",
       "text": [
        "\n",
        "0.966666666667"
       ]
      },
      {
       "output_type": "stream",
       "stream": "stdout",
       "text": [
        "\n",
        "0.966129032258"
       ]
      },
      {
       "output_type": "stream",
       "stream": "stdout",
       "text": [
        "\n",
        "0.9671875"
       ]
      },
      {
       "output_type": "stream",
       "stream": "stdout",
       "text": [
        "\n",
        "0.968181818182"
       ]
      },
      {
       "output_type": "stream",
       "stream": "stdout",
       "text": [
        "\n",
        "0.964705882353"
       ]
      },
      {
       "output_type": "stream",
       "stream": "stdout",
       "text": [
        "\n",
        "0.968571428571"
       ]
      },
      {
       "output_type": "stream",
       "stream": "stdout",
       "text": [
        "\n",
        "0.966666666667"
       ]
      },
      {
       "output_type": "stream",
       "stream": "stdout",
       "text": [
        "\n",
        "0.972972972973"
       ]
      },
      {
       "output_type": "stream",
       "stream": "stdout",
       "text": [
        "\n",
        "0.960526315789"
       ]
      },
      {
       "output_type": "stream",
       "stream": "stdout",
       "text": [
        "\n",
        "0.980769230769"
       ]
      },
      {
       "output_type": "stream",
       "stream": "stdout",
       "text": [
        "\n"
       ]
      }
     ],
     "prompt_number": 81
    },
    {
     "cell_type": "code",
     "collapsed": false,
     "input": [],
     "language": "python",
     "metadata": {},
     "outputs": [],
     "prompt_number": 78
    },
    {
     "cell_type": "code",
     "collapsed": false,
     "input": [],
     "language": "python",
     "metadata": {},
     "outputs": []
    }
   ],
   "metadata": {}
  }
 ]
}