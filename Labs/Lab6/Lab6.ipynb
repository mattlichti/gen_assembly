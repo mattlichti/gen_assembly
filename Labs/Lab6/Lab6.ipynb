{
 "metadata": {
  "name": "",
  "signature": "sha256:bb0c24c0187ba8950d57563185c9f639a1751b777c0715ff6f34c4b73a343788"
 },
 "nbformat": 3,
 "nbformat_minor": 0,
 "worksheets": [
  {
   "cells": [
    {
     "cell_type": "code",
     "collapsed": false,
     "input": [
      "import pandas as pd\n",
      "import numpy as np"
     ],
     "language": "python",
     "metadata": {},
     "outputs": [],
     "prompt_number": 117
    },
    {
     "cell_type": "code",
     "collapsed": false,
     "input": [
      "student_logins = pd.read_csv('student_logins.csv', header=0)\n"
     ],
     "language": "python",
     "metadata": {},
     "outputs": [],
     "prompt_number": 118
    },
    {
     "cell_type": "code",
     "collapsed": false,
     "input": [
      "student_logins.head"
     ],
     "language": "python",
     "metadata": {},
     "outputs": [
      {
       "metadata": {},
       "output_type": "pyout",
       "prompt_number": 119,
       "text": [
        "<bound method DataFrame.head of       session_start_time session_end_time class_id  problems_completed  \\\n",
        "0           1/6/12 16:28     1/6/12 16:55        e                  37   \n",
        "1           1/7/12 11:00     1/7/12 11:27        e                  24   \n",
        "2            1/8/12 9:04      1/8/12 9:31        e                  50   \n",
        "3           1/9/12 12:41     1/9/12 12:48        e                  26   \n",
        "4           1/9/12 16:59     1/9/12 17:43        m                  37   \n",
        "5           1/9/12 17:39     1/9/12 18:24        m                  19   \n",
        "6           1/9/12 18:17     1/9/12 18:42        e                  38   \n",
        "7          1/10/12 19:12    1/10/12 19:19        e                   7   \n",
        "8          1/11/12 13:18    1/11/12 13:58        m                  33   \n",
        "9          1/11/12 20:55    1/11/12 21:02        m                   7   \n",
        "10         1/12/12 14:15    1/12/12 14:22        e                  11   \n",
        "11         1/13/12 13:18    1/13/12 13:36        a                  13   \n",
        "12         1/14/12 17:03    1/14/12 17:43        e                  38   \n",
        "13         1/14/12 17:11    1/14/12 17:44        e                  36   \n",
        "14         1/14/12 17:27    1/14/12 17:49        e                  29   \n",
        "15         1/14/12 19:11    1/14/12 19:37        m                  19   \n",
        "16         1/16/12 18:43    1/16/12 19:25        m                  30   \n",
        "17         1/19/12 11:20    1/19/12 11:44        m                  14   \n",
        "18         1/19/12 18:17    1/19/12 18:40        e                  50   \n",
        "19         1/19/12 20:28    1/19/12 20:57        e                  41   \n",
        "20         1/20/12 12:16    1/20/12 12:33        m                   8   \n",
        "21         1/20/12 15:38    1/20/12 15:47        m                   6   \n",
        "22         1/20/12 16:18    1/20/12 17:03        m                  32   \n",
        "23         1/21/12 11:55    1/21/12 12:05        e                  34   \n",
        "24         1/21/12 12:07    1/21/12 12:58        m                  35   \n",
        "25         1/21/12 13:28    1/21/12 14:28        m                  38   \n",
        "26         1/21/12 14:41    1/21/12 14:41        e                   1   \n",
        "27         1/21/12 18:38    1/21/12 18:58        e                  22   \n",
        "28         1/21/12 19:04    1/21/12 19:18        m                  12   \n",
        "29         1/21/12 19:23    1/21/12 19:55        a                  23   \n",
        "...                  ...              ...      ...                 ...   \n",
        "48728      1/19/14 13:27    1/19/14 14:16        m                  25   \n",
        "48729      1/19/14 15:05    1/19/14 15:29        g                  21   \n",
        "48730      1/19/14 15:19    1/19/14 15:41        c                   6   \n",
        "48731      1/19/14 19:40    1/19/14 20:00        a                  25   \n",
        "48732       1/20/14 9:03     1/20/14 9:41        m                  15   \n",
        "48733       1/20/14 9:14     1/20/14 9:33        m                  16   \n",
        "48734      1/20/14 17:15    1/20/14 17:37        m                  18   \n",
        "48735      1/21/14 16:00    1/21/14 16:24        m                  13   \n",
        "48736      1/21/14 18:57    1/21/14 19:24        a                  15   \n",
        "48737      1/22/14 11:45    1/22/14 12:05        m                  25   \n",
        "48738      1/22/14 16:02    1/22/14 16:27        m                  20   \n",
        "48739       1/23/14 9:13     1/23/14 9:44        m                  33   \n",
        "48740      1/23/14 17:54    1/23/14 19:05        m                  41   \n",
        "48741      1/23/14 18:54    1/23/14 19:32        a                  26   \n",
        "48742      1/23/14 19:33    1/23/14 19:49        a                  18   \n",
        "48743       1/24/14 9:54     1/24/14 9:55        g                   2   \n",
        "48744      1/24/14 10:04    1/24/14 10:05        a                   2   \n",
        "48745      1/24/14 16:13    1/24/14 16:41        g                  17   \n",
        "48746      1/24/14 17:36    1/24/14 17:52        c                  19   \n",
        "48747      1/24/14 19:03    1/24/14 20:22        a                  35   \n",
        "48748      1/24/14 19:05    1/24/14 19:21        a                  21   \n",
        "48749      1/24/14 19:44    1/24/14 20:25        m                  29   \n",
        "48750      1/25/14 12:35    1/25/14 13:00        m                  16   \n",
        "48751      1/25/14 14:15    1/25/14 14:19        a                   6   \n",
        "48752      1/25/14 17:22    1/25/14 17:39        m                   8   \n",
        "48753      1/25/14 18:04    1/25/14 18:07        a                   4   \n",
        "48754      1/25/14 18:07    1/25/14 18:19        g                  16   \n",
        "48755      1/26/14 15:43    1/26/14 16:22        a                  25   \n",
        "48756      1/27/14 13:35    1/27/14 13:53        m                  12   \n",
        "48757      1/27/14 20:52    1/27/14 21:06        m                   9   \n",
        "\n",
        "       student_id student_account_created  student_previous_logins_total  \\\n",
        "0              91           10/26/11 0:00                             76   \n",
        "1             161             1/6/12 0:00                              2   \n",
        "2             141           12/31/11 0:00                              8   \n",
        "3             101           11/16/11 0:00                            199   \n",
        "4             103           11/23/11 0:00                            100   \n",
        "5              98           11/13/11 0:00                             89   \n",
        "6              97            11/9/11 0:00                            125   \n",
        "7             143             1/2/12 0:00                             36   \n",
        "8             172            1/10/12 0:00                              5   \n",
        "9              84           10/24/11 0:00                            130   \n",
        "10            111            12/2/11 0:00                             57   \n",
        "11            162             1/9/12 0:00                              6   \n",
        "12            156            1/14/12 0:00                              1   \n",
        "13            117            12/2/11 0:00                            100   \n",
        "14            159             1/5/12 0:00                             17   \n",
        "15            125           12/19/11 0:00                             67   \n",
        "16            158             1/5/12 0:00                             25   \n",
        "17             90           10/28/11 0:00                            162   \n",
        "18            108            12/2/11 0:00                             63   \n",
        "19            178            1/11/12 0:00                             20   \n",
        "20             90           11/10/11 0:00                            155   \n",
        "21            166            1/20/12 0:00                              1   \n",
        "22            168             1/6/12 0:00                             36   \n",
        "23            101           11/22/11 0:00                            223   \n",
        "24            105           11/22/11 0:00                             82   \n",
        "25             80           10/21/11 0:00                             47   \n",
        "26            114            12/3/11 0:00                            121   \n",
        "27            125           12/22/11 0:00                             75   \n",
        "28            155            1/14/12 0:00                             24   \n",
        "29            125           12/29/11 0:00                             59   \n",
        "...           ...                     ...                            ...   \n",
        "48728         168            5/30/13 0:00                            809   \n",
        "48729         175             6/9/13 0:00                            298   \n",
        "48730         168            5/31/13 0:00                            805   \n",
        "48731          19            12/7/12 0:00                            243   \n",
        "48732          98             4/5/13 0:00                            669   \n",
        "48733         485            10/6/13 0:00                            273   \n",
        "48734         637           12/13/13 0:00                            109   \n",
        "48735         389            9/17/13 0:00                            220   \n",
        "48736         878            1/20/14 0:00                              4   \n",
        "48737         280             8/1/13 0:00                            873   \n",
        "48738         652           11/27/13 0:00                            151   \n",
        "48739         808            1/16/14 0:00                             43   \n",
        "48740         346             9/1/13 0:00                            253   \n",
        "48741         297             8/9/13 0:00                            852   \n",
        "48742         658            12/4/13 0:00                             50   \n",
        "48743         552            11/7/13 0:00                            200   \n",
        "48744         716           12/16/13 0:00                            149   \n",
        "48745         577           11/18/13 0:00                             64   \n",
        "48746         101             4/4/13 0:00                           1249   \n",
        "48747         497           10/30/13 0:00                             24   \n",
        "48748         299            8/12/13 0:00                            261   \n",
        "48749         595           11/23/13 0:00                            173   \n",
        "48750         418            9/18/13 0:00                            150   \n",
        "48751           5           10/20/12 0:00                            913   \n",
        "48752         321            8/24/13 0:00                            756   \n",
        "48753         105             4/9/13 0:00                            255   \n",
        "48754         508           10/26/13 0:00                            165   \n",
        "48755         334            8/26/13 0:00                            603   \n",
        "48756         734           12/29/13 0:00                            111   \n",
        "48757         468            10/6/13 0:00                            215   \n",
        "\n",
        "       student_previous_class_logins  \n",
        "0                                 27  \n",
        "1                                  0  \n",
        "2                                  5  \n",
        "3                                104  \n",
        "4                                 41  \n",
        "5                                 39  \n",
        "6                                 69  \n",
        "7                                 16  \n",
        "8                                  3  \n",
        "9                                 67  \n",
        "10                                20  \n",
        "11                                 0  \n",
        "12                                 0  \n",
        "13                                34  \n",
        "14                                 6  \n",
        "15                                28  \n",
        "16                                11  \n",
        "17                                58  \n",
        "18                                36  \n",
        "19                                 9  \n",
        "20                                53  \n",
        "21                                 0  \n",
        "22                                15  \n",
        "23                               119  \n",
        "24                                40  \n",
        "25                                11  \n",
        "26                                51  \n",
        "27                                30  \n",
        "28                                14  \n",
        "29                                10  \n",
        "...                              ...  \n",
        "48728                            259  \n",
        "48729                             33  \n",
        "48730                            109  \n",
        "48731                             26  \n",
        "48732                            255  \n",
        "48733                            125  \n",
        "48734                             40  \n",
        "48735                             87  \n",
        "48736                              1  \n",
        "48737                            237  \n",
        "48738                             72  \n",
        "48739                             24  \n",
        "48740                            108  \n",
        "48741                            249  \n",
        "48742                             20  \n",
        "48743                             32  \n",
        "48744                             70  \n",
        "48745                             11  \n",
        "48746                            559  \n",
        "48747                              6  \n",
        "48748                             70  \n",
        "48749                             72  \n",
        "48750                             63  \n",
        "48751                            165  \n",
        "48752                            316  \n",
        "48753                             52  \n",
        "48754                             24  \n",
        "48755                            194  \n",
        "48756                             48  \n",
        "48757                             97  \n",
        "\n",
        "[48758 rows x 8 columns]>"
       ]
      }
     ],
     "prompt_number": 119
    },
    {
     "cell_type": "code",
     "collapsed": false,
     "input": [
      "student_logins.info()"
     ],
     "language": "python",
     "metadata": {},
     "outputs": [
      {
       "output_type": "stream",
       "stream": "stdout",
       "text": [
        "<class 'pandas.core.frame.DataFrame'>\n",
        "Int64Index: 48758 entries, 0 to 48757\n",
        "Data columns (total 8 columns):\n",
        "session_start_time               48758 non-null object\n",
        "session_end_time                 48758 non-null object\n",
        "class_id                         48758 non-null object\n",
        "problems_completed               48758 non-null int64\n",
        "student_id                       48758 non-null int64\n",
        "student_account_created          48758 non-null object\n",
        "student_previous_logins_total    48758 non-null int64\n",
        "student_previous_class_logins    48758 non-null int64\n",
        "dtypes: int64(4), object(4)"
       ]
      }
     ],
     "prompt_number": 120
    },
    {
     "cell_type": "code",
     "collapsed": false,
     "input": [
      "student_logins.columns"
     ],
     "language": "python",
     "metadata": {},
     "outputs": [
      {
       "metadata": {},
       "output_type": "pyout",
       "prompt_number": 121,
       "text": [
        "Index([u'session_start_time', u'session_end_time', u'class_id', u'problems_completed', u'student_id', u'student_account_created', u'student_previous_logins_total', u'student_previous_class_logins'], dtype='object')"
       ]
      }
     ],
     "prompt_number": 121
    },
    {
     "cell_type": "code",
     "collapsed": false,
     "input": [
      "student_logins.columns"
     ],
     "language": "python",
     "metadata": {},
     "outputs": [
      {
       "metadata": {},
       "output_type": "pyout",
       "prompt_number": 122,
       "text": [
        "Index([u'session_start_time', u'session_end_time', u'class_id', u'problems_completed', u'student_id', u'student_account_created', u'student_previous_logins_total', u'student_previous_class_logins'], dtype='object')"
       ]
      }
     ],
     "prompt_number": 122
    },
    {
     "cell_type": "code",
     "collapsed": false,
     "input": [
      "student_logins['problems_completed'].dtype"
     ],
     "language": "python",
     "metadata": {},
     "outputs": [
      {
       "metadata": {},
       "output_type": "pyout",
       "prompt_number": 136,
       "text": [
        "dtype('int64')"
       ]
      }
     ],
     "prompt_number": 136
    },
    {
     "cell_type": "code",
     "collapsed": false,
     "input": [
      "student_logins['duration'] = pd.to_datetime(student_logins['session_end_time']) - pd.to_datetime(student_logins['session_start_time'])"
     ],
     "language": "python",
     "metadata": {},
     "outputs": [],
     "prompt_number": 143
    },
    {
     "cell_type": "code",
     "collapsed": false,
     "input": [
      "student_logins['duration']"
     ],
     "language": "python",
     "metadata": {},
     "outputs": [
      {
       "metadata": {},
       "output_type": "pyout",
       "prompt_number": 144,
       "text": [
        "0    00:27:00\n",
        "1    00:27:00\n",
        "2    00:27:00\n",
        "3    00:07:00\n",
        "4    00:44:00\n",
        "5    00:45:00\n",
        "6    00:25:00\n",
        "7    00:07:00\n",
        "8    00:40:00\n",
        "9    00:07:00\n",
        "10   00:07:00\n",
        "11   00:18:00\n",
        "12   00:40:00\n",
        "13   00:33:00\n",
        "14   00:22:00\n",
        "...\n",
        "48743   00:01:00\n",
        "48744   00:01:00\n",
        "48745   00:28:00\n",
        "48746   00:16:00\n",
        "48747   01:19:00\n",
        "48748   00:16:00\n",
        "48749   00:41:00\n",
        "48750   00:25:00\n",
        "48751   00:04:00\n",
        "48752   00:17:00\n",
        "48753   00:03:00\n",
        "48754   00:12:00\n",
        "48755   00:39:00\n",
        "48756   00:18:00\n",
        "48757   00:14:00\n",
        "Name: duration, Length: 48758, dtype: timedelta64[ns]"
       ]
      }
     ],
     "prompt_number": 144
    },
    {
     "cell_type": "code",
     "collapsed": false,
     "input": [
      "seconds = student_logins['duration'].total_seconds"
     ],
     "language": "python",
     "metadata": {},
     "outputs": [
      {
       "ename": "AttributeError",
       "evalue": "'Series' object has no attribute 'total_seconds'",
       "output_type": "pyerr",
       "traceback": [
        "\u001b[1;31m---------------------------------------------------------------------------\u001b[0m\n\u001b[1;31mAttributeError\u001b[0m                            Traceback (most recent call last)",
        "\u001b[1;32m<ipython-input-146-ede07b39a5bb>\u001b[0m in \u001b[0;36m<module>\u001b[1;34m()\u001b[0m\n\u001b[1;32m----> 1\u001b[1;33m \u001b[0mseconds\u001b[0m \u001b[1;33m=\u001b[0m \u001b[0mstudent_logins\u001b[0m\u001b[1;33m[\u001b[0m\u001b[1;34m'duration'\u001b[0m\u001b[1;33m]\u001b[0m\u001b[1;33m.\u001b[0m\u001b[0mtotal_seconds\u001b[0m\u001b[1;33m\u001b[0m\u001b[0m\n\u001b[0m",
        "\u001b[1;32m/home/matt/anaconda/lib/python2.7/site-packages/pandas/core/generic.pyc\u001b[0m in \u001b[0;36m__getattr__\u001b[1;34m(self, name)\u001b[0m\n\u001b[0;32m   1841\u001b[0m                 \u001b[1;32mreturn\u001b[0m \u001b[0mself\u001b[0m\u001b[1;33m[\u001b[0m\u001b[0mname\u001b[0m\u001b[1;33m]\u001b[0m\u001b[1;33m\u001b[0m\u001b[0m\n\u001b[0;32m   1842\u001b[0m             raise AttributeError(\"'%s' object has no attribute '%s'\" %\n\u001b[1;32m-> 1843\u001b[1;33m                                  (type(self).__name__, name))\n\u001b[0m\u001b[0;32m   1844\u001b[0m \u001b[1;33m\u001b[0m\u001b[0m\n\u001b[0;32m   1845\u001b[0m     \u001b[1;32mdef\u001b[0m \u001b[0m__setattr__\u001b[0m\u001b[1;33m(\u001b[0m\u001b[0mself\u001b[0m\u001b[1;33m,\u001b[0m \u001b[0mname\u001b[0m\u001b[1;33m,\u001b[0m \u001b[0mvalue\u001b[0m\u001b[1;33m)\u001b[0m\u001b[1;33m:\u001b[0m\u001b[1;33m\u001b[0m\u001b[0m\n",
        "\u001b[1;31mAttributeError\u001b[0m: 'Series' object has no attribute 'total_seconds'"
       ]
      }
     ],
     "prompt_number": 146
    },
    {
     "cell_type": "code",
     "collapsed": false,
     "input": [
      "features = ['problems_completed', 'student_previous_logins_total', 'student_previous_class_logins']"
     ],
     "language": "python",
     "metadata": {},
     "outputs": [],
     "prompt_number": 126
    },
    {
     "cell_type": "code",
     "collapsed": false,
     "input": [],
     "language": "python",
     "metadata": {},
     "outputs": []
    },
    {
     "cell_type": "code",
     "collapsed": false,
     "input": [
      "y = student_logins['duration']\n",
      "X = student_logins[features]"
     ],
     "language": "python",
     "metadata": {},
     "outputs": [],
     "prompt_number": 127
    },
    {
     "cell_type": "code",
     "collapsed": false,
     "input": [
      "y = np.array(y)\n",
      "y"
     ],
     "language": "python",
     "metadata": {},
     "outputs": [
      {
       "metadata": {},
       "output_type": "pyout",
       "prompt_number": 128,
       "text": [
        "array([1620000000000, 1620000000000, 1620000000000, ..., 2340000000000,\n",
        "       1080000000000,  840000000000], dtype='timedelta64[ns]')"
       ]
      }
     ],
     "prompt_number": 128
    },
    {
     "cell_type": "code",
     "collapsed": false,
     "input": [
      "y = np.timedelta64(y,'s')"
     ],
     "language": "python",
     "metadata": {},
     "outputs": [
      {
       "ename": "ValueError",
       "evalue": "Could not convert object to NumPy timedelta",
       "output_type": "pyerr",
       "traceback": [
        "\u001b[1;31m---------------------------------------------------------------------------\u001b[0m\n\u001b[1;31mValueError\u001b[0m                                Traceback (most recent call last)",
        "\u001b[1;32m<ipython-input-130-08d096bf9434>\u001b[0m in \u001b[0;36m<module>\u001b[1;34m()\u001b[0m\n\u001b[1;32m----> 1\u001b[1;33m \u001b[0my\u001b[0m \u001b[1;33m=\u001b[0m \u001b[0mnp\u001b[0m\u001b[1;33m.\u001b[0m\u001b[0mtimedelta64\u001b[0m\u001b[1;33m(\u001b[0m\u001b[0my\u001b[0m\u001b[1;33m,\u001b[0m\u001b[1;34m's'\u001b[0m\u001b[1;33m)\u001b[0m\u001b[1;33m\u001b[0m\u001b[0m\n\u001b[0m",
        "\u001b[1;31mValueError\u001b[0m: Could not convert object to NumPy timedelta"
       ]
      }
     ],
     "prompt_number": 130
    },
    {
     "cell_type": "code",
     "collapsed": false,
     "input": [
      "from sklearn.cross_validation import train_test_split\n",
      "X_train, X_test, y_train, y_test = train_test_split( X, y, test_size=0.20,random_state=0)"
     ],
     "language": "python",
     "metadata": {},
     "outputs": [],
     "prompt_number": 86
    },
    {
     "cell_type": "code",
     "collapsed": false,
     "input": [
      "%matplotlib inline\n",
      "from pandas.tools.plotting import scatter_matrix\n",
      "scat = scatter_matrix(X, figsize = (5,5))"
     ],
     "language": "python",
     "metadata": {},
     "outputs": [
      {
       "metadata": {},
       "output_type": "display_data",
       "png": "[encoded data removed]",
       "text": [
        "<matplotlib.figure.Figure at 0xa4b1e94c>"
       ]
      }
     ],
     "prompt_number": 87
    },
    {
     "cell_type": "code",
     "collapsed": false,
     "input": [
      "scat"
     ],
     "language": "python",
     "metadata": {},
     "outputs": [
      {
       "metadata": {},
       "output_type": "pyout",
       "prompt_number": 88,
       "text": [
        "array([[<matplotlib.axes._subplots.AxesSubplot object at 0xa4b1ec6c>,\n",
        "        <matplotlib.axes._subplots.AxesSubplot object at 0xa5f658ac>,\n",
        "        <matplotlib.axes._subplots.AxesSubplot object at 0xa5f260ac>],\n",
        "       [<matplotlib.axes._subplots.AxesSubplot object at 0xa5ed3b4c>,\n",
        "        <matplotlib.axes._subplots.AxesSubplot object at 0xa468b60c>,\n",
        "        <matplotlib.axes._subplots.AxesSubplot object at 0xa5ee194c>],\n",
        "       [<matplotlib.axes._subplots.AxesSubplot object at 0xa467f0ac>,\n",
        "        <matplotlib.axes._subplots.AxesSubplot object at 0xa4639e0c>,\n",
        "        <matplotlib.axes._subplots.AxesSubplot object at 0xa45ed40c>]], dtype=object)"
       ]
      }
     ],
     "prompt_number": 88
    },
    {
     "cell_type": "code",
     "collapsed": false,
     "input": [
      "X = X.values"
     ],
     "language": "python",
     "metadata": {},
     "outputs": [],
     "prompt_number": 89
    },
    {
     "cell_type": "code",
     "collapsed": false,
     "input": [
      "X"
     ],
     "language": "python",
     "metadata": {},
     "outputs": [
      {
       "metadata": {},
       "output_type": "pyout",
       "prompt_number": 90,
       "text": [
        "array([[ 37,  76,  27],\n",
        "       [ 24,   2,   0],\n",
        "       [ 50,   8,   5],\n",
        "       ..., \n",
        "       [ 25, 603, 194],\n",
        "       [ 12, 111,  48],\n",
        "       [  9, 215,  97]], dtype=int64)"
       ]
      }
     ],
     "prompt_number": 90
    },
    {
     "cell_type": "code",
     "collapsed": false,
     "input": [],
     "language": "python",
     "metadata": {},
     "outputs": [
      {
       "metadata": {},
       "output_type": "pyout",
       "prompt_number": 98,
       "text": [
        "array([1620000000000, 1620000000000, 1620000000000, ..., 2340000000000,\n",
        "       1080000000000,  840000000000], dtype='timedelta64[ns]')"
       ]
      }
     ],
     "prompt_number": 98
    },
    {
     "cell_type": "code",
     "collapsed": false,
     "input": [
      "import statsmodels.api as sm"
     ],
     "language": "python",
     "metadata": {},
     "outputs": [],
     "prompt_number": 92
    },
    {
     "cell_type": "code",
     "collapsed": false,
     "input": [
      "Z = sm.add_constant(X, prepend=True)"
     ],
     "language": "python",
     "metadata": {},
     "outputs": [],
     "prompt_number": 93
    },
    {
     "cell_type": "code",
     "collapsed": false,
     "input": [
      "y.dtype"
     ],
     "language": "python",
     "metadata": {},
     "outputs": [
      {
       "metadata": {},
       "output_type": "pyout",
       "prompt_number": 97,
       "text": [
        "dtype('<m8[ns]')"
       ]
      }
     ],
     "prompt_number": 97
    },
    {
     "cell_type": "code",
     "collapsed": false,
     "input": [
      "results = sm.OLS(y, Z).fit()"
     ],
     "language": "python",
     "metadata": {},
     "outputs": [
      {
       "ename": "ValueError",
       "evalue": "Cannot find a common data type.",
       "output_type": "pyerr",
       "traceback": [
        "\u001b[1;31m---------------------------------------------------------------------------\u001b[0m\n\u001b[1;31mValueError\u001b[0m                                Traceback (most recent call last)",
        "\u001b[1;32m<ipython-input-95-f1418fe99e6a>\u001b[0m in \u001b[0;36m<module>\u001b[1;34m()\u001b[0m\n\u001b[1;32m----> 1\u001b[1;33m \u001b[0mresults\u001b[0m \u001b[1;33m=\u001b[0m \u001b[0msm\u001b[0m\u001b[1;33m.\u001b[0m\u001b[0mOLS\u001b[0m\u001b[1;33m(\u001b[0m\u001b[0my\u001b[0m\u001b[1;33m,\u001b[0m \u001b[0mZ\u001b[0m\u001b[1;33m)\u001b[0m\u001b[1;33m.\u001b[0m\u001b[0mfit\u001b[0m\u001b[1;33m(\u001b[0m\u001b[1;33m)\u001b[0m\u001b[1;33m\u001b[0m\u001b[0m\n\u001b[0m",
        "\u001b[1;32m/home/matt/anaconda/lib/python2.7/site-packages/statsmodels/regression/linear_model.pyc\u001b[0m in \u001b[0;36mfit\u001b[1;34m(self, method, **kwargs)\u001b[0m\n\u001b[0;32m    128\u001b[0m                 self.normalized_cov_params = np.dot(pinv_wexog,\n\u001b[0;32m    129\u001b[0m                                                  np.transpose(pinv_wexog))\n\u001b[1;32m--> 130\u001b[1;33m             \u001b[0mbeta\u001b[0m \u001b[1;33m=\u001b[0m \u001b[0mnp\u001b[0m\u001b[1;33m.\u001b[0m\u001b[0mdot\u001b[0m\u001b[1;33m(\u001b[0m\u001b[0mself\u001b[0m\u001b[1;33m.\u001b[0m\u001b[0mpinv_wexog\u001b[0m\u001b[1;33m,\u001b[0m \u001b[0mendog\u001b[0m\u001b[1;33m)\u001b[0m\u001b[1;33m\u001b[0m\u001b[0m\n\u001b[0m\u001b[0;32m    131\u001b[0m \u001b[1;33m\u001b[0m\u001b[0m\n\u001b[0;32m    132\u001b[0m         \u001b[1;32melif\u001b[0m \u001b[0mmethod\u001b[0m \u001b[1;33m==\u001b[0m \u001b[1;34m\"qr\"\u001b[0m\u001b[1;33m:\u001b[0m\u001b[1;33m\u001b[0m\u001b[0m\n",
        "\u001b[1;31mValueError\u001b[0m: Cannot find a common data type."
       ]
      }
     ],
     "prompt_number": 95
    },
    {
     "cell_type": "code",
     "collapsed": false,
     "input": [],
     "language": "python",
     "metadata": {},
     "outputs": []
    }
   ],
   "metadata": {}
  }
 ]
}