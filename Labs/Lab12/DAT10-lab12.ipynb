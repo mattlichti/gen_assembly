{
 "metadata": {
  "name": "",
  "signature": "sha256:1a7d9660ff0eb587e9bb9a657b673160b2d9764580060199f0eaa454a18060cd"
 },
 "nbformat": 3,
 "nbformat_minor": 0,
 "worksheets": [
  {
   "cells": [
    {
     "cell_type": "markdown",
     "metadata": {},
     "source": [
      "# GA Data Science 10 (DAT10) - Lab 12\n",
      "\n",
      "### Recommendation Systems\n",
      "\n",
      "Francesco Mosconi\n",
      "\n",
      "### Today\n",
      "\n",
      "1. Simple similarity based recommendation system\n",
      "2. Recsys\n",
      "3. Optional (yhat)"
     ]
    },
    {
     "cell_type": "markdown",
     "metadata": {},
     "source": [
      "## Similarity based Recommendation System: Beers\n",
      "\n",
      "\n",
      "Let's build a recommendation system to recommend types of beers based on user reviews"
     ]
    },
    {
     "cell_type": "markdown",
     "metadata": {},
     "source": [
      "Usual imports (numpy, pandas)"
     ]
    },
    {
     "cell_type": "code",
     "collapsed": false,
     "input": [
      "import pandas as pd\n",
      "import numpy as np"
     ],
     "language": "python",
     "metadata": {},
     "outputs": [],
     "prompt_number": 4
    },
    {
     "cell_type": "markdown",
     "metadata": {},
     "source": [
      "First of all let's get the data"
     ]
    },
    {
     "cell_type": "code",
     "collapsed": false,
     "input": [
      "! curl -O https://s3.amazonaws.com/demo-datasets/beer_reviews.tar.gz"
     ],
     "language": "python",
     "metadata": {},
     "outputs": [
      {
       "output_type": "stream",
       "stream": "stdout",
       "text": [
        "  % Total    % Received % Xferd  Average Speed   Time    Time     Time  Current\r\n",
        "                                 Dload  Upload   Total   Spent    Left  Speed\r\n",
        "\r",
        "  0     0    0     0    0     0      0      0 --:--:-- --:--:-- --:--:--     0"
       ]
      },
      {
       "output_type": "stream",
       "stream": "stdout",
       "text": [
        "curl: (77) error setting certificate verify locations:\r\n",
        "  CAfile: /etc/pki/tls/certs/ca-bundle.crt\r\n",
        "  CApath: none\r\n"
       ]
      }
     ],
     "prompt_number": 4
    },
    {
     "cell_type": "markdown",
     "metadata": {},
     "source": [
      "Import data in a pandas dataframe called \"allbeers\". Use the compression keyword"
     ]
    },
    {
     "cell_type": "code",
     "collapsed": false,
     "input": [
      "allbeers = pd.read_csv(\"beer_reviews.tar.gz\", compression='gzip')"
     ],
     "language": "python",
     "metadata": {},
     "outputs": [
      {
       "output_type": "stream",
       "stream": "stderr",
       "text": [
        "/home/matt/anaconda/lib/python2.7/site-packages/pandas/io/parsers.py:1139: DtypeWarning: Columns (0) have mixed types. Specify dtype option on import or set low_memory=False.\n",
        "  data = self._reader.read(nrows)\n"
       ]
      }
     ],
     "prompt_number": 13
    },
    {
     "cell_type": "markdown",
     "metadata": {},
     "source": [
      "Let's look at the data"
     ]
    },
    {
     "cell_type": "code",
     "collapsed": false,
     "input": [
      "allbeers.head()"
     ],
     "language": "python",
     "metadata": {},
     "outputs": [
      {
       "html": [
        "<div style=\"max-height:1000px;max-width:1500px;overflow:auto;\">\n",
        "<table border=\"1\" class=\"dataframe\">\n",
        "  <thead>\n",
        "    <tr style=\"text-align: right;\">\n",
        "      <th></th>\n",
        "      <th>beer_reviews/</th>\n",
        "      <th>brewery_name</th>\n",
        "      <th>review_time</th>\n",
        "      <th>review_overall</th>\n",
        "      <th>review_aroma</th>\n",
        "      <th>review_appearance</th>\n",
        "      <th>review_profilename</th>\n",
        "      <th>beer_style</th>\n",
        "      <th>review_palate</th>\n",
        "      <th>review_taste</th>\n",
        "      <th>beer_name</th>\n",
        "      <th>beer_abv</th>\n",
        "      <th>beer_beerid</th>\n",
        "    </tr>\n",
        "  </thead>\n",
        "  <tbody>\n",
        "    <tr>\n",
        "      <th>0</th>\n",
        "      <td> 10325</td>\n",
        "      <td>         Vecchio Birraio</td>\n",
        "      <td> 1234817823</td>\n",
        "      <td> 1.5</td>\n",
        "      <td> 2.0</td>\n",
        "      <td> 2.5</td>\n",
        "      <td>        stcules</td>\n",
        "      <td>                     Hefeweizen</td>\n",
        "      <td> 1.5</td>\n",
        "      <td> 1.5</td>\n",
        "      <td>           Sausa Weizen</td>\n",
        "      <td> 5.0</td>\n",
        "      <td> 47986</td>\n",
        "    </tr>\n",
        "    <tr>\n",
        "      <th>1</th>\n",
        "      <td> 10325</td>\n",
        "      <td>         Vecchio Birraio</td>\n",
        "      <td> 1235915097</td>\n",
        "      <td> 3.0</td>\n",
        "      <td> 2.5</td>\n",
        "      <td> 3.0</td>\n",
        "      <td>        stcules</td>\n",
        "      <td>             English Strong Ale</td>\n",
        "      <td> 3.0</td>\n",
        "      <td> 3.0</td>\n",
        "      <td>               Red Moon</td>\n",
        "      <td> 6.2</td>\n",
        "      <td> 48213</td>\n",
        "    </tr>\n",
        "    <tr>\n",
        "      <th>2</th>\n",
        "      <td> 10325</td>\n",
        "      <td>         Vecchio Birraio</td>\n",
        "      <td> 1235916604</td>\n",
        "      <td> 3.0</td>\n",
        "      <td> 2.5</td>\n",
        "      <td> 3.0</td>\n",
        "      <td>        stcules</td>\n",
        "      <td>         Foreign / Export Stout</td>\n",
        "      <td> 3.0</td>\n",
        "      <td> 3.0</td>\n",
        "      <td> Black Horse Black Beer</td>\n",
        "      <td> 6.5</td>\n",
        "      <td> 48215</td>\n",
        "    </tr>\n",
        "    <tr>\n",
        "      <th>3</th>\n",
        "      <td> 10325</td>\n",
        "      <td>         Vecchio Birraio</td>\n",
        "      <td> 1234725145</td>\n",
        "      <td> 3.0</td>\n",
        "      <td> 3.0</td>\n",
        "      <td> 3.5</td>\n",
        "      <td>        stcules</td>\n",
        "      <td>                German Pilsener</td>\n",
        "      <td> 2.5</td>\n",
        "      <td> 3.0</td>\n",
        "      <td>             Sausa Pils</td>\n",
        "      <td> 5.0</td>\n",
        "      <td> 47969</td>\n",
        "    </tr>\n",
        "    <tr>\n",
        "      <th>4</th>\n",
        "      <td>  1075</td>\n",
        "      <td> Caldera Brewing Company</td>\n",
        "      <td> 1293735206</td>\n",
        "      <td> 4.0</td>\n",
        "      <td> 4.5</td>\n",
        "      <td> 4.0</td>\n",
        "      <td> johnmichaelsen</td>\n",
        "      <td> American Double / Imperial IPA</td>\n",
        "      <td> 4.0</td>\n",
        "      <td> 4.5</td>\n",
        "      <td>          Cauldron DIPA</td>\n",
        "      <td> 7.7</td>\n",
        "      <td> 64883</td>\n",
        "    </tr>\n",
        "  </tbody>\n",
        "</table>\n",
        "</div>"
       ],
       "metadata": {},
       "output_type": "pyout",
       "prompt_number": 14,
       "text": [
        "  beer_reviews/             brewery_name  review_time  review_overall  \\\n",
        "0         10325          Vecchio Birraio   1234817823             1.5   \n",
        "1         10325          Vecchio Birraio   1235915097             3.0   \n",
        "2         10325          Vecchio Birraio   1235916604             3.0   \n",
        "3         10325          Vecchio Birraio   1234725145             3.0   \n",
        "4          1075  Caldera Brewing Company   1293735206             4.0   \n",
        "\n",
        "   review_aroma  review_appearance review_profilename  \\\n",
        "0           2.0                2.5            stcules   \n",
        "1           2.5                3.0            stcules   \n",
        "2           2.5                3.0            stcules   \n",
        "3           3.0                3.5            stcules   \n",
        "4           4.5                4.0     johnmichaelsen   \n",
        "\n",
        "                       beer_style  review_palate  review_taste  \\\n",
        "0                      Hefeweizen            1.5           1.5   \n",
        "1              English Strong Ale            3.0           3.0   \n",
        "2          Foreign / Export Stout            3.0           3.0   \n",
        "3                 German Pilsener            2.5           3.0   \n",
        "4  American Double / Imperial IPA            4.0           4.5   \n",
        "\n",
        "                beer_name  beer_abv  beer_beerid  \n",
        "0            Sausa Weizen       5.0        47986  \n",
        "1                Red Moon       6.2        48213  \n",
        "2  Black Horse Black Beer       6.5        48215  \n",
        "3              Sausa Pils       5.0        47969  \n",
        "4           Cauldron DIPA       7.7        64883  "
       ]
      }
     ],
     "prompt_number": 14
    },
    {
     "cell_type": "markdown",
     "metadata": {},
     "source": [
      "Let's restrict this to the top 250 beers. Use the value_counts() method select the top 250 beers.\n",
      "Assign the selected beers to a dataset called df"
     ]
    },
    {
     "cell_type": "code",
     "collapsed": false,
     "input": [],
     "language": "python",
     "metadata": {},
     "outputs": []
    },
    {
     "cell_type": "code",
     "collapsed": false,
     "input": [
      "n = 250\n",
      "top_n = allbeers.beer_name.value_counts().index[:n]\n",
      "df = allbeers[allbeers.beer_name.isin(top_n)]\n",
      "df.head()"
     ],
     "language": "python",
     "metadata": {},
     "outputs": [
      {
       "html": [
        "<div style=\"max-height:1000px;max-width:1500px;overflow:auto;\">\n",
        "<table border=\"1\" class=\"dataframe\">\n",
        "  <thead>\n",
        "    <tr style=\"text-align: right;\">\n",
        "      <th></th>\n",
        "      <th>beer_reviews/</th>\n",
        "      <th>brewery_name</th>\n",
        "      <th>review_time</th>\n",
        "      <th>review_overall</th>\n",
        "      <th>review_aroma</th>\n",
        "      <th>review_appearance</th>\n",
        "      <th>review_profilename</th>\n",
        "      <th>beer_style</th>\n",
        "      <th>review_palate</th>\n",
        "      <th>review_taste</th>\n",
        "      <th>beer_name</th>\n",
        "      <th>beer_abv</th>\n",
        "      <th>beer_beerid</th>\n",
        "    </tr>\n",
        "  </thead>\n",
        "  <tbody>\n",
        "    <tr>\n",
        "      <th>798 </th>\n",
        "      <td>  1075</td>\n",
        "      <td> Caldera Brewing Company</td>\n",
        "      <td> 1212201268</td>\n",
        "      <td> 4.5</td>\n",
        "      <td> 4.5</td>\n",
        "      <td> 4</td>\n",
        "      <td>          grumpy</td>\n",
        "      <td> American Double / Imperial Stout</td>\n",
        "      <td> 4.0</td>\n",
        "      <td> 4.5</td>\n",
        "      <td> Imperial Stout</td>\n",
        "      <td> NaN</td>\n",
        "      <td> 42964</td>\n",
        "    </tr>\n",
        "    <tr>\n",
        "      <th>1559</th>\n",
        "      <td> 11715</td>\n",
        "      <td> Destiny Brewing Company</td>\n",
        "      <td> 1137124057</td>\n",
        "      <td> 4.0</td>\n",
        "      <td> 3.5</td>\n",
        "      <td> 4</td>\n",
        "      <td> blitheringidiot</td>\n",
        "      <td>          American Pale Ale (APA)</td>\n",
        "      <td> 3.5</td>\n",
        "      <td> 3.5</td>\n",
        "      <td>       Pale Ale</td>\n",
        "      <td> 4.5</td>\n",
        "      <td> 26420</td>\n",
        "    </tr>\n",
        "    <tr>\n",
        "      <th>1560</th>\n",
        "      <td> 11715</td>\n",
        "      <td> Destiny Brewing Company</td>\n",
        "      <td> 1129504403</td>\n",
        "      <td> 4.0</td>\n",
        "      <td> 2.5</td>\n",
        "      <td> 4</td>\n",
        "      <td>     NeroFiddled</td>\n",
        "      <td>          American Pale Ale (APA)</td>\n",
        "      <td> 4.0</td>\n",
        "      <td> 3.5</td>\n",
        "      <td>       Pale Ale</td>\n",
        "      <td> 4.5</td>\n",
        "      <td> 26420</td>\n",
        "    </tr>\n",
        "    <tr>\n",
        "      <th>1563</th>\n",
        "      <td> 11715</td>\n",
        "      <td> Destiny Brewing Company</td>\n",
        "      <td> 1137125989</td>\n",
        "      <td> 3.5</td>\n",
        "      <td> 3.0</td>\n",
        "      <td> 4</td>\n",
        "      <td> blitheringidiot</td>\n",
        "      <td>                     American IPA</td>\n",
        "      <td> 4.0</td>\n",
        "      <td> 4.0</td>\n",
        "      <td>            IPA</td>\n",
        "      <td> NaN</td>\n",
        "      <td> 26132</td>\n",
        "    </tr>\n",
        "    <tr>\n",
        "      <th>1564</th>\n",
        "      <td> 11715</td>\n",
        "      <td> Destiny Brewing Company</td>\n",
        "      <td> 1130936611</td>\n",
        "      <td> 3.0</td>\n",
        "      <td> 3.0</td>\n",
        "      <td> 3</td>\n",
        "      <td>          Gavage</td>\n",
        "      <td>                     American IPA</td>\n",
        "      <td> 4.0</td>\n",
        "      <td> 3.5</td>\n",
        "      <td>            IPA</td>\n",
        "      <td> NaN</td>\n",
        "      <td> 26132</td>\n",
        "    </tr>\n",
        "  </tbody>\n",
        "</table>\n",
        "</div>"
       ],
       "metadata": {},
       "output_type": "pyout",
       "prompt_number": 15,
       "text": [
        "     beer_reviews/             brewery_name  review_time  review_overall  \\\n",
        "798           1075  Caldera Brewing Company   1212201268             4.5   \n",
        "1559         11715  Destiny Brewing Company   1137124057             4.0   \n",
        "1560         11715  Destiny Brewing Company   1129504403             4.0   \n",
        "1563         11715  Destiny Brewing Company   1137125989             3.5   \n",
        "1564         11715  Destiny Brewing Company   1130936611             3.0   \n",
        "\n",
        "      review_aroma  review_appearance review_profilename  \\\n",
        "798            4.5                  4             grumpy   \n",
        "1559           3.5                  4    blitheringidiot   \n",
        "1560           2.5                  4        NeroFiddled   \n",
        "1563           3.0                  4    blitheringidiot   \n",
        "1564           3.0                  3             Gavage   \n",
        "\n",
        "                            beer_style  review_palate  review_taste  \\\n",
        "798   American Double / Imperial Stout            4.0           4.5   \n",
        "1559           American Pale Ale (APA)            3.5           3.5   \n",
        "1560           American Pale Ale (APA)            4.0           3.5   \n",
        "1563                      American IPA            4.0           4.0   \n",
        "1564                      American IPA            4.0           3.5   \n",
        "\n",
        "           beer_name  beer_abv  beer_beerid  \n",
        "798   Imperial Stout       NaN        42964  \n",
        "1559        Pale Ale       4.5        26420  \n",
        "1560        Pale Ale       4.5        26420  \n",
        "1563             IPA       NaN        26132  \n",
        "1564             IPA       NaN        26132  "
       ]
      }
     ],
     "prompt_number": 15
    },
    {
     "cell_type": "markdown",
     "metadata": {},
     "source": [
      "How big is this dataset?"
     ]
    },
    {
     "cell_type": "code",
     "collapsed": false,
     "input": [
      "df.info()"
     ],
     "language": "python",
     "metadata": {},
     "outputs": [
      {
       "output_type": "stream",
       "stream": "stdout",
       "text": [
        "<class 'pandas.core.frame.DataFrame'>\n",
        "Int64Index: 355275 entries, 798 to 1586564\n",
        "Data columns (total 13 columns):\n",
        "beer_reviews/         355275 non-null object\n",
        "brewery_name          355275 non-null object\n",
        "review_time           355275 non-null float64\n",
        "review_overall        355275 non-null float64\n",
        "review_aroma          355275 non-null float64\n",
        "review_appearance     355275 non-null float64\n",
        "review_profilename    355175 non-null object\n",
        "beer_style            355275 non-null object\n",
        "review_palate         355275 non-null float64\n",
        "review_taste          355275 non-null float64\n",
        "beer_name             355275 non-null object\n",
        "beer_abv              353477 non-null float64\n",
        "beer_beerid           355275 non-null float64\n",
        "dtypes: float64(8), object(5)"
       ]
      }
     ],
     "prompt_number": 16
    },
    {
     "cell_type": "markdown",
     "metadata": {},
     "source": [
      "### Pivot Table"
     ]
    },
    {
     "cell_type": "markdown",
     "metadata": {},
     "source": [
      "Aggregate the data in a pivot table using the pivot_table method. Display the mean review_overall for each beer_name aggregating the review_overall values by review_profilename. Use the mean as aggregator."
     ]
    },
    {
     "cell_type": "code",
     "collapsed": false,
     "input": [
      "df_wide = pd.pivot_table(df, values=[\"review_overall\"],\n",
      "        rows=[\"beer_name\", \"review_profilename\"],\n",
      "        aggfunc=np.mean).unstack()\n",
      "df_wide.shape"
     ],
     "language": "python",
     "metadata": {},
     "outputs": [
      {
       "output_type": "stream",
       "stream": "stderr",
       "text": [
        "/home/matt/anaconda/lib/python2.7/site-packages/pandas/util/decorators.py:53: FutureWarning: rows is deprecated, use index instead\n",
        "  warnings.warn(msg, FutureWarning)\n"
       ]
      },
      {
       "metadata": {},
       "output_type": "pyout",
       "prompt_number": 20,
       "text": [
        "(250, 22140)"
       ]
      }
     ],
     "prompt_number": 20
    },
    {
     "cell_type": "markdown",
     "metadata": {},
     "source": [
      "Display the head of the pivot table, but only for 5 users (columns are users)"
     ]
    },
    {
     "cell_type": "code",
     "collapsed": false,
     "input": [
      "df_wide.ix[0:5, 0:5]"
     ],
     "language": "python",
     "metadata": {},
     "outputs": [
      {
       "html": [
        "<div style=\"max-height:1000px;max-width:1500px;overflow:auto;\">\n",
        "<table border=\"1\" class=\"dataframe\">\n",
        "  <thead>\n",
        "    <tr>\n",
        "      <th></th>\n",
        "      <th colspan=\"5\" halign=\"left\">review_overall</th>\n",
        "    </tr>\n",
        "    <tr>\n",
        "      <th>review_profilename</th>\n",
        "      <th>0110x011</th>\n",
        "      <th>02maxima</th>\n",
        "      <th>03SVTCobra</th>\n",
        "      <th>05Harley</th>\n",
        "      <th>0Naught0</th>\n",
        "    </tr>\n",
        "    <tr>\n",
        "      <th>beer_name</th>\n",
        "      <th></th>\n",
        "      <th></th>\n",
        "      <th></th>\n",
        "      <th></th>\n",
        "      <th></th>\n",
        "    </tr>\n",
        "  </thead>\n",
        "  <tbody>\n",
        "    <tr>\n",
        "      <th>#9</th>\n",
        "      <td>NaN</td>\n",
        "      <td>NaN</td>\n",
        "      <td>NaN</td>\n",
        "      <td>NaN</td>\n",
        "      <td>NaN</td>\n",
        "    </tr>\n",
        "    <tr>\n",
        "      <th>120 Minute IPA</th>\n",
        "      <td>NaN</td>\n",
        "      <td>NaN</td>\n",
        "      <td>NaN</td>\n",
        "      <td>  4</td>\n",
        "      <td>NaN</td>\n",
        "    </tr>\n",
        "    <tr>\n",
        "      <th>1554 Enlightened Black Ale</th>\n",
        "      <td>NaN</td>\n",
        "      <td>NaN</td>\n",
        "      <td>NaN</td>\n",
        "      <td>NaN</td>\n",
        "      <td>NaN</td>\n",
        "    </tr>\n",
        "    <tr>\n",
        "      <th>60 Minute IPA</th>\n",
        "      <td>NaN</td>\n",
        "      <td>NaN</td>\n",
        "      <td>NaN</td>\n",
        "      <td>NaN</td>\n",
        "      <td>NaN</td>\n",
        "    </tr>\n",
        "    <tr>\n",
        "      <th>90 Minute IPA</th>\n",
        "      <td>  5</td>\n",
        "      <td>NaN</td>\n",
        "      <td>NaN</td>\n",
        "      <td>  4</td>\n",
        "      <td>NaN</td>\n",
        "    </tr>\n",
        "  </tbody>\n",
        "</table>\n",
        "</div>"
       ],
       "metadata": {},
       "output_type": "pyout",
       "prompt_number": 21,
       "text": [
        "                            review_overall                                  \\\n",
        "review_profilename                0110x011  02maxima  03SVTCobra  05Harley   \n",
        "beer_name                                                                    \n",
        "#9                                     NaN       NaN         NaN       NaN   \n",
        "120 Minute IPA                         NaN       NaN         NaN         4   \n",
        "1554 Enlightened Black Ale             NaN       NaN         NaN       NaN   \n",
        "60 Minute IPA                          NaN       NaN         NaN       NaN   \n",
        "90 Minute IPA                            5       NaN         NaN         4   \n",
        "\n",
        "                                      \n",
        "review_profilename          0Naught0  \n",
        "beer_name                             \n",
        "#9                               NaN  \n",
        "120 Minute IPA                   NaN  \n",
        "1554 Enlightened Black Ale       NaN  \n",
        "60 Minute IPA                    NaN  \n",
        "90 Minute IPA                    NaN  "
       ]
      }
     ],
     "prompt_number": 21
    },
    {
     "cell_type": "markdown",
     "metadata": {},
     "source": [
      "### Discussion: what do you notice in this table?"
     ]
    },
    {
     "cell_type": "markdown",
     "metadata": {},
     "source": [
      "#### Data munging\n",
      "Set Nans to zero"
     ]
    },
    {
     "cell_type": "code",
     "collapsed": false,
     "input": [
      "df_wide = df_wide.fillna(0)"
     ],
     "language": "python",
     "metadata": {},
     "outputs": [],
     "prompt_number": 23
    },
    {
     "cell_type": "markdown",
     "metadata": {},
     "source": [
      "Check that columns are users"
     ]
    },
    {
     "cell_type": "code",
     "collapsed": false,
     "input": [
      "df_wide.columns[0:10]"
     ],
     "language": "python",
     "metadata": {},
     "outputs": [
      {
       "metadata": {},
       "output_type": "pyout",
       "prompt_number": 26,
       "text": [
        "MultiIndex(levels=[[u'review_overall'], [u'0110x011', u'02maxima', u'03SVTCobra', u'05Harley', u'0Naught0', u'0beerguy0', u'0runkp0s', u'0tt0', u'1000Bottles', u'1001111.0', u'100floods', u'100proof', u'1050Sudz', u'108Dragons', u'1099.0', u'1100.0', u'1121987.0', u'11millsown113', u'11osixBrew', u'11thFloorBrewing', u'1229design', u'12NattiBottles', u'12ouncecurls', u'12percent', u'12vUnion', u'130guy', u'13smurrf', u'160Shillings', u'1759Girl', u'1759dallas', u'17Guinness59', u'18alpha', u'196osh', u'1993Heel', u'1996StrokerKid', u'1Adam12', u'1MiltonWaddams', u'1PA', u'1after909', u'1brbn1sctch1beer', u'1fastz28', u'1morebeer', u'1noa', u'1quiks10', u'1santore', u'1thinmint', u'1whiskey', u'20ozmonkey', u'21mmer', u'220emaple', u'22ozStone', u'2369.0', u'2378GCGTG', u'23fyerfyter', u'2408bwk', u'245Trioxin', u'24Beer92', u'25santurce', u'28Rock', u'2BDChicago', u'2Cruzy', u'2DaMtns', u'2KHokie', u'2LBrew', u'2Shay', u'2Stout4u', u'2beerdogs', u'2cansam', u'2girls1hop', u'2heartedMIKE', u'2late2brew', u'2melow', u'2ndloveofmylife', u'2ndstage', u'2oose', u'2roosters', u'2stepZ', u'2wheeledpirate', u'2xHops', u'311kevin', u'31thadrty1', u'321jeff', u'322wingedfoot', u'32hoss32', u'33nickadams', u'3FaveryRogue', u'3HovsepiansBrews', u'3Vandoo', u'3dudesbeerblog', u'3frog', u'3leggeddub', u'3m3rson', u'3nlightenedfool', u'3rdRowTailgater', u'4000qtrap', u'404UGA', u'40oztofreedom89', u'420.0', u'44ouncer', u'454onbeerss', ...]],\n",
        "           labels=[[0, 0, 0, 0, 0, 0, 0, 0, 0, 0], [0, 1, 2, 3, 4, 5, 6, 7, 8, 9]],\n",
        "           names=[None, u'review_profilename'])"
       ]
      }
     ],
     "prompt_number": 26
    },
    {
     "cell_type": "markdown",
     "metadata": {},
     "source": [
      "Check that rows are beers"
     ]
    },
    {
     "cell_type": "code",
     "collapsed": false,
     "input": [
      "pd.Series(df_wide.index[:10])"
     ],
     "language": "python",
     "metadata": {},
     "outputs": [
      {
       "metadata": {},
       "output_type": "pyout",
       "prompt_number": 29,
       "text": [
        "0                                    #9\n",
        "1                        120 Minute IPA\n",
        "2            1554 Enlightened Black Ale\n",
        "3                         60 Minute IPA\n",
        "4                         90 Minute IPA\n",
        "5    Aecht Schlenkerla Rauchbier M\u00e4rzen\n",
        "6                          AleSmith IPA\n",
        "7               AleSmith Speedway Stout\n",
        "8                        Allagash White\n",
        "9                   Alpha King Pale Ale\n",
        "Name: beer_name, dtype: object"
       ]
      }
     ],
     "prompt_number": 29
    },
    {
     "cell_type": "markdown",
     "metadata": {},
     "source": [
      "### Calculate distance between beers\n",
      "\n",
      "We're going to use cosine_similarity from scikit-learn to compute the distance between all beers"
     ]
    },
    {
     "cell_type": "markdown",
     "metadata": {},
     "source": [
      "Imports"
     ]
    },
    {
     "cell_type": "code",
     "collapsed": false,
     "input": [
      "from sklearn.metrics.pairwise import cosine_similarity\n",
      "from sklearn.metrics.pairwise import manhattan_distances\n",
      "from sklearn.metrics.pairwise import euclidean_distances"
     ],
     "language": "python",
     "metadata": {},
     "outputs": [],
     "prompt_number": 30
    },
    {
     "cell_type": "markdown",
     "metadata": {},
     "source": [
      "Apply cosine similarity to df_wide to calculate pairwise distances"
     ]
    },
    {
     "cell_type": "code",
     "collapsed": false,
     "input": [
      "dists = cosine_similarity(df_wide)\n",
      "dists"
     ],
     "language": "python",
     "metadata": {},
     "outputs": [
      {
       "metadata": {},
       "output_type": "pyout",
       "prompt_number": 31,
       "text": [
        "array([[ 1.        ,  0.27540494,  0.27410345, ...,  0.32928048,\n",
        "         0.34805798,  0.31249922],\n",
        "       [ 0.27540494,  1.        ,  0.25151873, ...,  0.2854835 ,\n",
        "         0.23301356,  0.2802485 ],\n",
        "       [ 0.27410345,  0.25151873,  1.        , ...,  0.31629515,\n",
        "         0.22521858,  0.2737628 ],\n",
        "       ..., \n",
        "       [ 0.32928048,  0.2854835 ,  0.31629515, ...,  1.        ,\n",
        "         0.28025764,  0.34504013],\n",
        "       [ 0.34805798,  0.23301356,  0.22521858, ...,  0.28025764,\n",
        "         1.        ,  0.25526913],\n",
        "       [ 0.31249922,  0.2802485 ,  0.2737628 , ...,  0.34504013,\n",
        "         0.25526913,  1.        ]])"
       ]
      }
     ],
     "prompt_number": 31
    },
    {
     "cell_type": "markdown",
     "metadata": {},
     "source": [
      "### Discussion: what type of object is dists?"
     ]
    },
    {
     "cell_type": "markdown",
     "metadata": {},
     "source": [
      "Convert dists to a Pandas DataFrame, use the index as column index as well (distances are a square matrix)."
     ]
    },
    {
     "cell_type": "code",
     "collapsed": false,
     "input": [
      "dists=pd.DataFrame(dists, columns=df_wide.index, index = df_wide.index)\n",
      "dists.ix[0:10, 0:10]"
     ],
     "language": "python",
     "metadata": {},
     "outputs": [
      {
       "html": [
        "<div style=\"max-height:1000px;max-width:1500px;overflow:auto;\">\n",
        "<table border=\"1\" class=\"dataframe\">\n",
        "  <thead>\n",
        "    <tr style=\"text-align: right;\">\n",
        "      <th>beer_name</th>\n",
        "      <th>#9</th>\n",
        "      <th>120 Minute IPA</th>\n",
        "      <th>1554 Enlightened Black Ale</th>\n",
        "      <th>60 Minute IPA</th>\n",
        "      <th>90 Minute IPA</th>\n",
        "      <th>Aecht Schlenkerla Rauchbier M\u00e4rzen</th>\n",
        "      <th>AleSmith IPA</th>\n",
        "      <th>AleSmith Speedway Stout</th>\n",
        "      <th>Allagash White</th>\n",
        "      <th>Alpha King Pale Ale</th>\n",
        "    </tr>\n",
        "    <tr>\n",
        "      <th>beer_name</th>\n",
        "      <th></th>\n",
        "      <th></th>\n",
        "      <th></th>\n",
        "      <th></th>\n",
        "      <th></th>\n",
        "      <th></th>\n",
        "      <th></th>\n",
        "      <th></th>\n",
        "      <th></th>\n",
        "      <th></th>\n",
        "    </tr>\n",
        "  </thead>\n",
        "  <tbody>\n",
        "    <tr>\n",
        "      <th>#9</th>\n",
        "      <td> 1.000000</td>\n",
        "      <td> 0.275405</td>\n",
        "      <td> 0.274103</td>\n",
        "      <td> 0.388364</td>\n",
        "      <td> 0.365175</td>\n",
        "      <td> 0.253841</td>\n",
        "      <td> 0.228479</td>\n",
        "      <td> 0.227612</td>\n",
        "      <td> 0.340681</td>\n",
        "      <td> 0.293315</td>\n",
        "    </tr>\n",
        "    <tr>\n",
        "      <th>120 Minute IPA</th>\n",
        "      <td> 0.275405</td>\n",
        "      <td> 1.000000</td>\n",
        "      <td> 0.251519</td>\n",
        "      <td> 0.378258</td>\n",
        "      <td> 0.410366</td>\n",
        "      <td> 0.262425</td>\n",
        "      <td> 0.315971</td>\n",
        "      <td> 0.337541</td>\n",
        "      <td> 0.282273</td>\n",
        "      <td> 0.336796</td>\n",
        "    </tr>\n",
        "    <tr>\n",
        "      <th>1554 Enlightened Black Ale</th>\n",
        "      <td> 0.274103</td>\n",
        "      <td> 0.251519</td>\n",
        "      <td> 1.000000</td>\n",
        "      <td> 0.319887</td>\n",
        "      <td> 0.314028</td>\n",
        "      <td> 0.252486</td>\n",
        "      <td> 0.266866</td>\n",
        "      <td> 0.261761</td>\n",
        "      <td> 0.260275</td>\n",
        "      <td> 0.307296</td>\n",
        "    </tr>\n",
        "    <tr>\n",
        "      <th>60 Minute IPA</th>\n",
        "      <td> 0.388364</td>\n",
        "      <td> 0.378258</td>\n",
        "      <td> 0.319887</td>\n",
        "      <td> 1.000000</td>\n",
        "      <td> 0.533042</td>\n",
        "      <td> 0.316928</td>\n",
        "      <td> 0.312343</td>\n",
        "      <td> 0.307627</td>\n",
        "      <td> 0.360975</td>\n",
        "      <td> 0.385249</td>\n",
        "    </tr>\n",
        "    <tr>\n",
        "      <th>90 Minute IPA</th>\n",
        "      <td> 0.365175</td>\n",
        "      <td> 0.410366</td>\n",
        "      <td> 0.314028</td>\n",
        "      <td> 0.533042</td>\n",
        "      <td> 1.000000</td>\n",
        "      <td> 0.312861</td>\n",
        "      <td> 0.344218</td>\n",
        "      <td> 0.358754</td>\n",
        "      <td> 0.356804</td>\n",
        "      <td> 0.418582</td>\n",
        "    </tr>\n",
        "    <tr>\n",
        "      <th>Aecht Schlenkerla Rauchbier M\u00e4rzen</th>\n",
        "      <td> 0.253841</td>\n",
        "      <td> 0.262425</td>\n",
        "      <td> 0.252486</td>\n",
        "      <td> 0.316928</td>\n",
        "      <td> 0.312861</td>\n",
        "      <td> 1.000000</td>\n",
        "      <td> 0.244490</td>\n",
        "      <td> 0.246063</td>\n",
        "      <td> 0.297672</td>\n",
        "      <td> 0.263248</td>\n",
        "    </tr>\n",
        "    <tr>\n",
        "      <th>AleSmith IPA</th>\n",
        "      <td> 0.228479</td>\n",
        "      <td> 0.315971</td>\n",
        "      <td> 0.266866</td>\n",
        "      <td> 0.312343</td>\n",
        "      <td> 0.344218</td>\n",
        "      <td> 0.244490</td>\n",
        "      <td> 1.000000</td>\n",
        "      <td> 0.521889</td>\n",
        "      <td> 0.277409</td>\n",
        "      <td> 0.400741</td>\n",
        "    </tr>\n",
        "    <tr>\n",
        "      <th>AleSmith Speedway Stout</th>\n",
        "      <td> 0.227612</td>\n",
        "      <td> 0.337541</td>\n",
        "      <td> 0.261761</td>\n",
        "      <td> 0.307627</td>\n",
        "      <td> 0.358754</td>\n",
        "      <td> 0.246063</td>\n",
        "      <td> 0.521889</td>\n",
        "      <td> 1.000000</td>\n",
        "      <td> 0.273930</td>\n",
        "      <td> 0.420247</td>\n",
        "    </tr>\n",
        "    <tr>\n",
        "      <th>Allagash White</th>\n",
        "      <td> 0.340681</td>\n",
        "      <td> 0.282273</td>\n",
        "      <td> 0.260275</td>\n",
        "      <td> 0.360975</td>\n",
        "      <td> 0.356804</td>\n",
        "      <td> 0.297672</td>\n",
        "      <td> 0.277409</td>\n",
        "      <td> 0.273930</td>\n",
        "      <td> 1.000000</td>\n",
        "      <td> 0.295666</td>\n",
        "    </tr>\n",
        "    <tr>\n",
        "      <th>Alpha King Pale Ale</th>\n",
        "      <td> 0.293315</td>\n",
        "      <td> 0.336796</td>\n",
        "      <td> 0.307296</td>\n",
        "      <td> 0.385249</td>\n",
        "      <td> 0.418582</td>\n",
        "      <td> 0.263248</td>\n",
        "      <td> 0.400741</td>\n",
        "      <td> 0.420247</td>\n",
        "      <td> 0.295666</td>\n",
        "      <td> 1.000000</td>\n",
        "    </tr>\n",
        "  </tbody>\n",
        "</table>\n",
        "</div>"
       ],
       "metadata": {},
       "output_type": "pyout",
       "prompt_number": 32,
       "text": [
        "beer_name                                 #9  120 Minute IPA  \\\n",
        "beer_name                                                      \n",
        "#9                                  1.000000        0.275405   \n",
        "120 Minute IPA                      0.275405        1.000000   \n",
        "1554 Enlightened Black Ale          0.274103        0.251519   \n",
        "60 Minute IPA                       0.388364        0.378258   \n",
        "90 Minute IPA                       0.365175        0.410366   \n",
        "Aecht Schlenkerla Rauchbier M\u00e4rzen  0.253841        0.262425   \n",
        "AleSmith IPA                        0.228479        0.315971   \n",
        "AleSmith Speedway Stout             0.227612        0.337541   \n",
        "Allagash White                      0.340681        0.282273   \n",
        "Alpha King Pale Ale                 0.293315        0.336796   \n",
        "\n",
        "beer_name                           1554 Enlightened Black Ale  60 Minute IPA  \\\n",
        "beer_name                                                                       \n",
        "#9                                                    0.274103       0.388364   \n",
        "120 Minute IPA                                        0.251519       0.378258   \n",
        "1554 Enlightened Black Ale                            1.000000       0.319887   \n",
        "60 Minute IPA                                         0.319887       1.000000   \n",
        "90 Minute IPA                                         0.314028       0.533042   \n",
        "Aecht Schlenkerla Rauchbier M\u00e4rzen                    0.252486       0.316928   \n",
        "AleSmith IPA                                          0.266866       0.312343   \n",
        "AleSmith Speedway Stout                               0.261761       0.307627   \n",
        "Allagash White                                        0.260275       0.360975   \n",
        "Alpha King Pale Ale                                   0.307296       0.385249   \n",
        "\n",
        "beer_name                           90 Minute IPA  \\\n",
        "beer_name                                           \n",
        "#9                                       0.365175   \n",
        "120 Minute IPA                           0.410366   \n",
        "1554 Enlightened Black Ale               0.314028   \n",
        "60 Minute IPA                            0.533042   \n",
        "90 Minute IPA                            1.000000   \n",
        "Aecht Schlenkerla Rauchbier M\u00e4rzen       0.312861   \n",
        "AleSmith IPA                             0.344218   \n",
        "AleSmith Speedway Stout                  0.358754   \n",
        "Allagash White                           0.356804   \n",
        "Alpha King Pale Ale                      0.418582   \n",
        "\n",
        "beer_name                           Aecht Schlenkerla Rauchbier M\u00e4rzen  \\\n",
        "beer_name                                                                \n",
        "#9                                                            0.253841   \n",
        "120 Minute IPA                                                0.262425   \n",
        "1554 Enlightened Black Ale                                    0.252486   \n",
        "60 Minute IPA                                                 0.316928   \n",
        "90 Minute IPA                                                 0.312861   \n",
        "Aecht Schlenkerla Rauchbier M\u00e4rzen                            1.000000   \n",
        "AleSmith IPA                                                  0.244490   \n",
        "AleSmith Speedway Stout                                       0.246063   \n",
        "Allagash White                                                0.297672   \n",
        "Alpha King Pale Ale                                           0.263248   \n",
        "\n",
        "beer_name                           AleSmith IPA  AleSmith Speedway Stout  \\\n",
        "beer_name                                                                   \n",
        "#9                                      0.228479                 0.227612   \n",
        "120 Minute IPA                          0.315971                 0.337541   \n",
        "1554 Enlightened Black Ale              0.266866                 0.261761   \n",
        "60 Minute IPA                           0.312343                 0.307627   \n",
        "90 Minute IPA                           0.344218                 0.358754   \n",
        "Aecht Schlenkerla Rauchbier M\u00e4rzen      0.244490                 0.246063   \n",
        "AleSmith IPA                            1.000000                 0.521889   \n",
        "AleSmith Speedway Stout                 0.521889                 1.000000   \n",
        "Allagash White                          0.277409                 0.273930   \n",
        "Alpha King Pale Ale                     0.400741                 0.420247   \n",
        "\n",
        "beer_name                           Allagash White  Alpha King Pale Ale  \n",
        "beer_name                                                                \n",
        "#9                                        0.340681             0.293315  \n",
        "120 Minute IPA                            0.282273             0.336796  \n",
        "1554 Enlightened Black Ale                0.260275             0.307296  \n",
        "60 Minute IPA                             0.360975             0.385249  \n",
        "90 Minute IPA                             0.356804             0.418582  \n",
        "Aecht Schlenkerla Rauchbier M\u00e4rzen        0.297672             0.263248  \n",
        "AleSmith IPA                              0.277409             0.400741  \n",
        "AleSmith Speedway Stout                   0.273930             0.420247  \n",
        "Allagash White                            1.000000             0.295666  \n",
        "Alpha King Pale Ale                       0.295666             1.000000  "
       ]
      }
     ],
     "prompt_number": 32
    },
    {
     "cell_type": "markdown",
     "metadata": {},
     "source": [
      "Select some beers and look their distances to other beers"
     ]
    },
    {
     "cell_type": "code",
     "collapsed": false,
     "input": [
      "beers_i_like = ['120 Minute IPA',\n",
      "                'Two Hearted Ale',\n",
      "                'Arrogant Bastard Ale']\n",
      "dists[beers_i_like]"
     ],
     "language": "python",
     "metadata": {},
     "outputs": [
      {
       "html": [
        "<div style=\"max-height:1000px;max-width:1500px;overflow:auto;\">\n",
        "<table border=\"1\" class=\"dataframe\">\n",
        "  <thead>\n",
        "    <tr style=\"text-align: right;\">\n",
        "      <th>beer_name</th>\n",
        "      <th>120 Minute IPA</th>\n",
        "      <th>Two Hearted Ale</th>\n",
        "      <th>Arrogant Bastard Ale</th>\n",
        "    </tr>\n",
        "    <tr>\n",
        "      <th>beer_name</th>\n",
        "      <th></th>\n",
        "      <th></th>\n",
        "      <th></th>\n",
        "    </tr>\n",
        "  </thead>\n",
        "  <tbody>\n",
        "    <tr>\n",
        "      <th>#9</th>\n",
        "      <td> 0.275405</td>\n",
        "      <td> 0.341723</td>\n",
        "      <td> 0.368407</td>\n",
        "    </tr>\n",
        "    <tr>\n",
        "      <th>120 Minute IPA</th>\n",
        "      <td> 1.000000</td>\n",
        "      <td> 0.361292</td>\n",
        "      <td> 0.358592</td>\n",
        "    </tr>\n",
        "    <tr>\n",
        "      <th>1554 Enlightened Black Ale</th>\n",
        "      <td> 0.251519</td>\n",
        "      <td> 0.334328</td>\n",
        "      <td> 0.334399</td>\n",
        "    </tr>\n",
        "    <tr>\n",
        "      <th>60 Minute IPA</th>\n",
        "      <td> 0.378258</td>\n",
        "      <td> 0.462703</td>\n",
        "      <td> 0.490766</td>\n",
        "    </tr>\n",
        "    <tr>\n",
        "      <th>90 Minute IPA</th>\n",
        "      <td> 0.410366</td>\n",
        "      <td> 0.481218</td>\n",
        "      <td> 0.498216</td>\n",
        "    </tr>\n",
        "    <tr>\n",
        "      <th>Aecht Schlenkerla Rauchbier M\u00e4rzen</th>\n",
        "      <td> 0.262425</td>\n",
        "      <td> 0.301121</td>\n",
        "      <td> 0.323399</td>\n",
        "    </tr>\n",
        "    <tr>\n",
        "      <th>AleSmith IPA</th>\n",
        "      <td> 0.315971</td>\n",
        "      <td> 0.377285</td>\n",
        "      <td> 0.349759</td>\n",
        "    </tr>\n",
        "    <tr>\n",
        "      <th>AleSmith Speedway Stout</th>\n",
        "      <td> 0.337541</td>\n",
        "      <td> 0.389250</td>\n",
        "      <td> 0.348958</td>\n",
        "    </tr>\n",
        "    <tr>\n",
        "      <th>Allagash White</th>\n",
        "      <td> 0.282273</td>\n",
        "      <td> 0.343332</td>\n",
        "      <td> 0.361881</td>\n",
        "    </tr>\n",
        "    <tr>\n",
        "      <th>Alpha King Pale Ale</th>\n",
        "      <td> 0.336796</td>\n",
        "      <td> 0.505673</td>\n",
        "      <td> 0.399099</td>\n",
        "    </tr>\n",
        "    <tr>\n",
        "      <th>Anchor Liberty Ale</th>\n",
        "      <td> 0.276681</td>\n",
        "      <td> 0.365310</td>\n",
        "      <td> 0.408241</td>\n",
        "    </tr>\n",
        "    <tr>\n",
        "      <th>Anchor Old Foghorn</th>\n",
        "      <td> 0.297229</td>\n",
        "      <td> 0.326666</td>\n",
        "      <td> 0.347828</td>\n",
        "    </tr>\n",
        "    <tr>\n",
        "      <th>Anchor Porter</th>\n",
        "      <td> 0.267729</td>\n",
        "      <td> 0.337839</td>\n",
        "      <td> 0.384663</td>\n",
        "    </tr>\n",
        "    <tr>\n",
        "      <th>Anchor Steam Beer</th>\n",
        "      <td> 0.294004</td>\n",
        "      <td> 0.373237</td>\n",
        "      <td> 0.415121</td>\n",
        "    </tr>\n",
        "    <tr>\n",
        "      <th>ApriHop</th>\n",
        "      <td> 0.365020</td>\n",
        "      <td> 0.426681</td>\n",
        "      <td> 0.400245</td>\n",
        "    </tr>\n",
        "    <tr>\n",
        "      <th>Arrogant Bastard Ale</th>\n",
        "      <td> 0.358592</td>\n",
        "      <td> 0.444119</td>\n",
        "      <td> 1.000000</td>\n",
        "    </tr>\n",
        "    <tr>\n",
        "      <th>Ayinger Celebrator Doppelbock</th>\n",
        "      <td> 0.348554</td>\n",
        "      <td> 0.438261</td>\n",
        "      <td> 0.465118</td>\n",
        "    </tr>\n",
        "    <tr>\n",
        "      <th>Bass Pale Ale</th>\n",
        "      <td> 0.220424</td>\n",
        "      <td> 0.275848</td>\n",
        "      <td> 0.329806</td>\n",
        "    </tr>\n",
        "    <tr>\n",
        "      <th>Bell's Expedition Stout</th>\n",
        "      <td> 0.360413</td>\n",
        "      <td> 0.538984</td>\n",
        "      <td> 0.409038</td>\n",
        "    </tr>\n",
        "    <tr>\n",
        "      <th>Bell's Hopslam Ale</th>\n",
        "      <td> 0.327169</td>\n",
        "      <td> 0.521611</td>\n",
        "      <td> 0.348135</td>\n",
        "    </tr>\n",
        "    <tr>\n",
        "      <th>Bell's Java Stout</th>\n",
        "      <td> 0.295337</td>\n",
        "      <td> 0.443626</td>\n",
        "      <td> 0.333718</td>\n",
        "    </tr>\n",
        "    <tr>\n",
        "      <th>Bell's Kalamazoo Stout</th>\n",
        "      <td> 0.312422</td>\n",
        "      <td> 0.509588</td>\n",
        "      <td> 0.392023</td>\n",
        "    </tr>\n",
        "    <tr>\n",
        "      <th>Bell's Oberon Ale</th>\n",
        "      <td> 0.292553</td>\n",
        "      <td> 0.492573</td>\n",
        "      <td> 0.357695</td>\n",
        "    </tr>\n",
        "    <tr>\n",
        "      <th>Bell's Special Double Cream Stout</th>\n",
        "      <td> 0.300805</td>\n",
        "      <td> 0.467074</td>\n",
        "      <td> 0.353165</td>\n",
        "    </tr>\n",
        "    <tr>\n",
        "      <th>Big Bear Black Stout</th>\n",
        "      <td> 0.314260</td>\n",
        "      <td> 0.358770</td>\n",
        "      <td> 0.394816</td>\n",
        "    </tr>\n",
        "    <tr>\n",
        "      <th>Black Butte Porter</th>\n",
        "      <td> 0.248376</td>\n",
        "      <td> 0.305690</td>\n",
        "      <td> 0.318183</td>\n",
        "    </tr>\n",
        "    <tr>\n",
        "      <th>Blanche De Chambly</th>\n",
        "      <td> 0.246444</td>\n",
        "      <td> 0.302473</td>\n",
        "      <td> 0.333160</td>\n",
        "    </tr>\n",
        "    <tr>\n",
        "      <th>Blind Pig IPA</th>\n",
        "      <td> 0.294426</td>\n",
        "      <td> 0.385396</td>\n",
        "      <td> 0.301178</td>\n",
        "    </tr>\n",
        "    <tr>\n",
        "      <th>Blue Moon Belgian White</th>\n",
        "      <td> 0.226460</td>\n",
        "      <td> 0.280074</td>\n",
        "      <td> 0.329475</td>\n",
        "    </tr>\n",
        "    <tr>\n",
        "      <th>Boddingtons Pub Ale</th>\n",
        "      <td> 0.213254</td>\n",
        "      <td> 0.249960</td>\n",
        "      <td> 0.288939</td>\n",
        "    </tr>\n",
        "    <tr>\n",
        "      <th>...</th>\n",
        "      <td>...</td>\n",
        "      <td>...</td>\n",
        "      <td>...</td>\n",
        "    </tr>\n",
        "    <tr>\n",
        "      <th>Stone Smoked Porter</th>\n",
        "      <td> 0.344567</td>\n",
        "      <td> 0.389745</td>\n",
        "      <td> 0.502177</td>\n",
        "    </tr>\n",
        "    <tr>\n",
        "      <th>Stone Sublimely Self-Righteous Ale</th>\n",
        "      <td> 0.344198</td>\n",
        "      <td> 0.408003</td>\n",
        "      <td> 0.412618</td>\n",
        "    </tr>\n",
        "    <tr>\n",
        "      <th>Storm King Stout</th>\n",
        "      <td> 0.382277</td>\n",
        "      <td> 0.469455</td>\n",
        "      <td> 0.494070</td>\n",
        "    </tr>\n",
        "    <tr>\n",
        "      <th>Supplication</th>\n",
        "      <td> 0.275534</td>\n",
        "      <td> 0.359805</td>\n",
        "      <td> 0.267259</td>\n",
        "    </tr>\n",
        "    <tr>\n",
        "      <th>Ten FIDY</th>\n",
        "      <td> 0.347308</td>\n",
        "      <td> 0.428751</td>\n",
        "      <td> 0.366197</td>\n",
        "    </tr>\n",
        "    <tr>\n",
        "      <th>Terrapin Coffee Oatmeal Imperial Stout</th>\n",
        "      <td> 0.268035</td>\n",
        "      <td> 0.368600</td>\n",
        "      <td> 0.279273</td>\n",
        "    </tr>\n",
        "    <tr>\n",
        "      <th>The Abyss</th>\n",
        "      <td> 0.281575</td>\n",
        "      <td> 0.349566</td>\n",
        "      <td> 0.277021</td>\n",
        "    </tr>\n",
        "    <tr>\n",
        "      <th>Three Philosophers Belgian Style Blend (Quadrupel)</th>\n",
        "      <td> 0.349137</td>\n",
        "      <td> 0.379147</td>\n",
        "      <td> 0.411573</td>\n",
        "    </tr>\n",
        "    <tr>\n",
        "      <th>Titan IPA</th>\n",
        "      <td> 0.310730</td>\n",
        "      <td> 0.407682</td>\n",
        "      <td> 0.389523</td>\n",
        "    </tr>\n",
        "    <tr>\n",
        "      <th>Trappist Westvleteren 12</th>\n",
        "      <td> 0.317825</td>\n",
        "      <td> 0.359732</td>\n",
        "      <td> 0.317132</td>\n",
        "    </tr>\n",
        "    <tr>\n",
        "      <th>Trappistes Rochefort 10</th>\n",
        "      <td> 0.360958</td>\n",
        "      <td> 0.426089</td>\n",
        "      <td> 0.411981</td>\n",
        "    </tr>\n",
        "    <tr>\n",
        "      <th>Trappistes Rochefort 8</th>\n",
        "      <td> 0.333098</td>\n",
        "      <td> 0.387770</td>\n",
        "      <td> 0.402817</td>\n",
        "    </tr>\n",
        "    <tr>\n",
        "      <th>Tripel Karmeliet</th>\n",
        "      <td> 0.276769</td>\n",
        "      <td> 0.320752</td>\n",
        "      <td> 0.330114</td>\n",
        "    </tr>\n",
        "    <tr>\n",
        "      <th>Troegenator Double Bock</th>\n",
        "      <td> 0.287707</td>\n",
        "      <td> 0.319617</td>\n",
        "      <td> 0.313420</td>\n",
        "    </tr>\n",
        "    <tr>\n",
        "      <th>Trois Pistoles</th>\n",
        "      <td> 0.324867</td>\n",
        "      <td> 0.386712</td>\n",
        "      <td> 0.427731</td>\n",
        "    </tr>\n",
        "    <tr>\n",
        "      <th>Tr\u00f6egs Hopback Amber Ale</th>\n",
        "      <td> 0.291015</td>\n",
        "      <td> 0.360729</td>\n",
        "      <td> 0.345261</td>\n",
        "    </tr>\n",
        "    <tr>\n",
        "      <th>Tr\u00f6egs Mad Elf</th>\n",
        "      <td> 0.305690</td>\n",
        "      <td> 0.346305</td>\n",
        "      <td> 0.313600</td>\n",
        "    </tr>\n",
        "    <tr>\n",
        "      <th>Tr\u00f6egs Nugget Nectar</th>\n",
        "      <td> 0.347180</td>\n",
        "      <td> 0.450872</td>\n",
        "      <td> 0.358799</td>\n",
        "    </tr>\n",
        "    <tr>\n",
        "      <th>Two Hearted Ale</th>\n",
        "      <td> 0.361292</td>\n",
        "      <td> 1.000000</td>\n",
        "      <td> 0.444119</td>\n",
        "    </tr>\n",
        "    <tr>\n",
        "      <th>Unearthly (Imperial India Pale Ale)</th>\n",
        "      <td> 0.322742</td>\n",
        "      <td> 0.370044</td>\n",
        "      <td> 0.342556</td>\n",
        "    </tr>\n",
        "    <tr>\n",
        "      <th>Vanilla Porter</th>\n",
        "      <td> 0.201428</td>\n",
        "      <td> 0.284960</td>\n",
        "      <td> 0.259699</td>\n",
        "    </tr>\n",
        "    <tr>\n",
        "      <th>Weihenstephaner Hefeweissbier</th>\n",
        "      <td> 0.312193</td>\n",
        "      <td> 0.437711</td>\n",
        "      <td> 0.425019</td>\n",
        "    </tr>\n",
        "    <tr>\n",
        "      <th>Weihenstephaner Korbinian</th>\n",
        "      <td> 0.282320</td>\n",
        "      <td> 0.328544</td>\n",
        "      <td> 0.343033</td>\n",
        "    </tr>\n",
        "    <tr>\n",
        "      <th>Westmalle Trappist Dubbel</th>\n",
        "      <td> 0.270800</td>\n",
        "      <td> 0.287365</td>\n",
        "      <td> 0.327827</td>\n",
        "    </tr>\n",
        "    <tr>\n",
        "      <th>Westmalle Trappist Tripel</th>\n",
        "      <td> 0.301144</td>\n",
        "      <td> 0.352485</td>\n",
        "      <td> 0.381178</td>\n",
        "    </tr>\n",
        "    <tr>\n",
        "      <th>World Wide Stout</th>\n",
        "      <td> 0.418214</td>\n",
        "      <td> 0.364744</td>\n",
        "      <td> 0.364614</td>\n",
        "    </tr>\n",
        "    <tr>\n",
        "      <th>Yeti Imperial Stout</th>\n",
        "      <td> 0.337978</td>\n",
        "      <td> 0.405268</td>\n",
        "      <td> 0.413119</td>\n",
        "    </tr>\n",
        "    <tr>\n",
        "      <th>Young's Double Chocolate Stout</th>\n",
        "      <td> 0.285483</td>\n",
        "      <td> 0.370320</td>\n",
        "      <td> 0.414911</td>\n",
        "    </tr>\n",
        "    <tr>\n",
        "      <th>Yuengling Traditional Lager</th>\n",
        "      <td> 0.233014</td>\n",
        "      <td> 0.311637</td>\n",
        "      <td> 0.312315</td>\n",
        "    </tr>\n",
        "    <tr>\n",
        "      <th>\u00c9ph\u00e9m\u00e8re (Apple)</th>\n",
        "      <td> 0.280248</td>\n",
        "      <td> 0.324558</td>\n",
        "      <td> 0.340584</td>\n",
        "    </tr>\n",
        "  </tbody>\n",
        "</table>\n",
        "<p>250 rows \u00d7 3 columns</p>\n",
        "</div>"
       ],
       "metadata": {},
       "output_type": "pyout",
       "prompt_number": 52,
       "text": [
        "beer_name                                           120 Minute IPA  \\\n",
        "beer_name                                                            \n",
        "#9                                                        0.275405   \n",
        "120 Minute IPA                                            1.000000   \n",
        "1554 Enlightened Black Ale                                0.251519   \n",
        "60 Minute IPA                                             0.378258   \n",
        "90 Minute IPA                                             0.410366   \n",
        "Aecht Schlenkerla Rauchbier M\u00e4rzen                        0.262425   \n",
        "AleSmith IPA                                              0.315971   \n",
        "AleSmith Speedway Stout                                   0.337541   \n",
        "Allagash White                                            0.282273   \n",
        "Alpha King Pale Ale                                       0.336796   \n",
        "Anchor Liberty Ale                                        0.276681   \n",
        "Anchor Old Foghorn                                        0.297229   \n",
        "Anchor Porter                                             0.267729   \n",
        "Anchor Steam Beer                                         0.294004   \n",
        "ApriHop                                                   0.365020   \n",
        "Arrogant Bastard Ale                                      0.358592   \n",
        "Ayinger Celebrator Doppelbock                             0.348554   \n",
        "Bass Pale Ale                                             0.220424   \n",
        "Bell's Expedition Stout                                   0.360413   \n",
        "Bell's Hopslam Ale                                        0.327169   \n",
        "Bell's Java Stout                                         0.295337   \n",
        "Bell's Kalamazoo Stout                                    0.312422   \n",
        "Bell's Oberon Ale                                         0.292553   \n",
        "Bell's Special Double Cream Stout                         0.300805   \n",
        "Big Bear Black Stout                                      0.314260   \n",
        "Black Butte Porter                                        0.248376   \n",
        "Blanche De Chambly                                        0.246444   \n",
        "Blind Pig IPA                                             0.294426   \n",
        "Blue Moon Belgian White                                   0.226460   \n",
        "Boddingtons Pub Ale                                       0.213254   \n",
        "...                                                            ...   \n",
        "Stone Smoked Porter                                       0.344567   \n",
        "Stone Sublimely Self-Righteous Ale                        0.344198   \n",
        "Storm King Stout                                          0.382277   \n",
        "Supplication                                              0.275534   \n",
        "Ten FIDY                                                  0.347308   \n",
        "Terrapin Coffee Oatmeal Imperial Stout                    0.268035   \n",
        "The Abyss                                                 0.281575   \n",
        "Three Philosophers Belgian Style Blend (Quadrupel)        0.349137   \n",
        "Titan IPA                                                 0.310730   \n",
        "Trappist Westvleteren 12                                  0.317825   \n",
        "Trappistes Rochefort 10                                   0.360958   \n",
        "Trappistes Rochefort 8                                    0.333098   \n",
        "Tripel Karmeliet                                          0.276769   \n",
        "Troegenator Double Bock                                   0.287707   \n",
        "Trois Pistoles                                            0.324867   \n",
        "Tr\u00f6egs Hopback Amber Ale                                  0.291015   \n",
        "Tr\u00f6egs Mad Elf                                            0.305690   \n",
        "Tr\u00f6egs Nugget Nectar                                      0.347180   \n",
        "Two Hearted Ale                                           0.361292   \n",
        "Unearthly (Imperial India Pale Ale)                       0.322742   \n",
        "Vanilla Porter                                            0.201428   \n",
        "Weihenstephaner Hefeweissbier                             0.312193   \n",
        "Weihenstephaner Korbinian                                 0.282320   \n",
        "Westmalle Trappist Dubbel                                 0.270800   \n",
        "Westmalle Trappist Tripel                                 0.301144   \n",
        "World Wide Stout                                          0.418214   \n",
        "Yeti Imperial Stout                                       0.337978   \n",
        "Young's Double Chocolate Stout                            0.285483   \n",
        "Yuengling Traditional Lager                               0.233014   \n",
        "\u00c9ph\u00e9m\u00e8re (Apple)                                          0.280248   \n",
        "\n",
        "beer_name                                           Two Hearted Ale  \\\n",
        "beer_name                                                             \n",
        "#9                                                         0.341723   \n",
        "120 Minute IPA                                             0.361292   \n",
        "1554 Enlightened Black Ale                                 0.334328   \n",
        "60 Minute IPA                                              0.462703   \n",
        "90 Minute IPA                                              0.481218   \n",
        "Aecht Schlenkerla Rauchbier M\u00e4rzen                         0.301121   \n",
        "AleSmith IPA                                               0.377285   \n",
        "AleSmith Speedway Stout                                    0.389250   \n",
        "Allagash White                                             0.343332   \n",
        "Alpha King Pale Ale                                        0.505673   \n",
        "Anchor Liberty Ale                                         0.365310   \n",
        "Anchor Old Foghorn                                         0.326666   \n",
        "Anchor Porter                                              0.337839   \n",
        "Anchor Steam Beer                                          0.373237   \n",
        "ApriHop                                                    0.426681   \n",
        "Arrogant Bastard Ale                                       0.444119   \n",
        "Ayinger Celebrator Doppelbock                              0.438261   \n",
        "Bass Pale Ale                                              0.275848   \n",
        "Bell's Expedition Stout                                    0.538984   \n",
        "Bell's Hopslam Ale                                         0.521611   \n",
        "Bell's Java Stout                                          0.443626   \n",
        "Bell's Kalamazoo Stout                                     0.509588   \n",
        "Bell's Oberon Ale                                          0.492573   \n",
        "Bell's Special Double Cream Stout                          0.467074   \n",
        "Big Bear Black Stout                                       0.358770   \n",
        "Black Butte Porter                                         0.305690   \n",
        "Blanche De Chambly                                         0.302473   \n",
        "Blind Pig IPA                                              0.385396   \n",
        "Blue Moon Belgian White                                    0.280074   \n",
        "Boddingtons Pub Ale                                        0.249960   \n",
        "...                                                             ...   \n",
        "Stone Smoked Porter                                        0.389745   \n",
        "Stone Sublimely Self-Righteous Ale                         0.408003   \n",
        "Storm King Stout                                           0.469455   \n",
        "Supplication                                               0.359805   \n",
        "Ten FIDY                                                   0.428751   \n",
        "Terrapin Coffee Oatmeal Imperial Stout                     0.368600   \n",
        "The Abyss                                                  0.349566   \n",
        "Three Philosophers Belgian Style Blend (Quadrupel)         0.379147   \n",
        "Titan IPA                                                  0.407682   \n",
        "Trappist Westvleteren 12                                   0.359732   \n",
        "Trappistes Rochefort 10                                    0.426089   \n",
        "Trappistes Rochefort 8                                     0.387770   \n",
        "Tripel Karmeliet                                           0.320752   \n",
        "Troegenator Double Bock                                    0.319617   \n",
        "Trois Pistoles                                             0.386712   \n",
        "Tr\u00f6egs Hopback Amber Ale                                   0.360729   \n",
        "Tr\u00f6egs Mad Elf                                             0.346305   \n",
        "Tr\u00f6egs Nugget Nectar                                       0.450872   \n",
        "Two Hearted Ale                                            1.000000   \n",
        "Unearthly (Imperial India Pale Ale)                        0.370044   \n",
        "Vanilla Porter                                             0.284960   \n",
        "Weihenstephaner Hefeweissbier                              0.437711   \n",
        "Weihenstephaner Korbinian                                  0.328544   \n",
        "Westmalle Trappist Dubbel                                  0.287365   \n",
        "Westmalle Trappist Tripel                                  0.352485   \n",
        "World Wide Stout                                           0.364744   \n",
        "Yeti Imperial Stout                                        0.405268   \n",
        "Young's Double Chocolate Stout                             0.370320   \n",
        "Yuengling Traditional Lager                                0.311637   \n",
        "\u00c9ph\u00e9m\u00e8re (Apple)                                           0.324558   \n",
        "\n",
        "beer_name                                           Arrogant Bastard Ale  \n",
        "beer_name                                                                 \n",
        "#9                                                              0.368407  \n",
        "120 Minute IPA                                                  0.358592  \n",
        "1554 Enlightened Black Ale                                      0.334399  \n",
        "60 Minute IPA                                                   0.490766  \n",
        "90 Minute IPA                                                   0.498216  \n",
        "Aecht Schlenkerla Rauchbier M\u00e4rzen                              0.323399  \n",
        "AleSmith IPA                                                    0.349759  \n",
        "AleSmith Speedway Stout                                         0.348958  \n",
        "Allagash White                                                  0.361881  \n",
        "Alpha King Pale Ale                                             0.399099  \n",
        "Anchor Liberty Ale                                              0.408241  \n",
        "Anchor Old Foghorn                                              0.347828  \n",
        "Anchor Porter                                                   0.384663  \n",
        "Anchor Steam Beer                                               0.415121  \n",
        "ApriHop                                                         0.400245  \n",
        "Arrogant Bastard Ale                                            1.000000  \n",
        "Ayinger Celebrator Doppelbock                                   0.465118  \n",
        "Bass Pale Ale                                                   0.329806  \n",
        "Bell's Expedition Stout                                         0.409038  \n",
        "Bell's Hopslam Ale                                              0.348135  \n",
        "Bell's Java Stout                                               0.333718  \n",
        "Bell's Kalamazoo Stout                                          0.392023  \n",
        "Bell's Oberon Ale                                               0.357695  \n",
        "Bell's Special Double Cream Stout                               0.353165  \n",
        "Big Bear Black Stout                                            0.394816  \n",
        "Black Butte Porter                                              0.318183  \n",
        "Blanche De Chambly                                              0.333160  \n",
        "Blind Pig IPA                                                   0.301178  \n",
        "Blue Moon Belgian White                                         0.329475  \n",
        "Boddingtons Pub Ale                                             0.288939  \n",
        "...                                                                  ...  \n",
        "Stone Smoked Porter                                             0.502177  \n",
        "Stone Sublimely Self-Righteous Ale                              0.412618  \n",
        "Storm King Stout                                                0.494070  \n",
        "Supplication                                                    0.267259  \n",
        "Ten FIDY                                                        0.366197  \n",
        "Terrapin Coffee Oatmeal Imperial Stout                          0.279273  \n",
        "The Abyss                                                       0.277021  \n",
        "Three Philosophers Belgian Style Blend (Quadrupel)              0.411573  \n",
        "Titan IPA                                                       0.389523  \n",
        "Trappist Westvleteren 12                                        0.317132  \n",
        "Trappistes Rochefort 10                                         0.411981  \n",
        "Trappistes Rochefort 8                                          0.402817  \n",
        "Tripel Karmeliet                                                0.330114  \n",
        "Troegenator Double Bock                                         0.313420  \n",
        "Trois Pistoles                                                  0.427731  \n",
        "Tr\u00f6egs Hopback Amber Ale                                        0.345261  \n",
        "Tr\u00f6egs Mad Elf                                                  0.313600  \n",
        "Tr\u00f6egs Nugget Nectar                                            0.358799  \n",
        "Two Hearted Ale                                                 0.444119  \n",
        "Unearthly (Imperial India Pale Ale)                             0.342556  \n",
        "Vanilla Porter                                                  0.259699  \n",
        "Weihenstephaner Hefeweissbier                                   0.425019  \n",
        "Weihenstephaner Korbinian                                       0.343033  \n",
        "Westmalle Trappist Dubbel                                       0.327827  \n",
        "Westmalle Trappist Tripel                                       0.381178  \n",
        "World Wide Stout                                                0.364614  \n",
        "Yeti Imperial Stout                                             0.413119  \n",
        "Young's Double Chocolate Stout                                  0.414911  \n",
        "Yuengling Traditional Lager                                     0.312315  \n",
        "\u00c9ph\u00e9m\u00e8re (Apple)                                                0.340584  \n",
        "\n",
        "[250 rows x 3 columns]"
       ]
      }
     ],
     "prompt_number": 52
    },
    {
     "cell_type": "markdown",
     "metadata": {},
     "source": [
      "Sum the distances of my favourite beers by row, to have one distance from each beer in the sample"
     ]
    },
    {
     "cell_type": "code",
     "collapsed": false,
     "input": [
      "beers_summed = dists[beers_i_like].apply(lambda row: np.sum(row), axis=1)"
     ],
     "language": "python",
     "metadata": {},
     "outputs": [],
     "prompt_number": 53
    },
    {
     "cell_type": "markdown",
     "metadata": {},
     "source": [
      "#### Performance"
     ]
    },
    {
     "cell_type": "markdown",
     "metadata": {},
     "source": [
      "Optional: which one is faster? use ```%timeit``` to check"
     ]
    },
    {
     "cell_type": "code",
     "collapsed": false,
     "input": [
      "%timeit dists[beers_i_like].apply(lambda row: np.sum(row), axis=1)"
     ],
     "language": "python",
     "metadata": {},
     "outputs": [
      {
       "output_type": "stream",
       "stream": "stdout",
       "text": [
        "10 loops, best of 3: 20.6 ms per loop\n"
       ]
      }
     ],
     "prompt_number": 38
    },
    {
     "cell_type": "code",
     "collapsed": false,
     "input": [
      "%timeit np.sum(dists[beers_i_like], axis=1)"
     ],
     "language": "python",
     "metadata": {},
     "outputs": [
      {
       "output_type": "stream",
       "stream": "stdout",
       "text": [
        "1000 loops, best of 3: 871 \u00b5s per loop\n"
       ]
      }
     ],
     "prompt_number": 39
    },
    {
     "cell_type": "markdown",
     "metadata": {},
     "source": [
      "#### Ranking"
     ]
    },
    {
     "cell_type": "markdown",
     "metadata": {},
     "source": [
      "Sort summed beers from best to worse"
     ]
    },
    {
     "cell_type": "code",
     "collapsed": false,
     "input": [
      "beers_summed\n"
     ],
     "language": "python",
     "metadata": {},
     "outputs": [
      {
       "metadata": {},
       "output_type": "pyout",
       "prompt_number": 50,
       "text": [
        "beer_name\n",
        "#9                                    1.017780\n",
        "120 Minute IPA                        1.660285\n",
        "1554 Enlightened Black Ale            0.915951\n",
        "60 Minute IPA                         1.328665\n",
        "90 Minute IPA                         1.349771\n",
        "Aecht Schlenkerla Rauchbier M\u00e4rzen    0.879124\n",
        "AleSmith IPA                          0.959797\n",
        "AleSmith Speedway Stout               0.956987\n",
        "Allagash White                        0.996665\n",
        "Alpha King Pale Ale                   1.080361\n",
        "Anchor Liberty Ale                    1.134927\n",
        "Anchor Old Foghorn                    0.979494\n",
        "Anchor Porter                         1.059702\n",
        "Anchor Steam Beer                     1.170626\n",
        "ApriHop                               1.136643\n",
        "...\n",
        "Tr\u00f6egs Hopback Amber Ale               0.951056\n",
        "Tr\u00f6egs Mad Elf                         0.896355\n",
        "Tr\u00f6egs Nugget Nectar                   1.023377\n",
        "Two Hearted Ale                        1.221652\n",
        "Unearthly (Imperial India Pale Ale)    0.948032\n",
        "Vanilla Porter                         0.708020\n",
        "Weihenstephaner Hefeweissbier          1.150193\n",
        "Weihenstephaner Korbinian              0.942222\n",
        "Westmalle Trappist Dubbel              0.911692\n",
        "Westmalle Trappist Tripel              1.028424\n",
        "World Wide Stout                       1.101586\n",
        "Yeti Imperial Stout                    1.105201\n",
        "Young's Double Chocolate Stout         1.110102\n",
        "Yuengling Traditional Lager            0.891935\n",
        "\u00c9ph\u00e9m\u00e8re (Apple)                       0.946424\n",
        "Length: 250, dtype: float64"
       ]
      }
     ],
     "prompt_number": 50
    },
    {
     "cell_type": "code",
     "collapsed": false,
     "input": [
      "beers_summed = beers_summed.order(ascending=False)"
     ],
     "language": "python",
     "metadata": {},
     "outputs": [],
     "prompt_number": 58
    },
    {
     "cell_type": "markdown",
     "metadata": {},
     "source": [
      "Filter out the beers used as input and transform to list"
     ]
    },
    {
     "cell_type": "code",
     "collapsed": false,
     "input": [
      "ranked_beers = beers_summed.index[beers_summed.index.isin(beers_i_like)==False]\n",
      "ranked_beers = ranked_beers.tolist()\n",
      "ranked_beers[:10]\n"
     ],
     "language": "python",
     "metadata": {},
     "outputs": [
      {
       "metadata": {},
       "output_type": "pyout",
       "prompt_number": 59,
       "text": [
        "['Stone Ruination IPA',\n",
        " 'Stone IPA (India Pale Ale)',\n",
        " '90 Minute IPA',\n",
        " 'Storm King Stout',\n",
        " 'Sierra Nevada Bigfoot Barleywine Style Ale',\n",
        " 'HopDevil Ale',\n",
        " 'Sierra Nevada Celebration Ale',\n",
        " '60 Minute IPA',\n",
        " 'Double Bastard Ale',\n",
        " 'Stone Imperial Russian Stout']"
       ]
      }
     ],
     "prompt_number": 59
    },
    {
     "cell_type": "markdown",
     "metadata": {},
     "source": [
      "Define a function that does what we just did for an arbitrary input list of beers. it should also receive the maximum number of beers requested n as optional parameter."
     ]
    },
    {
     "cell_type": "code",
     "collapsed": false,
     "input": [
      "def beer_reccomender(fav_beers):\n",
      "    beer_sum = np.sum(dists[fav_beers], axis=1)\n",
      "    beer_sum = beer_sum.order(ascending=False)\n",
      "    ranked_beers = beer_sum.index[beer_sum.index.isin(fav_beers)==False]\n",
      "    ranked_beers = ranked_beers.tolist()\n",
      "    ranked_beers = ranked_beers[:10]\n",
      "    return ranked_beers\n",
      "\n",
      "    "
     ],
     "language": "python",
     "metadata": {},
     "outputs": [],
     "prompt_number": 82
    },
    {
     "cell_type": "markdown",
     "metadata": {},
     "source": [
      "Test your function. Find the 10 beers most similar to \"120 Minute IPA\""
     ]
    },
    {
     "cell_type": "code",
     "collapsed": false,
     "input": [
      "bla = beer_reccomender(['La Fin Du Monde'])\n",
      "for beer in bla:\n",
      "    print beer"
     ],
     "language": "python",
     "metadata": {},
     "outputs": [
      {
       "output_type": "stream",
       "stream": "stdout",
       "text": [
        "Maudite\n",
        "Trois Pistoles\n",
        "Duvel\n",
        "St. Bernardus Abt 12\n",
        "Don de Dieu\n",
        "Schneider Aventinus\n",
        "Hennepin (Farmhouse Saison)\n",
        "Old Rasputin Russian Imperial Stout\n",
        "Ayinger Celebrator Doppelbock\n",
        "Weihenstephaner Hefeweissbier\n"
       ]
      }
     ],
     "prompt_number": 84
    },
    {
     "cell_type": "markdown",
     "metadata": {},
     "source": [
      "Cool, let's try again with the 10 beers most similar to [\"Coors Light\", \"Bud Light\", \"Amstel Light\"]"
     ]
    },
    {
     "cell_type": "code",
     "collapsed": false,
     "input": [],
     "language": "python",
     "metadata": {},
     "outputs": []
    },
    {
     "cell_type": "markdown",
     "metadata": {},
     "source": [
      "Optional: register an account on yhat and deploy your model following the instructions [here](https://docs.yhathq.com/python/examples/beer-recommender) and [here](http://nbviewer.ipython.org/gist/glamp/20a18d52c539b87de2af)"
     ]
    },
    {
     "cell_type": "markdown",
     "metadata": {},
     "source": [
      "## Recsys\n",
      "\n",
      "A python library for implementing a recommender system"
     ]
    },
    {
     "cell_type": "code",
     "collapsed": false,
     "input": [
      "\"\"\"\n",
      "##install python-recsys\n",
      "\n",
      "### first install dependencies\n",
      "\n",
      "pip install csc-pysparse networkx divisi2\n",
      "\n",
      "### then install recsys\n",
      "git clone https://github.com/python-recsys/python-recsys.git\n",
      "cd python-recsys/\n",
      "\n",
      "python setup.py install\n",
      "\"\"\""
     ],
     "language": "python",
     "metadata": {},
     "outputs": []
    },
    {
     "cell_type": "markdown",
     "metadata": {},
     "source": [
      "Load recsys.algotihm, set VERBOSE = True import SVD class"
     ]
    },
    {
     "cell_type": "code",
     "collapsed": false,
     "input": [
      "import recsys.algorithm\n",
      "recsys.algorithm.VERBOSE = True\n",
      "from recsys.algorithm.factorize import SVD"
     ],
     "language": "python",
     "metadata": {},
     "outputs": [],
     "prompt_number": 1
    },
    {
     "cell_type": "markdown",
     "metadata": {},
     "source": [
      "Let's look at the files"
     ]
    },
    {
     "cell_type": "code",
     "collapsed": false,
     "input": [
      "! ls movielens"
     ],
     "language": "python",
     "metadata": {},
     "outputs": [
      {
       "output_type": "stream",
       "stream": "stdout",
       "text": [
        "movies.dat  ratings.dat  README  users.dat\r\n"
       ]
      }
     ],
     "prompt_number": 2
    },
    {
     "cell_type": "markdown",
     "metadata": {},
     "source": [
      "Import 'movies.dat' to a 'movies' pandas dataframe. Make sure you name the columns, use the correct separator and define the index."
     ]
    },
    {
     "cell_type": "code",
     "collapsed": false,
     "input": [
      "movies = pd.read_table('movielens/movies.dat', sep='::', names= ['ITEMID', 'Title', 'Genres'], index_col= 'ITEMID')"
     ],
     "language": "python",
     "metadata": {},
     "outputs": [
      {
       "output_type": "stream",
       "stream": "stderr",
       "text": [
        "/home/matt/anaconda/lib/python2.7/site-packages/pandas/io/parsers.py:624: ParserWarning: Falling back to the 'python' engine because the 'c' engine does not support regex separators; you can avoid this warning by specifying engine='python'.\n",
        "  ParserWarning)\n"
       ]
      }
     ],
     "prompt_number": 9
    },
    {
     "cell_type": "code",
     "collapsed": false,
     "input": [
      "movies.head()"
     ],
     "language": "python",
     "metadata": {},
     "outputs": [
      {
       "html": [
        "<div style=\"max-height:1000px;max-width:1500px;overflow:auto;\">\n",
        "<table border=\"1\" class=\"dataframe\">\n",
        "  <thead>\n",
        "    <tr style=\"text-align: right;\">\n",
        "      <th></th>\n",
        "      <th>Title</th>\n",
        "      <th>Genres</th>\n",
        "    </tr>\n",
        "    <tr>\n",
        "      <th>ITEMID</th>\n",
        "      <th></th>\n",
        "      <th></th>\n",
        "    </tr>\n",
        "  </thead>\n",
        "  <tbody>\n",
        "    <tr>\n",
        "      <th>1</th>\n",
        "      <td>                   Toy Story (1995)</td>\n",
        "      <td>  Animation|Children's|Comedy</td>\n",
        "    </tr>\n",
        "    <tr>\n",
        "      <th>2</th>\n",
        "      <td>                     Jumanji (1995)</td>\n",
        "      <td> Adventure|Children's|Fantasy</td>\n",
        "    </tr>\n",
        "    <tr>\n",
        "      <th>3</th>\n",
        "      <td>            Grumpier Old Men (1995)</td>\n",
        "      <td>               Comedy|Romance</td>\n",
        "    </tr>\n",
        "    <tr>\n",
        "      <th>4</th>\n",
        "      <td>           Waiting to Exhale (1995)</td>\n",
        "      <td>                 Comedy|Drama</td>\n",
        "    </tr>\n",
        "    <tr>\n",
        "      <th>5</th>\n",
        "      <td> Father of the Bride Part II (1995)</td>\n",
        "      <td>                       Comedy</td>\n",
        "    </tr>\n",
        "  </tbody>\n",
        "</table>\n",
        "</div>"
       ],
       "metadata": {},
       "output_type": "pyout",
       "prompt_number": 10,
       "text": [
        "                                     Title                        Genres\n",
        "ITEMID                                                                  \n",
        "1                         Toy Story (1995)   Animation|Children's|Comedy\n",
        "2                           Jumanji (1995)  Adventure|Children's|Fantasy\n",
        "3                  Grumpier Old Men (1995)                Comedy|Romance\n",
        "4                 Waiting to Exhale (1995)                  Comedy|Drama\n",
        "5       Father of the Bride Part II (1995)                        Comedy"
       ]
      }
     ],
     "prompt_number": 10
    },
    {
     "cell_type": "markdown",
     "metadata": {},
     "source": [
      "Import 'ratings.dat' to a 'ratings' pandas dataframe. Make sure you name the columns, use the correct separator."
     ]
    },
    {
     "cell_type": "code",
     "collapsed": false,
     "input": [
      "ratings = pd.read_table('movielens/ratings.dat', sep='::', names= ['UserID','MovieID','Rating','Timestamp'])"
     ],
     "language": "python",
     "metadata": {},
     "outputs": [],
     "prompt_number": 12
    },
    {
     "cell_type": "code",
     "collapsed": false,
     "input": [
      "ratings.head()"
     ],
     "language": "python",
     "metadata": {},
     "outputs": [
      {
       "html": [
        "<div style=\"max-height:1000px;max-width:1500px;overflow:auto;\">\n",
        "<table border=\"1\" class=\"dataframe\">\n",
        "  <thead>\n",
        "    <tr style=\"text-align: right;\">\n",
        "      <th></th>\n",
        "      <th>UserID</th>\n",
        "      <th>MovieID</th>\n",
        "      <th>Rating</th>\n",
        "      <th>Timestamp</th>\n",
        "    </tr>\n",
        "  </thead>\n",
        "  <tbody>\n",
        "    <tr>\n",
        "      <th>0</th>\n",
        "      <td> 1</td>\n",
        "      <td> 1193</td>\n",
        "      <td> 5</td>\n",
        "      <td> 978300760</td>\n",
        "    </tr>\n",
        "    <tr>\n",
        "      <th>1</th>\n",
        "      <td> 1</td>\n",
        "      <td>  661</td>\n",
        "      <td> 3</td>\n",
        "      <td> 978302109</td>\n",
        "    </tr>\n",
        "    <tr>\n",
        "      <th>2</th>\n",
        "      <td> 1</td>\n",
        "      <td>  914</td>\n",
        "      <td> 3</td>\n",
        "      <td> 978301968</td>\n",
        "    </tr>\n",
        "    <tr>\n",
        "      <th>3</th>\n",
        "      <td> 1</td>\n",
        "      <td> 3408</td>\n",
        "      <td> 4</td>\n",
        "      <td> 978300275</td>\n",
        "    </tr>\n",
        "    <tr>\n",
        "      <th>4</th>\n",
        "      <td> 1</td>\n",
        "      <td> 2355</td>\n",
        "      <td> 5</td>\n",
        "      <td> 978824291</td>\n",
        "    </tr>\n",
        "  </tbody>\n",
        "</table>\n",
        "</div>"
       ],
       "metadata": {},
       "output_type": "pyout",
       "prompt_number": 13,
       "text": [
        "   UserID  MovieID  Rating  Timestamp\n",
        "0       1     1193       5  978300760\n",
        "1       1      661       3  978302109\n",
        "2       1      914       3  978301968\n",
        "3       1     3408       4  978300275\n",
        "4       1     2355       5  978824291"
       ]
      }
     ],
     "prompt_number": 13
    },
    {
     "cell_type": "markdown",
     "metadata": {},
     "source": [
      "Initialize an SVD instance"
     ]
    },
    {
     "cell_type": "code",
     "collapsed": false,
     "input": [
      "svd = SVD()"
     ],
     "language": "python",
     "metadata": {},
     "outputs": [],
     "prompt_number": 14
    },
    {
     "cell_type": "markdown",
     "metadata": {},
     "source": [
      "Populate it with the data from the ratings dataset, using the built in load_data method"
     ]
    },
    {
     "cell_type": "code",
     "collapsed": false,
     "input": [
      "svd.load_data(filename='./movielens/ratings.dat', sep='::', format={'col':0, 'row':1, 'value':2, 'ids': int})"
     ],
     "language": "python",
     "metadata": {},
     "outputs": [
      {
       "output_type": "stream",
       "stream": "stdout",
       "text": [
        "Loading ./movielens/ratings.dat\n",
        "."
       ]
      },
      {
       "output_type": "stream",
       "stream": "stdout",
       "text": [
        ".."
       ]
      },
      {
       "output_type": "stream",
       "stream": "stdout",
       "text": [
        ".."
       ]
      },
      {
       "output_type": "stream",
       "stream": "stdout",
       "text": [
        ".."
       ]
      },
      {
       "output_type": "stream",
       "stream": "stdout",
       "text": [
        ".."
       ]
      },
      {
       "output_type": "stream",
       "stream": "stdout",
       "text": [
        ".|\n"
       ]
      }
     ],
     "prompt_number": 15
    },
    {
     "cell_type": "markdown",
     "metadata": {},
     "source": [
      "Compute SVD\n",
      "\n",
      "$M=U \\Sigma V^T$:"
     ]
    },
    {
     "cell_type": "code",
     "collapsed": false,
     "input": [
      "k = 100\n",
      "svd.compute(k=k,\n",
      "            min_values=10,\n",
      "            pre_normalize=None,\n",
      "            mean_center=True,\n",
      "            post_normalize=True)\n",
      "            \n"
     ],
     "language": "python",
     "metadata": {},
     "outputs": [
      {
       "output_type": "stream",
       "stream": "stdout",
       "text": [
        "Creating matrix (1000209 tuples)\n",
        "Matrix density is: 4.4684%\n"
       ]
      },
      {
       "output_type": "stream",
       "stream": "stdout",
       "text": [
        "Updating matrix: squish to at least 10 values\n",
        "Computing svd k=100, min_values=10, pre_normalize=None, mean_center=True, post_normalize=True\n"
       ]
      },
      {
       "output_type": "stream",
       "stream": "stdout",
       "text": [
        "[WARNING] mean_center is True. svd.similar(...) might return nan's. If so, then do svd.compute(..., mean_center=False)\n"
       ]
      }
     ],
     "prompt_number": 16
    },
    {
     "cell_type": "markdown",
     "metadata": {},
     "source": [
      "you can also save the output SVD model (in a zip file)"
     ]
    },
    {
     "cell_type": "code",
     "collapsed": false,
     "input": [
      "# svd.compute(k=k, min_values=10, pre_normalize=None, mean_center=True, post_normalize=True, savefile='/tmp/movielens')"
     ],
     "language": "python",
     "metadata": {},
     "outputs": []
    },
    {
     "cell_type": "markdown",
     "metadata": {},
     "source": [
      "Reload a saved model:"
     ]
    },
    {
     "cell_type": "code",
     "collapsed": false,
     "input": [
      "# svd2 = SVD(filename='/tmp/movielens')"
     ],
     "language": "python",
     "metadata": {},
     "outputs": []
    },
    {
     "cell_type": "markdown",
     "metadata": {},
     "source": [
      "Find the ITEMID number for \"Toy Story (1995)\""
     ]
    },
    {
     "cell_type": "code",
     "collapsed": false,
     "input": [
      "movies[movies.Title == \"Toy Story (1995)\"]"
     ],
     "language": "python",
     "metadata": {},
     "outputs": [
      {
       "html": [
        "<div style=\"max-height:1000px;max-width:1500px;overflow:auto;\">\n",
        "<table border=\"1\" class=\"dataframe\">\n",
        "  <thead>\n",
        "    <tr style=\"text-align: right;\">\n",
        "      <th></th>\n",
        "      <th>Title</th>\n",
        "      <th>Genres</th>\n",
        "    </tr>\n",
        "    <tr>\n",
        "      <th>ITEMID</th>\n",
        "      <th></th>\n",
        "      <th></th>\n",
        "    </tr>\n",
        "  </thead>\n",
        "  <tbody>\n",
        "    <tr>\n",
        "      <th>1</th>\n",
        "      <td> Toy Story (1995)</td>\n",
        "      <td> Animation|Children's|Comedy</td>\n",
        "    </tr>\n",
        "  </tbody>\n",
        "</table>\n",
        "</div>"
       ],
       "metadata": {},
       "output_type": "pyout",
       "prompt_number": 18,
       "text": [
        "                   Title                       Genres\n",
        "ITEMID                                               \n",
        "1       Toy Story (1995)  Animation|Children's|Comedy"
       ]
      }
     ],
     "prompt_number": 18
    },
    {
     "cell_type": "markdown",
     "metadata": {},
     "source": [
      "Find the ITEMID number for \"Bug's Life, A (1998)\""
     ]
    },
    {
     "cell_type": "code",
     "collapsed": false,
     "input": [
      "movies[movies.Title == \"Bug's Life, A (1998)\"]"
     ],
     "language": "python",
     "metadata": {},
     "outputs": [
      {
       "html": [
        "<div style=\"max-height:1000px;max-width:1500px;overflow:auto;\">\n",
        "<table border=\"1\" class=\"dataframe\">\n",
        "  <thead>\n",
        "    <tr style=\"text-align: right;\">\n",
        "      <th></th>\n",
        "      <th>Title</th>\n",
        "      <th>Genres</th>\n",
        "    </tr>\n",
        "    <tr>\n",
        "      <th>ITEMID</th>\n",
        "      <th></th>\n",
        "      <th></th>\n",
        "    </tr>\n",
        "  </thead>\n",
        "  <tbody>\n",
        "    <tr>\n",
        "      <th>2355</th>\n",
        "      <td> Bug's Life, A (1998)</td>\n",
        "      <td> Animation|Children's|Comedy</td>\n",
        "    </tr>\n",
        "  </tbody>\n",
        "</table>\n",
        "</div>"
       ],
       "metadata": {},
       "output_type": "pyout",
       "prompt_number": 19,
       "text": [
        "                       Title                       Genres\n",
        "ITEMID                                                   \n",
        "2355    Bug's Life, A (1998)  Animation|Children's|Comedy"
       ]
      }
     ],
     "prompt_number": 19
    },
    {
     "cell_type": "markdown",
     "metadata": {},
     "source": [
      "Compute similarity between the two movies"
     ]
    },
    {
     "cell_type": "code",
     "collapsed": false,
     "input": [
      "print svd.similarity(1, 2355)\n"
     ],
     "language": "python",
     "metadata": {},
     "outputs": [
      {
       "output_type": "stream",
       "stream": "stdout",
       "text": [
        "0.677069366773\n"
       ]
      }
     ],
     "prompt_number": 20
    },
    {
     "cell_type": "markdown",
     "metadata": {},
     "source": [
      "Get movies similar to Toy Story"
     ]
    },
    {
     "cell_type": "code",
     "collapsed": false,
     "input": [
      "similar_to_toy_story = svd.similar(1)\n",
      "print similar_to_toy_story"
     ],
     "language": "python",
     "metadata": {},
     "outputs": [
      {
       "output_type": "stream",
       "stream": "stdout",
       "text": [
        "[(1, 1.0), (3114, 0.87060391051018049), (2355, 0.67706936677315788), (588, 0.58073514967544215), (595, 0.46031829709743383), (1907, 0.44589398718134315), (364, 0.4290815989557405), (2081, 0.42566581277820731), (3396, 0.42474056361936008), (2761, 0.40439361857585382)]\n"
       ]
      }
     ],
     "prompt_number": 23
    },
    {
     "cell_type": "markdown",
     "metadata": {},
     "source": [
      "Predict rating for a given user and movie, $\\hat{r}_{ui}$"
     ]
    },
    {
     "cell_type": "code",
     "collapsed": false,
     "input": [
      "movies.index.isin(zip(*simlar))"
     ],
     "language": "python",
     "metadata": {},
     "outputs": []
    },
    {
     "cell_type": "code",
     "collapsed": false,
     "input": [
      "svd.reccomend()"
     ],
     "language": "python",
     "metadata": {},
     "outputs": []
    },
    {
     "cell_type": "markdown",
     "metadata": {},
     "source": [
      "Recommend non rated movies to a user"
     ]
    },
    {
     "cell_type": "code",
     "collapsed": false,
     "input": [
      "USERID = 1\n",
      "svd.recommend(USERID, is_row=False)"
     ],
     "language": "python",
     "metadata": {},
     "outputs": [
      {
       "metadata": {},
       "output_type": "pyout",
       "prompt_number": 25,
       "text": [
        "[(2028, 5.4018452642332111),\n",
        " (527, 5.3498144196809889),\n",
        " (2905, 5.2133848204673416),\n",
        " (318, 5.2052108435956042),\n",
        " (1193, 5.1942189963877672),\n",
        " (3114, 5.1753939214583662),\n",
        " (1, 5.1714259073839139),\n",
        " (2019, 5.1037438278755465),\n",
        " (1178, 5.0962756861447014),\n",
        " (1207, 5.0903052729223921)]"
       ]
      }
     ],
     "prompt_number": 25
    },
    {
     "cell_type": "markdown",
     "metadata": {},
     "source": [
      "Which users should see Toy Story? (e.g. which users -that have not rated Toy Story- would give it a high rating?)"
     ]
    },
    {
     "cell_type": "code",
     "collapsed": false,
     "input": [],
     "language": "python",
     "metadata": {},
     "outputs": []
    },
    {
     "cell_type": "markdown",
     "metadata": {},
     "source": [
      "Find out more here: [https://github.com/ocelma/python-recsys](https://github.com/ocelma/python-recsys)"
     ]
    }
   ],
   "metadata": {}
  }
 ]
}