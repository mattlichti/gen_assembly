{
 "metadata": {
  "name": "",
  "signature": "sha256:106c6128f81be18fa9a44a282996c2b2ace3153887da1f178a3e1f451e626f2b"
 },
 "nbformat": 3,
 "nbformat_minor": 0,
 "worksheets": [
  {
   "cells": [
    {
     "cell_type": "markdown",
     "metadata": {},
     "source": [
      "# GA Data Science 10 (DAT10) - Lab5\n",
      "\n",
      "### Regressions\n",
      "\n",
      "Francesco Mosconi, Chief Data Officer, [Spire Inc.](spire.io)\n",
      "\n",
      "Craig Sakuma, Data Scientist"
     ]
    },
    {
     "cell_type": "code",
     "collapsed": false,
     "input": [
      "#usual imports\n",
      "import numpy as np\n",
      "import matplotlib.pyplot as plt\n",
      "import pandas as pd\n",
      "\n",
      "%matplotlib inline\n",
      "\n",
      "# Statsmodel APIs\n",
      "import statsmodels.api as sm"
     ],
     "language": "python",
     "metadata": {},
     "outputs": [],
     "prompt_number": 8
    },
    {
     "cell_type": "markdown",
     "metadata": {},
     "source": [
      "## Linear Regression"
     ]
    },
    {
     "cell_type": "markdown",
     "metadata": {},
     "source": [
      "Load a subset of the housing data"
     ]
    },
    {
     "cell_type": "code",
     "collapsed": false,
     "input": [
      "data = pd.read_csv('houses.csv')"
     ],
     "language": "python",
     "metadata": {},
     "outputs": [],
     "prompt_number": 9
    },
    {
     "cell_type": "code",
     "collapsed": false,
     "input": [
      "data.head()"
     ],
     "language": "python",
     "metadata": {},
     "outputs": [
      {
       "html": [
        "<div style=\"max-height:1000px;max-width:1500px;overflow:auto;\">\n",
        "<table border=\"1\" class=\"dataframe\">\n",
        "  <thead>\n",
        "    <tr style=\"text-align: right;\">\n",
        "      <th></th>\n",
        "      <th>sqft</th>\n",
        "      <th>bedrooms</th>\n",
        "      <th>age</th>\n",
        "      <th>price</th>\n",
        "    </tr>\n",
        "  </thead>\n",
        "  <tbody>\n",
        "    <tr>\n",
        "      <th>0</th>\n",
        "      <td> 2104</td>\n",
        "      <td> 3</td>\n",
        "      <td> 70</td>\n",
        "      <td> 399900</td>\n",
        "    </tr>\n",
        "    <tr>\n",
        "      <th>1</th>\n",
        "      <td> 1600</td>\n",
        "      <td> 3</td>\n",
        "      <td> 28</td>\n",
        "      <td> 329900</td>\n",
        "    </tr>\n",
        "    <tr>\n",
        "      <th>2</th>\n",
        "      <td> 2400</td>\n",
        "      <td> 3</td>\n",
        "      <td> 44</td>\n",
        "      <td> 369000</td>\n",
        "    </tr>\n",
        "    <tr>\n",
        "      <th>3</th>\n",
        "      <td> 1416</td>\n",
        "      <td> 2</td>\n",
        "      <td> 49</td>\n",
        "      <td> 232000</td>\n",
        "    </tr>\n",
        "    <tr>\n",
        "      <th>4</th>\n",
        "      <td> 3000</td>\n",
        "      <td> 4</td>\n",
        "      <td> 75</td>\n",
        "      <td> 539900</td>\n",
        "    </tr>\n",
        "  </tbody>\n",
        "</table>\n",
        "</div>"
       ],
       "metadata": {},
       "output_type": "pyout",
       "prompt_number": 10,
       "text": [
        "   sqft  bedrooms  age   price\n",
        "0  2104         3   70  399900\n",
        "1  1600         3   28  329900\n",
        "2  2400         3   44  369000\n",
        "3  1416         2   49  232000\n",
        "4  3000         4   75  539900"
       ]
      }
     ],
     "prompt_number": 10
    },
    {
     "cell_type": "code",
     "collapsed": false,
     "input": [
      "data_n = pd.read_csv('houses_norm.csv')"
     ],
     "language": "python",
     "metadata": {},
     "outputs": [],
     "prompt_number": 11
    },
    {
     "cell_type": "markdown",
     "metadata": {},
     "source": [
      "The dataset contains 4 columns. Our objective is to build a model that is able to predict the price of a house, using the information contained in the other columns (sqft, bedrooms and age)"
     ]
    },
    {
     "cell_type": "code",
     "collapsed": false,
     "input": [
      "from pandas.tools.plotting import scatter_matrix\n",
      "scat = scatter_matrix(data, figsize = (5,5))"
     ],
     "language": "python",
     "metadata": {},
     "outputs": [
      {
       "metadata": {},
       "output_type": "display_data",
       "png": "[encoded data removed]",
       "text": [
        "<matplotlib.figure.Figure at 0xa8f41a2c>"
       ]
      }
     ],
     "prompt_number": 12
    },
    {
     "cell_type": "markdown",
     "metadata": {},
     "source": [
      "Run 1. x = sqft, data is raw (so graph units are nice right)"
     ]
    },
    {
     "cell_type": "markdown",
     "metadata": {},
     "source": [
      "Let''s start with a simple model that uses the house surface to estimate the price"
     ]
    },
    {
     "cell_type": "code",
     "collapsed": false,
     "input": [
      "x = data['sqft'].values\n",
      "y = data['price'].values"
     ],
     "language": "python",
     "metadata": {},
     "outputs": [],
     "prompt_number": 13
    },
    {
     "cell_type": "code",
     "collapsed": false,
     "input": [
      "X = sm.add_constant(x, prepend=True)"
     ],
     "language": "python",
     "metadata": {},
     "outputs": [],
     "prompt_number": 14
    },
    {
     "cell_type": "code",
     "collapsed": false,
     "input": [
      "results = sm.OLS(y, X).fit()\n",
      "intercept, slope = results.params\n",
      "\n",
      "r2 = results.rsquared\n",
      "\n",
      "plt.plot(x, y, 'bo')\n",
      "plt.title(\"Price VS Sqft\")\n",
      "xl = np.array([min(x), max(x)])\n",
      "yl = intercept + slope * xl\n",
      "plt.plot(xl, yl, 'r-')\n",
      "plt.show"
     ],
     "language": "python",
     "metadata": {},
     "outputs": [
      {
       "metadata": {},
       "output_type": "pyout",
       "prompt_number": 15,
       "text": [
        "<function matplotlib.pyplot.show>"
       ]
      },
      {
       "metadata": {},
       "output_type": "display_data",
       "png": "[encoded data removed]",
       "text": [
        "<matplotlib.figure.Figure at 0xa882502c>"
       ]
      }
     ],
     "prompt_number": 15
    },
    {
     "cell_type": "code",
     "collapsed": false,
     "input": [
      "results.summary()"
     ],
     "language": "python",
     "metadata": {},
     "outputs": [
      {
       "html": [
        "<table class=\"simpletable\">\n",
        "<caption>OLS Regression Results</caption>\n",
        "<tr>\n",
        "  <th>Dep. Variable:</th>            <td>y</td>        <th>  R-squared:         </th> <td>   0.731</td>\n",
        "</tr>\n",
        "<tr>\n",
        "  <th>Model:</th>                   <td>OLS</td>       <th>  Adj. R-squared:    </th> <td>   0.725</td>\n",
        "</tr>\n",
        "<tr>\n",
        "  <th>Method:</th>             <td>Least Squares</td>  <th>  F-statistic:       </th> <td>   122.3</td>\n",
        "</tr>\n",
        "<tr>\n",
        "  <th>Date:</th>             <td>Mon, 20 Oct 2014</td> <th>  Prob (F-statistic):</th> <td>2.03e-14</td>\n",
        "</tr>\n",
        "<tr>\n",
        "  <th>Time:</th>                 <td>20:24:30</td>     <th>  Log-Likelihood:    </th> <td> -586.94</td>\n",
        "</tr>\n",
        "<tr>\n",
        "  <th>No. Observations:</th>      <td>    47</td>      <th>  AIC:               </th> <td>   1178.</td>\n",
        "</tr>\n",
        "<tr>\n",
        "  <th>Df Residuals:</th>          <td>    45</td>      <th>  BIC:               </th> <td>   1182.</td>\n",
        "</tr>\n",
        "<tr>\n",
        "  <th>Df Model:</th>              <td>     1</td>      <th>                     </th>     <td> </td>   \n",
        "</tr>\n",
        "</table>\n",
        "<table class=\"simpletable\">\n",
        "<tr>\n",
        "    <td></td>       <th>coef</th>     <th>std err</th>      <th>t</th>      <th>P>|t|</th> <th>[95.0% Conf. Int.]</th> \n",
        "</tr>\n",
        "<tr>\n",
        "  <th>const</th> <td> 7.127e+04</td> <td> 2.61e+04</td> <td>    2.725</td> <td> 0.009</td> <td> 1.86e+04  1.24e+05</td>\n",
        "</tr>\n",
        "<tr>\n",
        "  <th>x1</th>    <td>  134.5253</td> <td>   12.165</td> <td>   11.058</td> <td> 0.000</td> <td>  110.024   159.027</td>\n",
        "</tr>\n",
        "</table>\n",
        "<table class=\"simpletable\">\n",
        "<tr>\n",
        "  <th>Omnibus:</th>       <td> 3.751</td> <th>  Durbin-Watson:     </th> <td>   1.863</td>\n",
        "</tr>\n",
        "<tr>\n",
        "  <th>Prob(Omnibus):</th> <td> 0.153</td> <th>  Jarque-Bera (JB):  </th> <td>   2.726</td>\n",
        "</tr>\n",
        "<tr>\n",
        "  <th>Skew:</th>          <td> 0.557</td> <th>  Prob(JB):          </th> <td>   0.256</td>\n",
        "</tr>\n",
        "<tr>\n",
        "  <th>Kurtosis:</th>      <td> 3.390</td> <th>  Cond. No.          </th> <td>5.88e+03</td>\n",
        "</tr>\n",
        "</table>"
       ],
       "metadata": {},
       "output_type": "pyout",
       "prompt_number": 16,
       "text": [
        "<class 'statsmodels.iolib.summary.Summary'>\n",
        "\"\"\"\n",
        "                            OLS Regression Results                            \n",
        "==============================================================================\n",
        "Dep. Variable:                      y   R-squared:                       0.731\n",
        "Model:                            OLS   Adj. R-squared:                  0.725\n",
        "Method:                 Least Squares   F-statistic:                     122.3\n",
        "Date:                Mon, 20 Oct 2014   Prob (F-statistic):           2.03e-14\n",
        "Time:                        20:24:30   Log-Likelihood:                -586.94\n",
        "No. Observations:                  47   AIC:                             1178.\n",
        "Df Residuals:                      45   BIC:                             1182.\n",
        "Df Model:                           1                                         \n",
        "==============================================================================\n",
        "                 coef    std err          t      P>|t|      [95.0% Conf. Int.]\n",
        "------------------------------------------------------------------------------\n",
        "const       7.127e+04   2.61e+04      2.725      0.009      1.86e+04  1.24e+05\n",
        "x1           134.5253     12.165     11.058      0.000       110.024   159.027\n",
        "==============================================================================\n",
        "Omnibus:                        3.751   Durbin-Watson:                   1.863\n",
        "Prob(Omnibus):                  0.153   Jarque-Bera (JB):                2.726\n",
        "Skew:                           0.557   Prob(JB):                        0.256\n",
        "Kurtosis:                       3.390   Cond. No.                     5.88e+03\n",
        "==============================================================================\n",
        "\n",
        "Warnings:\n",
        "[1] The condition number is large, 5.88e+03. This might indicate that there are\n",
        "strong multicollinearity or other numerical problems.\n",
        "\"\"\""
       ]
      }
     ],
     "prompt_number": 16
    },
    {
     "cell_type": "markdown",
     "metadata": {},
     "source": [
      "Run 2:  x = sqft, data is normalized (so summary stats are nice)"
     ]
    },
    {
     "cell_type": "code",
     "collapsed": false,
     "input": [
      "data_n.head()"
     ],
     "language": "python",
     "metadata": {},
     "outputs": [
      {
       "html": [
        "<div style=\"max-height:1000px;max-width:1500px;overflow:auto;\">\n",
        "<table border=\"1\" class=\"dataframe\">\n",
        "  <thead>\n",
        "    <tr style=\"text-align: right;\">\n",
        "      <th></th>\n",
        "      <th>sqft</th>\n",
        "      <th>bedrooms</th>\n",
        "      <th>age</th>\n",
        "      <th>price</th>\n",
        "    </tr>\n",
        "  </thead>\n",
        "  <tbody>\n",
        "    <tr>\n",
        "      <th>0</th>\n",
        "      <td> 2.104</td>\n",
        "      <td> 3</td>\n",
        "      <td> 7.0</td>\n",
        "      <td> 3.999</td>\n",
        "    </tr>\n",
        "    <tr>\n",
        "      <th>1</th>\n",
        "      <td> 1.600</td>\n",
        "      <td> 3</td>\n",
        "      <td> 2.8</td>\n",
        "      <td> 3.299</td>\n",
        "    </tr>\n",
        "    <tr>\n",
        "      <th>2</th>\n",
        "      <td> 2.400</td>\n",
        "      <td> 3</td>\n",
        "      <td> 4.4</td>\n",
        "      <td> 3.690</td>\n",
        "    </tr>\n",
        "    <tr>\n",
        "      <th>3</th>\n",
        "      <td> 1.416</td>\n",
        "      <td> 2</td>\n",
        "      <td> 4.9</td>\n",
        "      <td> 2.320</td>\n",
        "    </tr>\n",
        "    <tr>\n",
        "      <th>4</th>\n",
        "      <td> 3.000</td>\n",
        "      <td> 4</td>\n",
        "      <td> 7.5</td>\n",
        "      <td> 5.399</td>\n",
        "    </tr>\n",
        "  </tbody>\n",
        "</table>\n",
        "</div>"
       ],
       "metadata": {},
       "output_type": "pyout",
       "prompt_number": 20,
       "text": [
        "    sqft  bedrooms  age  price\n",
        "0  2.104         3  7.0  3.999\n",
        "1  1.600         3  2.8  3.299\n",
        "2  2.400         3  4.4  3.690\n",
        "3  1.416         2  4.9  2.320\n",
        "4  3.000         4  7.5  5.399"
       ]
      }
     ],
     "prompt_number": 20
    },
    {
     "cell_type": "markdown",
     "metadata": {},
     "source": [
      "### EXERCISE #1\n",
      "#### Create the linear model for data_n to predict price based on sqft. \n",
      "#### What are the slope, intercept and r-squared?"
     ]
    },
    {
     "cell_type": "code",
     "collapsed": false,
     "input": [
      "x = data_n['sqft'].values\n",
      "y = data_n['price'].values\n",
      "X = sm.add_constant(x, prepend=True)\n",
      "\n",
      "results = sm.OLS(y, X).fit()\n",
      "intercept, slope = results.params\n",
      "print intercept\n",
      "print slope\n",
      "r2 = results.rsquared\n",
      "print r2\n"
     ],
     "language": "python",
     "metadata": {},
     "outputs": [
      {
       "output_type": "stream",
       "stream": "stdout",
       "text": [
        "0.712704924487\n",
        "1.3452528772\n",
        "0.731003783976\n"
       ]
      }
     ],
     "prompt_number": 36
    },
    {
     "cell_type": "markdown",
     "metadata": {},
     "source": [
      "#### Plot the data along with the line for the regression model"
     ]
    },
    {
     "cell_type": "code",
     "collapsed": false,
     "input": [
      "r2 = results.rsquared\n",
      "\n",
      "plt.plot(x, y, 'bo')\n",
      "plt.title(\"Price VS Sqft\")\n",
      "xl = np.array([min(x), max(x)])\n",
      "yl = intercept + slope * xl\n",
      "plt.plot(xl, yl, 'r-')\n",
      "results.summary()"
     ],
     "language": "python",
     "metadata": {},
     "outputs": [
      {
       "html": [
        "<table class=\"simpletable\">\n",
        "<caption>OLS Regression Results</caption>\n",
        "<tr>\n",
        "  <th>Dep. Variable:</th>            <td>y</td>        <th>  R-squared:         </th> <td>   0.731</td>\n",
        "</tr>\n",
        "<tr>\n",
        "  <th>Model:</th>                   <td>OLS</td>       <th>  Adj. R-squared:    </th> <td>   0.725</td>\n",
        "</tr>\n",
        "<tr>\n",
        "  <th>Method:</th>             <td>Least Squares</td>  <th>  F-statistic:       </th> <td>   122.3</td>\n",
        "</tr>\n",
        "<tr>\n",
        "  <th>Date:</th>             <td>Mon, 20 Oct 2014</td> <th>  Prob (F-statistic):</th> <td>2.03e-14</td>\n",
        "</tr>\n",
        "<tr>\n",
        "  <th>Time:</th>                 <td>20:33:24</td>     <th>  Log-Likelihood:    </th> <td> -45.831</td>\n",
        "</tr>\n",
        "<tr>\n",
        "  <th>No. Observations:</th>      <td>    47</td>      <th>  AIC:               </th> <td>   95.66</td>\n",
        "</tr>\n",
        "<tr>\n",
        "  <th>Df Residuals:</th>          <td>    45</td>      <th>  BIC:               </th> <td>   99.36</td>\n",
        "</tr>\n",
        "<tr>\n",
        "  <th>Df Model:</th>              <td>     1</td>      <th>                     </th>     <td> </td>   \n",
        "</tr>\n",
        "</table>\n",
        "<table class=\"simpletable\">\n",
        "<tr>\n",
        "    <td></td>       <th>coef</th>     <th>std err</th>      <th>t</th>      <th>P>|t|</th> <th>[95.0% Conf. Int.]</th> \n",
        "</tr>\n",
        "<tr>\n",
        "  <th>const</th> <td>    0.7127</td> <td>    0.261</td> <td>    2.725</td> <td> 0.009</td> <td>    0.186     1.239</td>\n",
        "</tr>\n",
        "<tr>\n",
        "  <th>x1</th>    <td>    1.3453</td> <td>    0.122</td> <td>   11.058</td> <td> 0.000</td> <td>    1.100     1.590</td>\n",
        "</tr>\n",
        "</table>\n",
        "<table class=\"simpletable\">\n",
        "<tr>\n",
        "  <th>Omnibus:</th>       <td> 3.751</td> <th>  Durbin-Watson:     </th> <td>   1.863</td>\n",
        "</tr>\n",
        "<tr>\n",
        "  <th>Prob(Omnibus):</th> <td> 0.153</td> <th>  Jarque-Bera (JB):  </th> <td>   2.726</td>\n",
        "</tr>\n",
        "<tr>\n",
        "  <th>Skew:</th>          <td> 0.557</td> <th>  Prob(JB):          </th> <td>   0.256</td>\n",
        "</tr>\n",
        "<tr>\n",
        "  <th>Kurtosis:</th>      <td> 3.390</td> <th>  Cond. No.          </th> <td>    7.01</td>\n",
        "</tr>\n",
        "</table>"
       ],
       "metadata": {},
       "output_type": "pyout",
       "prompt_number": 29,
       "text": [
        "<class 'statsmodels.iolib.summary.Summary'>\n",
        "\"\"\"\n",
        "                            OLS Regression Results                            \n",
        "==============================================================================\n",
        "Dep. Variable:                      y   R-squared:                       0.731\n",
        "Model:                            OLS   Adj. R-squared:                  0.725\n",
        "Method:                 Least Squares   F-statistic:                     122.3\n",
        "Date:                Mon, 20 Oct 2014   Prob (F-statistic):           2.03e-14\n",
        "Time:                        20:33:24   Log-Likelihood:                -45.831\n",
        "No. Observations:                  47   AIC:                             95.66\n",
        "Df Residuals:                      45   BIC:                             99.36\n",
        "Df Model:                           1                                         \n",
        "==============================================================================\n",
        "                 coef    std err          t      P>|t|      [95.0% Conf. Int.]\n",
        "------------------------------------------------------------------------------\n",
        "const          0.7127      0.261      2.725      0.009         0.186     1.239\n",
        "x1             1.3453      0.122     11.058      0.000         1.100     1.590\n",
        "==============================================================================\n",
        "Omnibus:                        3.751   Durbin-Watson:                   1.863\n",
        "Prob(Omnibus):                  0.153   Jarque-Bera (JB):                2.726\n",
        "Skew:                           0.557   Prob(JB):                        0.256\n",
        "Kurtosis:                       3.390   Cond. No.                         7.01\n",
        "==============================================================================\n",
        "\"\"\""
       ]
      },
      {
       "metadata": {},
       "output_type": "display_data",
       "png": "[encoded data removed]",
       "text": [
        "<matplotlib.figure.Figure at 0xa873a94c>"
       ]
      }
     ],
     "prompt_number": 29
    },
    {
     "cell_type": "markdown",
     "metadata": {},
     "source": [
      "#### Bonus challenge: Change the color and shape of the data points."
     ]
    },
    {
     "cell_type": "code",
     "collapsed": false,
     "input": [
      "r2 = results.rsquared\n",
      "\n",
      "plt.plot(x, y, 'bo')\n",
      "plt.title(\"Price VS Sqft\")\n",
      "xl = np.array([min(x), max(x)])\n",
      "yl = intercept + slope * xl\n",
      "plt.plot(xl, yl, 'g-', markerfacecolor = 'red)\n",
      "results.summary()"
     ],
     "language": "python",
     "metadata": {},
     "outputs": [
      {
       "html": [
        "<table class=\"simpletable\">\n",
        "<caption>OLS Regression Results</caption>\n",
        "<tr>\n",
        "  <th>Dep. Variable:</th>            <td>y</td>        <th>  R-squared:         </th> <td>   0.731</td>\n",
        "</tr>\n",
        "<tr>\n",
        "  <th>Model:</th>                   <td>OLS</td>       <th>  Adj. R-squared:    </th> <td>   0.725</td>\n",
        "</tr>\n",
        "<tr>\n",
        "  <th>Method:</th>             <td>Least Squares</td>  <th>  F-statistic:       </th> <td>   122.3</td>\n",
        "</tr>\n",
        "<tr>\n",
        "  <th>Date:</th>             <td>Mon, 20 Oct 2014</td> <th>  Prob (F-statistic):</th> <td>2.03e-14</td>\n",
        "</tr>\n",
        "<tr>\n",
        "  <th>Time:</th>                 <td>20:38:21</td>     <th>  Log-Likelihood:    </th> <td> -45.831</td>\n",
        "</tr>\n",
        "<tr>\n",
        "  <th>No. Observations:</th>      <td>    47</td>      <th>  AIC:               </th> <td>   95.66</td>\n",
        "</tr>\n",
        "<tr>\n",
        "  <th>Df Residuals:</th>          <td>    45</td>      <th>  BIC:               </th> <td>   99.36</td>\n",
        "</tr>\n",
        "<tr>\n",
        "  <th>Df Model:</th>              <td>     1</td>      <th>                     </th>     <td> </td>   \n",
        "</tr>\n",
        "</table>\n",
        "<table class=\"simpletable\">\n",
        "<tr>\n",
        "    <td></td>       <th>coef</th>     <th>std err</th>      <th>t</th>      <th>P>|t|</th> <th>[95.0% Conf. Int.]</th> \n",
        "</tr>\n",
        "<tr>\n",
        "  <th>const</th> <td>    0.7127</td> <td>    0.261</td> <td>    2.725</td> <td> 0.009</td> <td>    0.186     1.239</td>\n",
        "</tr>\n",
        "<tr>\n",
        "  <th>x1</th>    <td>    1.3453</td> <td>    0.122</td> <td>   11.058</td> <td> 0.000</td> <td>    1.100     1.590</td>\n",
        "</tr>\n",
        "</table>\n",
        "<table class=\"simpletable\">\n",
        "<tr>\n",
        "  <th>Omnibus:</th>       <td> 3.751</td> <th>  Durbin-Watson:     </th> <td>   1.863</td>\n",
        "</tr>\n",
        "<tr>\n",
        "  <th>Prob(Omnibus):</th> <td> 0.153</td> <th>  Jarque-Bera (JB):  </th> <td>   2.726</td>\n",
        "</tr>\n",
        "<tr>\n",
        "  <th>Skew:</th>          <td> 0.557</td> <th>  Prob(JB):          </th> <td>   0.256</td>\n",
        "</tr>\n",
        "<tr>\n",
        "  <th>Kurtosis:</th>      <td> 3.390</td> <th>  Cond. No.          </th> <td>    7.01</td>\n",
        "</tr>\n",
        "</table>"
       ],
       "metadata": {},
       "output_type": "pyout",
       "prompt_number": 38,
       "text": [
        "<class 'statsmodels.iolib.summary.Summary'>\n",
        "\"\"\"\n",
        "                            OLS Regression Results                            \n",
        "==============================================================================\n",
        "Dep. Variable:                      y   R-squared:                       0.731\n",
        "Model:                            OLS   Adj. R-squared:                  0.725\n",
        "Method:                 Least Squares   F-statistic:                     122.3\n",
        "Date:                Mon, 20 Oct 2014   Prob (F-statistic):           2.03e-14\n",
        "Time:                        20:38:21   Log-Likelihood:                -45.831\n",
        "No. Observations:                  47   AIC:                             95.66\n",
        "Df Residuals:                      45   BIC:                             99.36\n",
        "Df Model:                           1                                         \n",
        "==============================================================================\n",
        "                 coef    std err          t      P>|t|      [95.0% Conf. Int.]\n",
        "------------------------------------------------------------------------------\n",
        "const          0.7127      0.261      2.725      0.009         0.186     1.239\n",
        "x1             1.3453      0.122     11.058      0.000         1.100     1.590\n",
        "==============================================================================\n",
        "Omnibus:                        3.751   Durbin-Watson:                   1.863\n",
        "Prob(Omnibus):                  0.153   Jarque-Bera (JB):                2.726\n",
        "Skew:                           0.557   Prob(JB):                        0.256\n",
        "Kurtosis:                       3.390   Cond. No.                         7.01\n",
        "==============================================================================\n",
        "\"\"\""
       ]
      },
      {
       "metadata": {},
       "output_type": "display_data",
       "png": "[encoded data removed]",
       "text": [
        "<matplotlib.figure.Figure at 0xa913f7cc>"
       ]
      }
     ],
     "prompt_number": 38
    },
    {
     "cell_type": "markdown",
     "metadata": {},
     "source": [
      "Confidence Intervals"
     ]
    },
    {
     "cell_type": "code",
     "collapsed": false,
     "input": [
      "from statsmodels.sandbox.regression.predstd import wls_prediction_std\n",
      "\n",
      "prstd, iv_l, iv_u = wls_prediction_std(results)"
     ],
     "language": "python",
     "metadata": {},
     "outputs": [],
     "prompt_number": 11
    },
    {
     "cell_type": "code",
     "collapsed": false,
     "input": [
      "fig, ax = 0,0\n",
      "fig, ax = plt.subplots(figsize=(8,6))\n",
      "\n",
      "ax.plot(x, y, 'o', label=\"data\")\n",
      "ax.plot(x, results.fittedvalues, 'r-', label=\"OLS\")\n",
      "ax.plot(x, iv_u, 'r-')\n",
      "ax.plot(x, iv_l, 'r-')\n",
      "ax.legend(loc='best');"
     ],
     "language": "python",
     "metadata": {},
     "outputs": [
      {
       "metadata": {},
       "output_type": "display_data",
       "png": "[encoded data removed]",
       "text": [
        "<matplotlib.figure.Figure at 0x10a01cc50>"
       ]
      }
     ],
     "prompt_number": 13
    },
    {
     "cell_type": "markdown",
     "metadata": {},
     "source": [
      "## Function of Bedrooms?"
     ]
    },
    {
     "cell_type": "markdown",
     "metadata": {},
     "source": [
      "Run 3:  x = bdrms, data is raw (so graph units are nice)"
     ]
    },
    {
     "cell_type": "code",
     "collapsed": false,
     "input": [
      "x = data['bedrooms'].values\n",
      "y = data['price'].values\n",
      "\n",
      "X = sm.add_constant(x, prepend=True)\n",
      "results = sm.OLS(y, X).fit()\n",
      "intercept, slope = results.params\n",
      "r2 = results.rsquared\n",
      "plt.plot(x, y, 'bo')\n",
      "xl = np.array([min(x), max(x)])\n",
      "yl = intercept + slope * xl\n",
      "plt.plot(xl, yl, 'r-')\n",
      "plt.title(r2)\n",
      "plt.show()"
     ],
     "language": "python",
     "metadata": {},
     "outputs": [
      {
       "metadata": {},
       "output_type": "display_data",
       "png": "[encoded data removed]",
       "text": [
        "<matplotlib.figure.Figure at 0x10ac4a050>"
       ]
      }
     ],
     "prompt_number": 14
    },
    {
     "cell_type": "code",
     "collapsed": false,
     "input": [
      "results.summary()"
     ],
     "language": "python",
     "metadata": {},
     "outputs": [
      {
       "html": [
        "<table class=\"simpletable\">\n",
        "<caption>OLS Regression Results</caption>\n",
        "<tr>\n",
        "  <th>Dep. Variable:</th>            <td>y</td>        <th>  R-squared:         </th> <td>   0.196</td>\n",
        "</tr>\n",
        "<tr>\n",
        "  <th>Model:</th>                   <td>OLS</td>       <th>  Adj. R-squared:    </th> <td>   0.178</td>\n",
        "</tr>\n",
        "<tr>\n",
        "  <th>Method:</th>             <td>Least Squares</td>  <th>  F-statistic:       </th> <td>   10.94</td>\n",
        "</tr>\n",
        "<tr>\n",
        "  <th>Date:</th>             <td>Mon, 20 Oct 2014</td> <th>  Prob (F-statistic):</th>  <td>0.00185</td>\n",
        "</tr>\n",
        "<tr>\n",
        "  <th>Time:</th>                 <td>19:19:57</td>     <th>  Log-Likelihood:    </th> <td> -612.68</td>\n",
        "</tr>\n",
        "<tr>\n",
        "  <th>No. Observations:</th>      <td>    47</td>      <th>  AIC:               </th> <td>   1229.</td>\n",
        "</tr>\n",
        "<tr>\n",
        "  <th>Df Residuals:</th>          <td>    45</td>      <th>  BIC:               </th> <td>   1233.</td>\n",
        "</tr>\n",
        "<tr>\n",
        "  <th>Df Model:</th>              <td>     1</td>      <th>                     </th>     <td> </td>   \n",
        "</tr>\n",
        "</table>\n",
        "<table class=\"simpletable\">\n",
        "<tr>\n",
        "    <td></td>       <th>coef</th>     <th>std err</th>      <th>t</th>      <th>P>|t|</th> <th>[95.0% Conf. Int.]</th> \n",
        "</tr>\n",
        "<tr>\n",
        "  <th>const</th> <td>   1.1e+05</td> <td> 7.16e+04</td> <td>    1.537</td> <td> 0.131</td> <td>-3.41e+04  2.54e+05</td>\n",
        "</tr>\n",
        "<tr>\n",
        "  <th>x1</th>    <td> 7.267e+04</td> <td>  2.2e+04</td> <td>    3.308</td> <td> 0.002</td> <td> 2.84e+04  1.17e+05</td>\n",
        "</tr>\n",
        "</table>\n",
        "<table class=\"simpletable\">\n",
        "<tr>\n",
        "  <th>Omnibus:</th>       <td> 4.709</td> <th>  Durbin-Watson:     </th> <td>   2.232</td>\n",
        "</tr>\n",
        "<tr>\n",
        "  <th>Prob(Omnibus):</th> <td> 0.095</td> <th>  Jarque-Bera (JB):  </th> <td>   4.412</td>\n",
        "</tr>\n",
        "<tr>\n",
        "  <th>Skew:</th>          <td> 0.691</td> <th>  Prob(JB):          </th> <td>   0.110</td>\n",
        "</tr>\n",
        "<tr>\n",
        "  <th>Kurtosis:</th>      <td> 2.413</td> <th>  Cond. No.          </th> <td>    15.4</td>\n",
        "</tr>\n",
        "</table>"
       ],
       "metadata": {},
       "output_type": "pyout",
       "prompt_number": 15,
       "text": [
        "<class 'statsmodels.iolib.summary.Summary'>\n",
        "\"\"\"\n",
        "                            OLS Regression Results                            \n",
        "==============================================================================\n",
        "Dep. Variable:                      y   R-squared:                       0.196\n",
        "Model:                            OLS   Adj. R-squared:                  0.178\n",
        "Method:                 Least Squares   F-statistic:                     10.94\n",
        "Date:                Mon, 20 Oct 2014   Prob (F-statistic):            0.00185\n",
        "Time:                        19:19:57   Log-Likelihood:                -612.68\n",
        "No. Observations:                  47   AIC:                             1229.\n",
        "Df Residuals:                      45   BIC:                             1233.\n",
        "Df Model:                           1                                         \n",
        "==============================================================================\n",
        "                 coef    std err          t      P>|t|      [95.0% Conf. Int.]\n",
        "------------------------------------------------------------------------------\n",
        "const         1.1e+05   7.16e+04      1.537      0.131     -3.41e+04  2.54e+05\n",
        "x1          7.267e+04    2.2e+04      3.308      0.002      2.84e+04  1.17e+05\n",
        "==============================================================================\n",
        "Omnibus:                        4.709   Durbin-Watson:                   2.232\n",
        "Prob(Omnibus):                  0.095   Jarque-Bera (JB):                4.412\n",
        "Skew:                           0.691   Prob(JB):                        0.110\n",
        "Kurtosis:                       2.413   Cond. No.                         15.4\n",
        "==============================================================================\n",
        "\"\"\""
       ]
      }
     ],
     "prompt_number": 15
    },
    {
     "cell_type": "code",
     "collapsed": false,
     "input": [
      "x = data_n['bedrooms'].values\n",
      "y = data_n['price'].values\n",
      "\n",
      "X = sm.add_constant(x, prepend=True)\n",
      "results = sm.OLS(y, X).fit()\n",
      "intercept, slope = results.params\n",
      "r2 = results.rsquared\n",
      "plt.plot(x, y, 'bo')\n",
      "xl = np.array([min(x), max(x)])\n",
      "yl = intercept + slope * xl\n",
      "plt.plot(xl, yl, 'r-')\n",
      "plt.show()"
     ],
     "language": "python",
     "metadata": {},
     "outputs": [
      {
       "metadata": {},
       "output_type": "display_data",
       "png": "[encoded data removed]",
       "text": [
        "<matplotlib.figure.Figure at 0x10ad52a90>"
       ]
      }
     ],
     "prompt_number": 16
    },
    {
     "cell_type": "code",
     "collapsed": false,
     "input": [
      "print results.summary()"
     ],
     "language": "python",
     "metadata": {},
     "outputs": [
      {
       "output_type": "stream",
       "stream": "stdout",
       "text": [
        "                            OLS Regression Results                            \n",
        "==============================================================================\n",
        "Dep. Variable:                      y   R-squared:                       0.196\n",
        "Model:                            OLS   Adj. R-squared:                  0.178\n",
        "Method:                 Least Squares   F-statistic:                     10.94\n",
        "Date:                Mon, 20 Oct 2014   Prob (F-statistic):            0.00185\n",
        "Time:                        19:20:01   Log-Likelihood:                -71.573\n",
        "No. Observations:                  47   AIC:                             147.1\n",
        "Df Residuals:                      45   BIC:                             150.8\n",
        "Df Model:                           1                                         \n",
        "==============================================================================\n",
        "                 coef    std err          t      P>|t|      [95.0% Conf. Int.]\n",
        "------------------------------------------------------------------------------\n",
        "const          1.1003      0.716      1.537      0.131        -0.341     2.542\n",
        "x1             0.7267      0.220      3.308      0.002         0.284     1.169\n",
        "==============================================================================\n",
        "Omnibus:                        4.709   Durbin-Watson:                   2.232\n",
        "Prob(Omnibus):                  0.095   Jarque-Bera (JB):                4.412\n",
        "Skew:                           0.691   Prob(JB):                        0.110\n",
        "Kurtosis:                       2.413   Cond. No.                         15.4\n",
        "==============================================================================\n"
       ]
      }
     ],
     "prompt_number": 17
    },
    {
     "cell_type": "markdown",
     "metadata": {},
     "source": [
      "## Function of Age?"
     ]
    },
    {
     "cell_type": "code",
     "collapsed": false,
     "input": [
      "x = data['age'].values\n",
      "y = data['price'].values\n",
      "\n",
      "X = sm.add_constant(x, prepend=True)\n",
      "results = sm.OLS(y, X).fit()\n",
      "intercept, slope = results.params\n",
      "r2 = results.rsquared\n",
      "plt.plot(x, y, 'bo')\n",
      "xl = np.array([min(x), max(x)])\n",
      "yl = intercept + slope * xl\n",
      "plt.plot(xl, yl, 'r-')\n",
      "plt.title(r2)\n",
      "plt.show()"
     ],
     "language": "python",
     "metadata": {},
     "outputs": [
      {
       "metadata": {},
       "output_type": "display_data",
       "png": "[encoded data removed]",
       "text": [
        "<matplotlib.figure.Figure at 0x111a0ea90>"
       ]
      }
     ],
     "prompt_number": 46
    },
    {
     "cell_type": "code",
     "collapsed": false,
     "input": [
      "print results.summary()"
     ],
     "language": "python",
     "metadata": {},
     "outputs": [
      {
       "output_type": "stream",
       "stream": "stdout",
       "text": [
        "                            OLS Regression Results                            \n",
        "==============================================================================\n",
        "Dep. Variable:                      y   R-squared:                       0.003\n",
        "Model:                            OLS   Adj. R-squared:                 -0.019\n",
        "Method:                 Least Squares   F-statistic:                    0.1210\n",
        "Date:                Mon, 20 Oct 2014   Prob (F-statistic):              0.730\n",
        "Time:                        19:12:26   Log-Likelihood:                -617.73\n",
        "No. Observations:                  47   AIC:                             1239.\n",
        "Df Residuals:                      45   BIC:                             1243.\n",
        "Df Model:                           1                                         \n",
        "==============================================================================\n",
        "                 coef    std err          t      P>|t|      [95.0% Conf. Int.]\n",
        "------------------------------------------------------------------------------\n",
        "const       3.283e+05   3.94e+04      8.341      0.000      2.49e+05  4.08e+05\n",
        "x1           283.1207    813.819      0.348      0.730     -1355.994  1922.236\n",
        "==============================================================================\n",
        "Omnibus:                        8.665   Durbin-Watson:                   2.063\n",
        "Prob(Omnibus):                  0.013   Jarque-Bera (JB):                8.374\n",
        "Skew:                           1.025   Prob(JB):                       0.0152\n",
        "Kurtosis:                       3.270   Cond. No.                         103.\n",
        "==============================================================================\n"
       ]
      }
     ],
     "prompt_number": 47
    },
    {
     "cell_type": "code",
     "collapsed": false,
     "input": [
      "x = data_n['age'].values\n",
      "y = data_n['price'].values \n",
      "\n",
      "X = sm.add_constant(x, prepend=True)\n",
      "results = sm.OLS(y, X).fit()\n",
      "intercept, slope = results.params\n",
      "r2 = results.rsquared\n",
      "plt.plot(x, y, 'bo')\n",
      "xl = np.array([min(x), max(x)])\n",
      "yl = intercept + slope * xl\n",
      "plt.plot(xl, yl, 'r-')\n",
      "plt.show()"
     ],
     "language": "python",
     "metadata": {},
     "outputs": [
      {
       "metadata": {},
       "output_type": "display_data",
       "png": "[encoded data removed]",
       "text": [
        "<matplotlib.figure.Figure at 0x111a0e450>"
       ]
      }
     ],
     "prompt_number": 48
    },
    {
     "cell_type": "code",
     "collapsed": false,
     "input": [
      "print results.summary()"
     ],
     "language": "python",
     "metadata": {},
     "outputs": [
      {
       "output_type": "stream",
       "stream": "stdout",
       "text": [
        "                            OLS Regression Results                            \n",
        "==============================================================================\n",
        "Dep. Variable:                      y   R-squared:                       0.003\n",
        "Model:                            OLS   Adj. R-squared:                 -0.019\n",
        "Method:                 Least Squares   F-statistic:                    0.1210\n",
        "Date:                Mon, 20 Oct 2014   Prob (F-statistic):              0.730\n",
        "Time:                        19:12:30   Log-Likelihood:                -76.624\n",
        "No. Observations:                  47   AIC:                             157.2\n",
        "Df Residuals:                      45   BIC:                             160.9\n",
        "Df Model:                           1                                         \n",
        "==============================================================================\n",
        "                 coef    std err          t      P>|t|      [95.0% Conf. Int.]\n",
        "------------------------------------------------------------------------------\n",
        "const          3.2831      0.394      8.341      0.000         2.490     4.076\n",
        "x1             0.0283      0.081      0.348      0.730        -0.136     0.192\n",
        "==============================================================================\n",
        "Omnibus:                        8.665   Durbin-Watson:                   2.063\n",
        "Prob(Omnibus):                  0.013   Jarque-Bera (JB):                8.374\n",
        "Skew:                           1.025   Prob(JB):                       0.0152\n",
        "Kurtosis:                       3.270   Cond. No.                         10.7\n",
        "==============================================================================\n"
       ]
      }
     ],
     "prompt_number": 49
    },
    {
     "cell_type": "markdown",
     "metadata": {},
     "source": [
      "## Function of multiple variables"
     ]
    },
    {
     "cell_type": "code",
     "collapsed": false,
     "input": [
      "x = data_n[['sqft', 'bedrooms','age']].values\n",
      "y = data_n['price'].values\n",
      "\n",
      "X = sm.add_constant(x, prepend=True)\n",
      "results = sm.OLS(y, X).fit()"
     ],
     "language": "python",
     "metadata": {},
     "outputs": [],
     "prompt_number": 48
    },
    {
     "cell_type": "code",
     "collapsed": false,
     "input": [
      "results.summary()"
     ],
     "language": "python",
     "metadata": {},
     "outputs": [
      {
       "html": [
        "<table class=\"simpletable\">\n",
        "<caption>OLS Regression Results</caption>\n",
        "<tr>\n",
        "  <th>Dep. Variable:</th>            <td>y</td>        <th>  R-squared:         </th> <td>   0.733</td>\n",
        "</tr>\n",
        "<tr>\n",
        "  <th>Model:</th>                   <td>OLS</td>       <th>  Adj. R-squared:    </th> <td>   0.715</td>\n",
        "</tr>\n",
        "<tr>\n",
        "  <th>Method:</th>             <td>Least Squares</td>  <th>  F-statistic:       </th> <td>   39.38</td>\n",
        "</tr>\n",
        "<tr>\n",
        "  <th>Date:</th>             <td>Mon, 20 Oct 2014</td> <th>  Prob (F-statistic):</th> <td>2.12e-12</td>\n",
        "</tr>\n",
        "<tr>\n",
        "  <th>Time:</th>                 <td>21:12:54</td>     <th>  Log-Likelihood:    </th> <td> -45.641</td>\n",
        "</tr>\n",
        "<tr>\n",
        "  <th>No. Observations:</th>      <td>    47</td>      <th>  AIC:               </th> <td>   99.28</td>\n",
        "</tr>\n",
        "<tr>\n",
        "  <th>Df Residuals:</th>          <td>    43</td>      <th>  BIC:               </th> <td>   106.7</td>\n",
        "</tr>\n",
        "<tr>\n",
        "  <th>Df Model:</th>              <td>     3</td>      <th>                     </th>     <td> </td>   \n",
        "</tr>\n",
        "</table>\n",
        "<table class=\"simpletable\">\n",
        "<tr>\n",
        "    <td></td>       <th>coef</th>     <th>std err</th>      <th>t</th>      <th>P>|t|</th> <th>[95.0% Conf. Int.]</th> \n",
        "</tr>\n",
        "<tr>\n",
        "  <th>const</th> <td>    0.9245</td> <td>    0.449</td> <td>    2.060</td> <td> 0.045</td> <td>    0.019     1.830</td>\n",
        "</tr>\n",
        "<tr>\n",
        "  <th>x1</th>    <td>    1.3933</td> <td>    0.150</td> <td>    9.305</td> <td> 0.000</td> <td>    1.091     1.695</td>\n",
        "</tr>\n",
        "<tr>\n",
        "  <th>x2</th>    <td>   -0.0862</td> <td>    0.156</td> <td>   -0.551</td> <td> 0.584</td> <td>   -0.402     0.229</td>\n",
        "</tr>\n",
        "<tr>\n",
        "  <th>x3</th>    <td>   -0.0081</td> <td>    0.043</td> <td>   -0.188</td> <td> 0.852</td> <td>   -0.095     0.079</td>\n",
        "</tr>\n",
        "</table>\n",
        "<table class=\"simpletable\">\n",
        "<tr>\n",
        "  <th>Omnibus:</th>       <td> 3.841</td> <th>  Durbin-Watson:     </th> <td>   1.819</td>\n",
        "</tr>\n",
        "<tr>\n",
        "  <th>Prob(Omnibus):</th> <td> 0.147</td> <th>  Jarque-Bera (JB):  </th> <td>   2.771</td>\n",
        "</tr>\n",
        "<tr>\n",
        "  <th>Skew:</th>          <td> 0.552</td> <th>  Prob(JB):          </th> <td>   0.250</td>\n",
        "</tr>\n",
        "<tr>\n",
        "  <th>Kurtosis:</th>      <td> 3.444</td> <th>  Cond. No.          </th> <td>    28.9</td>\n",
        "</tr>\n",
        "</table>"
       ],
       "metadata": {},
       "output_type": "pyout",
       "prompt_number": 49,
       "text": [
        "<class 'statsmodels.iolib.summary.Summary'>\n",
        "\"\"\"\n",
        "                            OLS Regression Results                            \n",
        "==============================================================================\n",
        "Dep. Variable:                      y   R-squared:                       0.733\n",
        "Model:                            OLS   Adj. R-squared:                  0.715\n",
        "Method:                 Least Squares   F-statistic:                     39.38\n",
        "Date:                Mon, 20 Oct 2014   Prob (F-statistic):           2.12e-12\n",
        "Time:                        21:12:54   Log-Likelihood:                -45.641\n",
        "No. Observations:                  47   AIC:                             99.28\n",
        "Df Residuals:                      43   BIC:                             106.7\n",
        "Df Model:                           3                                         \n",
        "==============================================================================\n",
        "                 coef    std err          t      P>|t|      [95.0% Conf. Int.]\n",
        "------------------------------------------------------------------------------\n",
        "const          0.9245      0.449      2.060      0.045         0.019     1.830\n",
        "x1             1.3933      0.150      9.305      0.000         1.091     1.695\n",
        "x2            -0.0862      0.156     -0.551      0.584        -0.402     0.229\n",
        "x3            -0.0081      0.043     -0.188      0.852        -0.095     0.079\n",
        "==============================================================================\n",
        "Omnibus:                        3.841   Durbin-Watson:                   1.819\n",
        "Prob(Omnibus):                  0.147   Jarque-Bera (JB):                2.771\n",
        "Skew:                           0.552   Prob(JB):                        0.250\n",
        "Kurtosis:                       3.444   Cond. No.                         28.9\n",
        "==============================================================================\n",
        "\"\"\""
       ]
      }
     ],
     "prompt_number": 49
    },
    {
     "cell_type": "markdown",
     "metadata": {},
     "source": [
      "## 3D Plot"
     ]
    },
    {
     "cell_type": "code",
     "collapsed": false,
     "input": [
      "# 3d plot\n",
      "from mpl_toolkits.mplot3d import Axes3D\n",
      "\n",
      "x = data[['sqft', 'bedrooms','age']].values\n",
      "y = data['price'].values\n",
      "\n",
      "fignum = 1\n",
      "fig = plt.figure(fignum, figsize=(8, 6))\n",
      "plt.clf()\n",
      "ax = Axes3D(fig, rect=[0, 0, .95, 1], elev=38, azim=124)\n",
      "\n",
      "plt.cla()\n",
      "X = sm.add_constant(x, prepend=True)\n",
      "results = sm.OLS(y, X).fit()\n",
      "\n",
      "# est.fit(X)\n",
      "# ax.scatter(X[:, 0], X[:, 1], X[:, 3], c=labels.astype(np.float))\n",
      "ax.scatter(X[:, 1], X[:, 0], X[:, 3])\n",
      "\n",
      "ax.w_xaxis.set_ticklabels([])\n",
      "ax.w_yaxis.set_ticklabels([])\n",
      "ax.w_zaxis.set_ticklabels([])\n",
      "ax.set_ylabel('Sqft')\n",
      "ax.set_xlabel('Bedrooms')\n",
      "ax.set_zlabel('Price')\n",
      "plt.show()"
     ],
     "language": "python",
     "metadata": {},
     "outputs": [
      {
       "metadata": {},
       "output_type": "display_data",
       "png": "[encoded data removed]",
       "text": [
        "<matplotlib.figure.Figure at 0xa91290ec>"
       ]
      }
     ],
     "prompt_number": 50
    },
    {
     "cell_type": "markdown",
     "metadata": {},
     "source": [
      "## Just sqft & bedrooms"
     ]
    },
    {
     "cell_type": "code",
     "collapsed": false,
     "input": [
      "x = data_n[['sqft', 'bedrooms']].values\n",
      "y = data_n['price'].values\n",
      "X = sm.add_constant(x, prepend=True)\n",
      "results = sm.OLS(y, X).fit()\n",
      "results.summary()"
     ],
     "language": "python",
     "metadata": {},
     "outputs": [
      {
       "html": [
        "<table class=\"simpletable\">\n",
        "<caption>OLS Regression Results</caption>\n",
        "<tr>\n",
        "  <th>Dep. Variable:</th>            <td>y</td>        <th>  R-squared:         </th> <td>   0.733</td>\n",
        "</tr>\n",
        "<tr>\n",
        "  <th>Model:</th>                   <td>OLS</td>       <th>  Adj. R-squared:    </th> <td>   0.721</td>\n",
        "</tr>\n",
        "<tr>\n",
        "  <th>Method:</th>             <td>Least Squares</td>  <th>  F-statistic:       </th> <td>   60.38</td>\n",
        "</tr>\n",
        "<tr>\n",
        "  <th>Date:</th>             <td>Mon, 20 Oct 2014</td> <th>  Prob (F-statistic):</th> <td>2.43e-13</td>\n",
        "</tr>\n",
        "<tr>\n",
        "  <th>Time:</th>                 <td>21:12:55</td>     <th>  Log-Likelihood:    </th> <td> -45.660</td>\n",
        "</tr>\n",
        "<tr>\n",
        "  <th>No. Observations:</th>      <td>    47</td>      <th>  AIC:               </th> <td>   97.32</td>\n",
        "</tr>\n",
        "<tr>\n",
        "  <th>Df Residuals:</th>          <td>    44</td>      <th>  BIC:               </th> <td>   102.9</td>\n",
        "</tr>\n",
        "<tr>\n",
        "  <th>Df Model:</th>              <td>     2</td>      <th>                     </th>     <td> </td>   \n",
        "</tr>\n",
        "</table>\n",
        "<table class=\"simpletable\">\n",
        "<tr>\n",
        "    <td></td>       <th>coef</th>     <th>std err</th>      <th>t</th>      <th>P>|t|</th> <th>[95.0% Conf. Int.]</th> \n",
        "</tr>\n",
        "<tr>\n",
        "  <th>const</th> <td>    0.8960</td> <td>    0.418</td> <td>    2.145</td> <td> 0.037</td> <td>    0.054     1.738</td>\n",
        "</tr>\n",
        "<tr>\n",
        "  <th>x1</th>    <td>    1.3921</td> <td>    0.148</td> <td>    9.409</td> <td> 0.000</td> <td>    1.094     1.690</td>\n",
        "</tr>\n",
        "<tr>\n",
        "  <th>x2</th>    <td>   -0.0874</td> <td>    0.155</td> <td>   -0.566</td> <td> 0.575</td> <td>   -0.399     0.224</td>\n",
        "</tr>\n",
        "</table>\n",
        "<table class=\"simpletable\">\n",
        "<tr>\n",
        "  <th>Omnibus:</th>       <td> 4.083</td> <th>  Durbin-Watson:     </th> <td>   1.826</td>\n",
        "</tr>\n",
        "<tr>\n",
        "  <th>Prob(Omnibus):</th> <td> 0.130</td> <th>  Jarque-Bera (JB):  </th> <td>   2.977</td>\n",
        "</tr>\n",
        "<tr>\n",
        "  <th>Skew:</th>          <td> 0.567</td> <th>  Prob(JB):          </th> <td>   0.226</td>\n",
        "</tr>\n",
        "<tr>\n",
        "  <th>Kurtosis:</th>      <td> 3.484</td> <th>  Cond. No.          </th> <td>    18.0</td>\n",
        "</tr>\n",
        "</table>"
       ],
       "metadata": {},
       "output_type": "pyout",
       "prompt_number": 51,
       "text": [
        "<class 'statsmodels.iolib.summary.Summary'>\n",
        "\"\"\"\n",
        "                            OLS Regression Results                            \n",
        "==============================================================================\n",
        "Dep. Variable:                      y   R-squared:                       0.733\n",
        "Model:                            OLS   Adj. R-squared:                  0.721\n",
        "Method:                 Least Squares   F-statistic:                     60.38\n",
        "Date:                Mon, 20 Oct 2014   Prob (F-statistic):           2.43e-13\n",
        "Time:                        21:12:55   Log-Likelihood:                -45.660\n",
        "No. Observations:                  47   AIC:                             97.32\n",
        "Df Residuals:                      44   BIC:                             102.9\n",
        "Df Model:                           2                                         \n",
        "==============================================================================\n",
        "                 coef    std err          t      P>|t|      [95.0% Conf. Int.]\n",
        "------------------------------------------------------------------------------\n",
        "const          0.8960      0.418      2.145      0.037         0.054     1.738\n",
        "x1             1.3921      0.148      9.409      0.000         1.094     1.690\n",
        "x2            -0.0874      0.155     -0.566      0.575        -0.399     0.224\n",
        "==============================================================================\n",
        "Omnibus:                        4.083   Durbin-Watson:                   1.826\n",
        "Prob(Omnibus):                  0.130   Jarque-Bera (JB):                2.977\n",
        "Skew:                           0.567   Prob(JB):                        0.226\n",
        "Kurtosis:                       3.484   Cond. No.                         18.0\n",
        "==============================================================================\n",
        "\"\"\""
       ]
      }
     ],
     "prompt_number": 51
    },
    {
     "cell_type": "markdown",
     "metadata": {},
     "source": [
      "## The formula API"
     ]
    },
    {
     "cell_type": "code",
     "collapsed": false,
     "input": [
      "import statsmodels.formula.api as smf"
     ],
     "language": "python",
     "metadata": {},
     "outputs": [],
     "prompt_number": 52
    },
    {
     "cell_type": "code",
     "collapsed": false,
     "input": [
      "results = smf.ols('price ~ sqft + bedrooms', data=data).fit()"
     ],
     "language": "python",
     "metadata": {},
     "outputs": [],
     "prompt_number": 53
    },
    {
     "cell_type": "code",
     "collapsed": false,
     "input": [
      "results.summary()"
     ],
     "language": "python",
     "metadata": {},
     "outputs": [
      {
       "html": [
        "<table class=\"simpletable\">\n",
        "<caption>OLS Regression Results</caption>\n",
        "<tr>\n",
        "  <th>Dep. Variable:</th>          <td>price</td>      <th>  R-squared:         </th> <td>   0.733</td>\n",
        "</tr>\n",
        "<tr>\n",
        "  <th>Model:</th>                   <td>OLS</td>       <th>  Adj. R-squared:    </th> <td>   0.721</td>\n",
        "</tr>\n",
        "<tr>\n",
        "  <th>Method:</th>             <td>Least Squares</td>  <th>  F-statistic:       </th> <td>   60.38</td>\n",
        "</tr>\n",
        "<tr>\n",
        "  <th>Date:</th>             <td>Mon, 20 Oct 2014</td> <th>  Prob (F-statistic):</th> <td>2.43e-13</td>\n",
        "</tr>\n",
        "<tr>\n",
        "  <th>Time:</th>                 <td>21:12:58</td>     <th>  Log-Likelihood:    </th> <td> -586.77</td>\n",
        "</tr>\n",
        "<tr>\n",
        "  <th>No. Observations:</th>      <td>    47</td>      <th>  AIC:               </th> <td>   1180.</td>\n",
        "</tr>\n",
        "<tr>\n",
        "  <th>Df Residuals:</th>          <td>    44</td>      <th>  BIC:               </th> <td>   1185.</td>\n",
        "</tr>\n",
        "<tr>\n",
        "  <th>Df Model:</th>              <td>     2</td>      <th>                     </th>     <td> </td>   \n",
        "</tr>\n",
        "</table>\n",
        "<table class=\"simpletable\">\n",
        "<tr>\n",
        "      <td></td>         <th>coef</th>     <th>std err</th>      <th>t</th>      <th>P>|t|</th> <th>[95.0% Conf. Int.]</th> \n",
        "</tr>\n",
        "<tr>\n",
        "  <th>Intercept</th> <td>  8.96e+04</td> <td> 4.18e+04</td> <td>    2.145</td> <td> 0.037</td> <td> 5421.208  1.74e+05</td>\n",
        "</tr>\n",
        "<tr>\n",
        "  <th>sqft</th>      <td>  139.2107</td> <td>   14.795</td> <td>    9.409</td> <td> 0.000</td> <td>  109.393   169.028</td>\n",
        "</tr>\n",
        "<tr>\n",
        "  <th>bedrooms</th>  <td>-8738.0191</td> <td> 1.55e+04</td> <td>   -0.566</td> <td> 0.575</td> <td>-3.99e+04  2.24e+04</td>\n",
        "</tr>\n",
        "</table>\n",
        "<table class=\"simpletable\">\n",
        "<tr>\n",
        "  <th>Omnibus:</th>       <td> 4.083</td> <th>  Durbin-Watson:     </th> <td>   1.826</td>\n",
        "</tr>\n",
        "<tr>\n",
        "  <th>Prob(Omnibus):</th> <td> 0.130</td> <th>  Jarque-Bera (JB):  </th> <td>   2.977</td>\n",
        "</tr>\n",
        "<tr>\n",
        "  <th>Skew:</th>          <td> 0.567</td> <th>  Prob(JB):          </th> <td>   0.226</td>\n",
        "</tr>\n",
        "<tr>\n",
        "  <th>Kurtosis:</th>      <td> 3.484</td> <th>  Cond. No.          </th> <td>9.71e+03</td>\n",
        "</tr>\n",
        "</table>"
       ],
       "metadata": {},
       "output_type": "pyout",
       "prompt_number": 54,
       "text": [
        "<class 'statsmodels.iolib.summary.Summary'>\n",
        "\"\"\"\n",
        "                            OLS Regression Results                            \n",
        "==============================================================================\n",
        "Dep. Variable:                  price   R-squared:                       0.733\n",
        "Model:                            OLS   Adj. R-squared:                  0.721\n",
        "Method:                 Least Squares   F-statistic:                     60.38\n",
        "Date:                Mon, 20 Oct 2014   Prob (F-statistic):           2.43e-13\n",
        "Time:                        21:12:58   Log-Likelihood:                -586.77\n",
        "No. Observations:                  47   AIC:                             1180.\n",
        "Df Residuals:                      44   BIC:                             1185.\n",
        "Df Model:                           2                                         \n",
        "==============================================================================\n",
        "                 coef    std err          t      P>|t|      [95.0% Conf. Int.]\n",
        "------------------------------------------------------------------------------\n",
        "Intercept    8.96e+04   4.18e+04      2.145      0.037      5421.208  1.74e+05\n",
        "sqft         139.2107     14.795      9.409      0.000       109.393   169.028\n",
        "bedrooms   -8738.0191   1.55e+04     -0.566      0.575     -3.99e+04  2.24e+04\n",
        "==============================================================================\n",
        "Omnibus:                        4.083   Durbin-Watson:                   1.826\n",
        "Prob(Omnibus):                  0.130   Jarque-Bera (JB):                2.977\n",
        "Skew:                           0.567   Prob(JB):                        0.226\n",
        "Kurtosis:                       3.484   Cond. No.                     9.71e+03\n",
        "==============================================================================\n",
        "\n",
        "Warnings:\n",
        "[1] The condition number is large, 9.71e+03. This might indicate that there are\n",
        "strong multicollinearity or other numerical problems.\n",
        "\"\"\""
       ]
      }
     ],
     "prompt_number": 54
    },
    {
     "cell_type": "markdown",
     "metadata": {},
     "source": [
      "## Nonlinear Fitting"
     ]
    },
    {
     "cell_type": "markdown",
     "metadata": {},
     "source": [
      "Let's generate points with an arbitrary nonlinear function"
     ]
    },
    {
     "cell_type": "markdown",
     "metadata": {},
     "source": [
      "$y = \\frac{1}{2} x + \\frac{1}{2} \\sin{x} - \\frac{1}{50} (x-5)^2 + 5$"
     ]
    },
    {
     "cell_type": "code",
     "collapsed": false,
     "input": [
      "# start with some fake data\n",
      "nsample = 50\n",
      "sig = 0.5\n",
      "# generate linear space\n",
      "x = np.linspace(0, 20, nsample)\n",
      "# invent function\n",
      "X = np.c_[x, np.sin(x), (x - 5)**2, np.ones(nsample)]\n",
      "# invent coefficients\n",
      "beta = [0.5, 0.5, -0.02, 5.]\n",
      "# generate |\n",
      "y_true = np.dot(X, beta)\n",
      "# add noise\n",
      "y = y_true + sig * np.random.normal(size=nsample)"
     ],
     "language": "python",
     "metadata": {},
     "outputs": [],
     "prompt_number": 77
    },
    {
     "cell_type": "code",
     "collapsed": false,
     "input": [],
     "language": "python",
     "metadata": {},
     "outputs": [],
     "prompt_number": 77
    },
    {
     "cell_type": "markdown",
     "metadata": {},
     "source": [
      "quick look at the data"
     ]
    },
    {
     "cell_type": "code",
     "collapsed": false,
     "input": [
      "# nice! ipython shortcuts!\n",
      "plt.plot(x, y_true)\n",
      "plt.scatter(x, y, c='g')\n",
      "plt.show()"
     ],
     "language": "python",
     "metadata": {},
     "outputs": [
      {
       "metadata": {},
       "output_type": "display_data",
       "png": "[encoded data removed]",
       "text": [
        "<matplotlib.figure.Figure at 0xa8f36dac>"
       ]
      }
     ],
     "prompt_number": 78
    },
    {
     "cell_type": "code",
     "collapsed": false,
     "input": [
      "res = sm.OLS(y, X).fit()\n",
      "res.summary()"
     ],
     "language": "python",
     "metadata": {},
     "outputs": [
      {
       "html": [
        "<table class=\"simpletable\">\n",
        "<caption>OLS Regression Results</caption>\n",
        "<tr>\n",
        "  <th>Dep. Variable:</th>            <td>y</td>        <th>  R-squared:         </th> <td>   0.951</td>\n",
        "</tr>\n",
        "<tr>\n",
        "  <th>Model:</th>                   <td>OLS</td>       <th>  Adj. R-squared:    </th> <td>   0.947</td>\n",
        "</tr>\n",
        "<tr>\n",
        "  <th>Method:</th>             <td>Least Squares</td>  <th>  F-statistic:       </th> <td>   294.6</td>\n",
        "</tr>\n",
        "<tr>\n",
        "  <th>Date:</th>             <td>Mon, 20 Oct 2014</td> <th>  Prob (F-statistic):</th> <td>5.00e-30</td>\n",
        "</tr>\n",
        "<tr>\n",
        "  <th>Time:</th>                 <td>21:39:59</td>     <th>  Log-Likelihood:    </th> <td> -29.942</td>\n",
        "</tr>\n",
        "<tr>\n",
        "  <th>No. Observations:</th>      <td>    50</td>      <th>  AIC:               </th> <td>   67.88</td>\n",
        "</tr>\n",
        "<tr>\n",
        "  <th>Df Residuals:</th>          <td>    46</td>      <th>  BIC:               </th> <td>   75.53</td>\n",
        "</tr>\n",
        "<tr>\n",
        "  <th>Df Model:</th>              <td>     3</td>      <th>                     </th>     <td> </td>   \n",
        "</tr>\n",
        "</table>\n",
        "<table class=\"simpletable\">\n",
        "<tr>\n",
        "    <td></td>       <th>coef</th>     <th>std err</th>      <th>t</th>      <th>P>|t|</th> <th>[95.0% Conf. Int.]</th> \n",
        "</tr>\n",
        "<tr>\n",
        "  <th>x1</th>    <td>    0.5211</td> <td>    0.024</td> <td>   21.593</td> <td> 0.000</td> <td>    0.473     0.570</td>\n",
        "</tr>\n",
        "<tr>\n",
        "  <th>x2</th>    <td>    0.5978</td> <td>    0.095</td> <td>    6.301</td> <td> 0.000</td> <td>    0.407     0.789</td>\n",
        "</tr>\n",
        "<tr>\n",
        "  <th>x3</th>    <td>   -0.0207</td> <td>    0.002</td> <td>   -9.762</td> <td> 0.000</td> <td>   -0.025    -0.016</td>\n",
        "</tr>\n",
        "<tr>\n",
        "  <th>const</th> <td>    4.7933</td> <td>    0.156</td> <td>   30.630</td> <td> 0.000</td> <td>    4.478     5.108</td>\n",
        "</tr>\n",
        "</table>\n",
        "<table class=\"simpletable\">\n",
        "<tr>\n",
        "  <th>Omnibus:</th>       <td> 2.426</td> <th>  Durbin-Watson:     </th> <td>   1.913</td>\n",
        "</tr>\n",
        "<tr>\n",
        "  <th>Prob(Omnibus):</th> <td> 0.297</td> <th>  Jarque-Bera (JB):  </th> <td>   1.550</td>\n",
        "</tr>\n",
        "<tr>\n",
        "  <th>Skew:</th>          <td> 0.388</td> <th>  Prob(JB):          </th> <td>   0.461</td>\n",
        "</tr>\n",
        "<tr>\n",
        "  <th>Kurtosis:</th>      <td> 3.377</td> <th>  Cond. No.          </th> <td>    221.</td>\n",
        "</tr>\n",
        "</table>"
       ],
       "metadata": {},
       "output_type": "pyout",
       "prompt_number": 79,
       "text": [
        "<class 'statsmodels.iolib.summary.Summary'>\n",
        "\"\"\"\n",
        "                            OLS Regression Results                            \n",
        "==============================================================================\n",
        "Dep. Variable:                      y   R-squared:                       0.951\n",
        "Model:                            OLS   Adj. R-squared:                  0.947\n",
        "Method:                 Least Squares   F-statistic:                     294.6\n",
        "Date:                Mon, 20 Oct 2014   Prob (F-statistic):           5.00e-30\n",
        "Time:                        21:39:59   Log-Likelihood:                -29.942\n",
        "No. Observations:                  50   AIC:                             67.88\n",
        "Df Residuals:                      46   BIC:                             75.53\n",
        "Df Model:                           3                                         \n",
        "==============================================================================\n",
        "                 coef    std err          t      P>|t|      [95.0% Conf. Int.]\n",
        "------------------------------------------------------------------------------\n",
        "x1             0.5211      0.024     21.593      0.000         0.473     0.570\n",
        "x2             0.5978      0.095      6.301      0.000         0.407     0.789\n",
        "x3            -0.0207      0.002     -9.762      0.000        -0.025    -0.016\n",
        "const          4.7933      0.156     30.630      0.000         4.478     5.108\n",
        "==============================================================================\n",
        "Omnibus:                        2.426   Durbin-Watson:                   1.913\n",
        "Prob(Omnibus):                  0.297   Jarque-Bera (JB):                1.550\n",
        "Skew:                           0.388   Prob(JB):                        0.461\n",
        "Kurtosis:                       3.377   Cond. No.                         221.\n",
        "==============================================================================\n",
        "\"\"\""
       ]
      }
     ],
     "prompt_number": 79
    },
    {
     "cell_type": "markdown",
     "metadata": {},
     "source": [
      "I can access the results attributes"
     ]
    },
    {
     "cell_type": "code",
     "collapsed": false,
     "input": [
      "print res.params"
     ],
     "language": "python",
     "metadata": {},
     "outputs": [
      {
       "output_type": "stream",
       "stream": "stdout",
       "text": [
        "[ 0.5211479   0.59783426 -0.02068649  4.7933135 ]\n"
       ]
      }
     ],
     "prompt_number": 80
    },
    {
     "cell_type": "code",
     "collapsed": false,
     "input": [
      "print \n",
      "res.bse"
     ],
     "language": "python",
     "metadata": {},
     "outputs": [
      {
       "output_type": "stream",
       "stream": "stdout",
       "text": [
        "\n"
       ]
      },
      {
       "metadata": {},
       "output_type": "pyout",
       "prompt_number": 81,
       "text": [
        "array([ 0.02413497,  0.0948774 ,  0.00211907,  0.15649205])"
       ]
      }
     ],
     "prompt_number": 81
    },
    {
     "cell_type": "code",
     "collapsed": false,
     "input": [
      "print res.predict()"
     ],
     "language": "python",
     "metadata": {},
     "outputs": [
      {
       "output_type": "stream",
       "stream": "stdout",
       "text": [
        "[  4.27615133   4.80714794   5.29226506   5.69892124   6.00629351\n",
        "   6.20873853   6.31671978   6.3550884    6.35900029   6.36814003\n",
        "   6.42020084   6.54469169   6.75808909   7.06112998   7.4386907\n",
        "   7.86227177   8.29468024   8.69614041   9.03082886   9.27276015\n",
        "   9.41005611   9.44689745   9.40283683   9.30958645   9.20580779\n",
        "   9.13075969   9.11784817   9.18913797   9.35172733   9.59658181\n",
        "   9.9000186   10.22759755  10.53977957  10.79842281  10.97304925\n",
        "  11.04585217  11.01462169  10.89310792  10.70876181  10.49822505\n",
        "  10.30130992  10.1544583   10.08475431  10.1054745   10.21390657\n",
        "  10.39179494  10.60834011  10.82525897  11.00307456  11.10760203]\n"
       ]
      }
     ],
     "prompt_number": 82
    },
    {
     "cell_type": "markdown",
     "metadata": {},
     "source": [
      "Let's look at the fit!"
     ]
    },
    {
     "cell_type": "code",
     "collapsed": false,
     "input": [
      "plt.figure(figsize = (10,10));\n",
      "plt.plot(x, y, 'o', x, y_true, 'b-');\n",
      "prstd, iv_l, iv_u = wls_prediction_std(res);\n",
      "plt.plot(x, res.fittedvalues, 'r--.');\n",
      "plt.plot(x, iv_u, 'r--');\n",
      "plt.plot(x, iv_l, 'r--');\n",
      "plt.title('blue: true,   red: OLS');"
     ],
     "language": "python",
     "metadata": {},
     "outputs": [
      {
       "ename": "NameError",
       "evalue": "name 'wls_prediction_std' is not defined",
       "output_type": "pyerr",
       "traceback": [
        "\u001b[1;31m---------------------------------------------------------------------------\u001b[0m\n\u001b[1;31mNameError\u001b[0m                                 Traceback (most recent call last)",
        "\u001b[1;32m<ipython-input-83-f0e4af76003b>\u001b[0m in \u001b[0;36m<module>\u001b[1;34m()\u001b[0m\n\u001b[0;32m      1\u001b[0m \u001b[0mplt\u001b[0m\u001b[1;33m.\u001b[0m\u001b[0mfigure\u001b[0m\u001b[1;33m(\u001b[0m\u001b[0mfigsize\u001b[0m \u001b[1;33m=\u001b[0m \u001b[1;33m(\u001b[0m\u001b[1;36m10\u001b[0m\u001b[1;33m,\u001b[0m\u001b[1;36m10\u001b[0m\u001b[1;33m)\u001b[0m\u001b[1;33m)\u001b[0m\u001b[1;33m;\u001b[0m\u001b[1;33m\u001b[0m\u001b[0m\n\u001b[0;32m      2\u001b[0m \u001b[0mplt\u001b[0m\u001b[1;33m.\u001b[0m\u001b[0mplot\u001b[0m\u001b[1;33m(\u001b[0m\u001b[0mx\u001b[0m\u001b[1;33m,\u001b[0m \u001b[0my\u001b[0m\u001b[1;33m,\u001b[0m \u001b[1;34m'o'\u001b[0m\u001b[1;33m,\u001b[0m \u001b[0mx\u001b[0m\u001b[1;33m,\u001b[0m \u001b[0my_true\u001b[0m\u001b[1;33m,\u001b[0m \u001b[1;34m'b-'\u001b[0m\u001b[1;33m)\u001b[0m\u001b[1;33m;\u001b[0m\u001b[1;33m\u001b[0m\u001b[0m\n\u001b[1;32m----> 3\u001b[1;33m \u001b[0mprstd\u001b[0m\u001b[1;33m,\u001b[0m \u001b[0miv_l\u001b[0m\u001b[1;33m,\u001b[0m \u001b[0miv_u\u001b[0m \u001b[1;33m=\u001b[0m \u001b[0mwls_prediction_std\u001b[0m\u001b[1;33m(\u001b[0m\u001b[0mres\u001b[0m\u001b[1;33m)\u001b[0m\u001b[1;33m;\u001b[0m\u001b[1;33m\u001b[0m\u001b[0m\n\u001b[0m\u001b[0;32m      4\u001b[0m \u001b[0mplt\u001b[0m\u001b[1;33m.\u001b[0m\u001b[0mplot\u001b[0m\u001b[1;33m(\u001b[0m\u001b[0mx\u001b[0m\u001b[1;33m,\u001b[0m \u001b[0mres\u001b[0m\u001b[1;33m.\u001b[0m\u001b[0mfittedvalues\u001b[0m\u001b[1;33m,\u001b[0m \u001b[1;34m'r--.'\u001b[0m\u001b[1;33m)\u001b[0m\u001b[1;33m;\u001b[0m\u001b[1;33m\u001b[0m\u001b[0m\n\u001b[0;32m      5\u001b[0m \u001b[0mplt\u001b[0m\u001b[1;33m.\u001b[0m\u001b[0mplot\u001b[0m\u001b[1;33m(\u001b[0m\u001b[0mx\u001b[0m\u001b[1;33m,\u001b[0m \u001b[0miv_u\u001b[0m\u001b[1;33m,\u001b[0m \u001b[1;34m'r--'\u001b[0m\u001b[1;33m)\u001b[0m\u001b[1;33m;\u001b[0m\u001b[1;33m\u001b[0m\u001b[0m\n",
        "\u001b[1;31mNameError\u001b[0m: name 'wls_prediction_std' is not defined"
       ]
      },
      {
       "metadata": {},
       "output_type": "display_data",
       "png": "[encoded data removed]",
       "text": [
        "<matplotlib.figure.Figure at 0xa91cbb2c>"
       ]
      }
     ],
     "prompt_number": 83
    },
    {
     "cell_type": "markdown",
     "metadata": {},
     "source": [
      "## Overfitting"
     ]
    },
    {
     "cell_type": "code",
     "collapsed": false,
     "input": [
      "x = np.array([-0.99768, -0.69574, -0.40373, -0.10236, 0.22024, 0.47742, 0.82229])\n",
      "y = np.array([2.0885, 1.1646, 0.3287, 0.46013, 0.44808, 0.10013, -0.32952])\n",
      "\n",
      "fig, ax = plt.subplots(figsize = (8,6))\n",
      "ax.plot(x, y, 'o', markersize=12)\n",
      "plt.xlim((-1.3, 1.3))"
     ],
     "language": "python",
     "metadata": {},
     "outputs": [
      {
       "metadata": {},
       "output_type": "pyout",
       "prompt_number": 84,
       "text": [
        "(-1.3, 1.3)"
       ]
      },
      {
       "metadata": {},
       "output_type": "display_data",
       "png": "[encoded data removed]",
       "text": [
        "<matplotlib.figure.Figure at 0xa931490c>"
       ]
      }
     ],
     "prompt_number": 84
    },
    {
     "cell_type": "code",
     "collapsed": false,
     "input": [
      "X = np.c_[x, np.ones(len(x))]\n",
      "# X = np.vander(x, 1+1)"
     ],
     "language": "python",
     "metadata": {},
     "outputs": [],
     "prompt_number": 85
    },
    {
     "cell_type": "code",
     "collapsed": false,
     "input": [
      "res = sm.OLS(y, X).fit()\n",
      "res.summary()"
     ],
     "language": "python",
     "metadata": {},
     "outputs": [
      {
       "html": [
        "<table class=\"simpletable\">\n",
        "<caption>OLS Regression Results</caption>\n",
        "<tr>\n",
        "  <th>Dep. Variable:</th>            <td>y</td>        <th>  R-squared:         </th> <td>   0.811</td>\n",
        "</tr>\n",
        "<tr>\n",
        "  <th>Model:</th>                   <td>OLS</td>       <th>  Adj. R-squared:    </th> <td>   0.773</td>\n",
        "</tr>\n",
        "<tr>\n",
        "  <th>Method:</th>             <td>Least Squares</td>  <th>  F-statistic:       </th> <td>   21.48</td>\n",
        "</tr>\n",
        "<tr>\n",
        "  <th>Date:</th>             <td>Mon, 20 Oct 2014</td> <th>  Prob (F-statistic):</th>  <td>0.00566</td>\n",
        "</tr>\n",
        "<tr>\n",
        "  <th>Time:</th>                 <td>21:40:11</td>     <th>  Log-Likelihood:    </th> <td> -1.9268</td>\n",
        "</tr>\n",
        "<tr>\n",
        "  <th>No. Observations:</th>      <td>     7</td>      <th>  AIC:               </th> <td>   7.854</td>\n",
        "</tr>\n",
        "<tr>\n",
        "  <th>Df Residuals:</th>          <td>     5</td>      <th>  BIC:               </th> <td>   7.745</td>\n",
        "</tr>\n",
        "<tr>\n",
        "  <th>Df Model:</th>              <td>     1</td>      <th>                     </th>     <td> </td>   \n",
        "</tr>\n",
        "</table>\n",
        "<table class=\"simpletable\">\n",
        "<tr>\n",
        "    <td></td>       <th>coef</th>     <th>std err</th>      <th>t</th>      <th>P>|t|</th> <th>[95.0% Conf. Int.]</th> \n",
        "</tr>\n",
        "<tr>\n",
        "  <th>x1</th>    <td>   -1.0965</td> <td>    0.237</td> <td>   -4.635</td> <td> 0.006</td> <td>   -1.705    -0.488</td>\n",
        "</tr>\n",
        "<tr>\n",
        "  <th>const</th> <td>    0.5022</td> <td>    0.144</td> <td>    3.479</td> <td> 0.018</td> <td>    0.131     0.873</td>\n",
        "</tr>\n",
        "</table>\n",
        "<table class=\"simpletable\">\n",
        "<tr>\n",
        "  <th>Omnibus:</th>       <td>   nan</td> <th>  Durbin-Watson:     </th> <td>   1.343</td>\n",
        "</tr>\n",
        "<tr>\n",
        "  <th>Prob(Omnibus):</th> <td>   nan</td> <th>  Jarque-Bera (JB):  </th> <td>   0.286</td>\n",
        "</tr>\n",
        "<tr>\n",
        "  <th>Skew:</th>          <td>-0.488</td> <th>  Prob(JB):          </th> <td>   0.867</td>\n",
        "</tr>\n",
        "<tr>\n",
        "  <th>Kurtosis:</th>      <td> 2.842</td> <th>  Cond. No.          </th> <td>    1.68</td>\n",
        "</tr>\n",
        "</table>"
       ],
       "metadata": {},
       "output_type": "pyout",
       "prompt_number": 86,
       "text": [
        "<class 'statsmodels.iolib.summary.Summary'>\n",
        "\"\"\"\n",
        "                            OLS Regression Results                            \n",
        "==============================================================================\n",
        "Dep. Variable:                      y   R-squared:                       0.811\n",
        "Model:                            OLS   Adj. R-squared:                  0.773\n",
        "Method:                 Least Squares   F-statistic:                     21.48\n",
        "Date:                Mon, 20 Oct 2014   Prob (F-statistic):            0.00566\n",
        "Time:                        21:40:11   Log-Likelihood:                -1.9268\n",
        "No. Observations:                   7   AIC:                             7.854\n",
        "Df Residuals:                       5   BIC:                             7.745\n",
        "Df Model:                           1                                         \n",
        "==============================================================================\n",
        "                 coef    std err          t      P>|t|      [95.0% Conf. Int.]\n",
        "------------------------------------------------------------------------------\n",
        "x1            -1.0965      0.237     -4.635      0.006        -1.705    -0.488\n",
        "const          0.5022      0.144      3.479      0.018         0.131     0.873\n",
        "==============================================================================\n",
        "Omnibus:                          nan   Durbin-Watson:                   1.343\n",
        "Prob(Omnibus):                    nan   Jarque-Bera (JB):                0.286\n",
        "Skew:                          -0.488   Prob(JB):                        0.867\n",
        "Kurtosis:                       2.842   Cond. No.                         1.68\n",
        "==============================================================================\n",
        "\"\"\""
       ]
      }
     ],
     "prompt_number": 86
    },
    {
     "cell_type": "markdown",
     "metadata": {},
     "source": [
      "### Linear fit"
     ]
    },
    {
     "cell_type": "code",
     "collapsed": false,
     "input": [
      "plt.figure(figsize = (6,6));\n",
      "plt.plot(x, y, 'o');\n",
      "xx = np.linspace(-1.25,1.25,100)\n",
      "plt.plot(xx, res.predict(np.vander(xx,2)), 'r-');\n",
      "plt.title('blue: true,   red: OLS');"
     ],
     "language": "python",
     "metadata": {},
     "outputs": [
      {
       "metadata": {},
       "output_type": "display_data",
       "png": "[encoded data removed]",
       "text": [
        "<matplotlib.figure.Figure at 0xa93fc68c>"
       ]
      }
     ],
     "prompt_number": 87
    },
    {
     "cell_type": "markdown",
     "metadata": {},
     "source": [
      "### Quadratic"
     ]
    },
    {
     "cell_type": "code",
     "collapsed": false,
     "input": [
      "X = np.c_[x**2, x, np.ones(len(x))]\n",
      "res = sm.OLS(y, X).fit()\n",
      "\n",
      "plt.figure(figsize = (6,6));\n",
      "plt.plot(x, y, 'o');\n",
      "xx = np.linspace(-1.25,1.25,100)\n",
      "plt.plot(xx, res.predict(np.vander(xx,3)), 'r-');\n",
      "plt.title('blue: true,   red: OLS');"
     ],
     "language": "python",
     "metadata": {},
     "outputs": [
      {
       "metadata": {},
       "output_type": "display_data",
       "png": "[encoded data removed]",
       "text": [
        "<matplotlib.figure.Figure at 0xa8e7b14c>"
       ]
      }
     ],
     "prompt_number": 88
    },
    {
     "cell_type": "markdown",
     "metadata": {},
     "source": [
      "### Quintic"
     ]
    },
    {
     "cell_type": "code",
     "collapsed": false,
     "input": [
      "X = np.c_[x**5, x**4, x**3, x**2, x, np.ones(len(x))]\n",
      "res = sm.OLS(y, X).fit()\n",
      "\n",
      "plt.figure(figsize = (6,6));\n",
      "plt.plot(x, y, 'o');\n",
      "xx = np.linspace(-1.25,1.1,100)\n",
      "plt.plot(xx, res.predict(np.vander(xx,6)), 'r-');\n",
      "plt.title('blue: true,   red: OLS');"
     ],
     "language": "python",
     "metadata": {},
     "outputs": [
      {
       "metadata": {},
       "output_type": "display_data",
       "png": "[encoded data removed]",
       "text": [
        "<matplotlib.figure.Figure at 0xa93b33ec>"
       ]
      }
     ],
     "prompt_number": 89
    },
    {
     "cell_type": "markdown",
     "metadata": {},
     "source": [
      "## Regularization"
     ]
    },
    {
     "cell_type": "code",
     "collapsed": false,
     "input": [
      "from sklearn.linear_model import Ridge, Lasso"
     ],
     "language": "python",
     "metadata": {},
     "outputs": [],
     "prompt_number": 90
    },
    {
     "cell_type": "code",
     "collapsed": false,
     "input": [
      "ridge = Ridge(alpha = 10.)\n",
      "ridge.fit(np.vander(x, 6), y)\n",
      "\n",
      "lasso = Lasso(alpha = 0.1)\n",
      "lasso.fit(np.vander(x, 6), y)\n",
      "\n",
      "plt.figure(figsize = (6,6));\n",
      "plt.plot(x, y, 'o');\n",
      "xx = np.linspace(-1.25,1.1,100)\n",
      "plt.plot(xx, res.predict(np.vander(xx,6)), 'r-');\n",
      "plt.plot(xx,  ridge.predict(np.vander(xx, 6)), 'g-', label='Ridge');\n",
      "plt.plot(xx,  lasso.predict(np.vander(xx, 6)), 'c-', label='Lasso');\n",
      "plt.legend(loc='best')"
     ],
     "language": "python",
     "metadata": {},
     "outputs": [
      {
       "metadata": {},
       "output_type": "pyout",
       "prompt_number": 93,
       "text": [
        "<matplotlib.legend.Legend at 0xa914b8ec>"
       ]
      },
      {
       "metadata": {},
       "output_type": "display_data",
       "png": "[encoded data removed]",
       "text": [
        "<matplotlib.figure.Figure at 0xa91c50ac>"
       ]
      }
     ],
     "prompt_number": 93
    },
    {
     "cell_type": "code",
     "collapsed": false,
     "input": [],
     "language": "python",
     "metadata": {},
     "outputs": [],
     "prompt_number": 74
    },
    {
     "cell_type": "code",
     "collapsed": false,
     "input": [],
     "language": "python",
     "metadata": {},
     "outputs": [],
     "prompt_number": 74
    },
    {
     "cell_type": "code",
     "collapsed": false,
     "input": [],
     "language": "python",
     "metadata": {},
     "outputs": []
    }
   ],
   "metadata": {}
  }
 ]
}